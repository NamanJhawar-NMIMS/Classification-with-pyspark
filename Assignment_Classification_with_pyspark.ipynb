{
  "nbformat": 4,
  "nbformat_minor": 0,
  "metadata": {
    "colab": {
      "name": "Assignment: Classification with pyspark.ipynb",
      "provenance": [],
      "collapsed_sections": [],
      "authorship_tag": "ABX9TyOJqQQuim5HHDJnPNLo6bEw",
      "include_colab_link": true
    },
    "kernelspec": {
      "name": "python3",
      "display_name": "Python 3"
    },
    "language_info": {
      "name": "python"
    }
  },
  "cells": [
    {
      "cell_type": "markdown",
      "metadata": {
        "id": "view-in-github",
        "colab_type": "text"
      },
      "source": [
        "<a href=\"https://colab.research.google.com/github/NamanJhawar-NMIMS/Classification-with-pyspark/blob/main/Assignment_Classification_with_pyspark.ipynb\" target=\"_parent\"><img src=\"https://colab.research.google.com/assets/colab-badge.svg\" alt=\"Open In Colab\"/></a>"
      ]
    },
    {
      "cell_type": "code",
      "execution_count": 1,
      "metadata": {
        "colab": {
          "base_uri": "https://localhost:8080/"
        },
        "id": "DXFYp3cdWXO_",
        "outputId": "231aa5d3-0bba-466f-ad14-cb3e66a76389"
      },
      "outputs": [
        {
          "output_type": "stream",
          "name": "stdout",
          "text": [
            "Looking in indexes: https://pypi.org/simple, https://us-python.pkg.dev/colab-wheels/public/simple/\n",
            "Collecting pyspark\n",
            "  Downloading pyspark-3.3.0.tar.gz (281.3 MB)\n",
            "\u001b[K     |████████████████████████████████| 281.3 MB 41 kB/s \n",
            "\u001b[?25hCollecting py4j==0.10.9.5\n",
            "  Downloading py4j-0.10.9.5-py2.py3-none-any.whl (199 kB)\n",
            "\u001b[K     |████████████████████████████████| 199 kB 38.3 MB/s \n",
            "\u001b[?25hBuilding wheels for collected packages: pyspark\n",
            "  Building wheel for pyspark (setup.py) ... \u001b[?25l\u001b[?25hdone\n",
            "  Created wheel for pyspark: filename=pyspark-3.3.0-py2.py3-none-any.whl size=281764026 sha256=b4df436383248daa960ab3106d29ab124a1692bd181dc4fea88d2f7506d134ec\n",
            "  Stored in directory: /root/.cache/pip/wheels/7a/8e/1b/f73a52650d2e5f337708d9f6a1750d451a7349a867f928b885\n",
            "Successfully built pyspark\n",
            "Installing collected packages: py4j, pyspark\n",
            "Successfully installed py4j-0.10.9.5 pyspark-3.3.0\n"
          ]
        }
      ],
      "source": [
        "pip install pyspark"
      ]
    },
    {
      "cell_type": "code",
      "source": [
        "pip install wget"
      ],
      "metadata": {
        "colab": {
          "base_uri": "https://localhost:8080/"
        },
        "id": "LfO9EpwkdW1x",
        "outputId": "2994cae2-6d0f-4c6b-a449-09ea9530e3de"
      },
      "execution_count": 2,
      "outputs": [
        {
          "output_type": "stream",
          "name": "stdout",
          "text": [
            "Looking in indexes: https://pypi.org/simple, https://us-python.pkg.dev/colab-wheels/public/simple/\n",
            "Collecting wget\n",
            "  Downloading wget-3.2.zip (10 kB)\n",
            "Building wheels for collected packages: wget\n",
            "  Building wheel for wget (setup.py) ... \u001b[?25l\u001b[?25hdone\n",
            "  Created wheel for wget: filename=wget-3.2-py3-none-any.whl size=9675 sha256=adac95a3c7ac6084da81261e3baeaba05d9710e28b75e6bcd5ed09b38cd983b3\n",
            "  Stored in directory: /root/.cache/pip/wheels/a1/b6/7c/0e63e34eb06634181c63adacca38b79ff8f35c37e3c13e3c02\n",
            "Successfully built wget\n",
            "Installing collected packages: wget\n",
            "Successfully installed wget-3.2\n"
          ]
        }
      ]
    },
    {
      "cell_type": "code",
      "source": [
        "try:\n",
        "  import pyspark\n",
        "except:\n",
        "  !pip install pyspark\n",
        "  !pip install wget\n",
        "  \n",
        "from pyspark.sql import SparkSession\n",
        "import wget\n",
        "import pandas as pd\n",
        "import numpy as np\n",
        "import seaborn as sns\n",
        "import matplotlib.pyplot as plt\n",
        "\n",
        "from pyspark.sql.functions import col,isnan, when, count\n",
        "from pyspark.sql.types import IntegerType,BooleanType,DateType\n",
        "\n",
        "from pyspark.ml.feature import Imputer, StringIndexer,SQLTransformer,Binarizer,RegexTokenizer\n",
        "from pyspark.ml.feature import IndexToString,OneHotEncoder,Normalizer,StandardScaler,Bucketizer,QuantileDiscretizer, VectorAssembler\n",
        "from pyspark.ml.pipeline import Pipeline\n",
        "\n",
        "%matplotlib inline"
      ],
      "metadata": {
        "id": "4EyCJtOFdX1S",
        "colab": {
          "base_uri": "https://localhost:8080/"
        },
        "outputId": "d97c7bbc-77d5-498b-b703-ec11fa9f8c22"
      },
      "execution_count": 2,
      "outputs": [
        {
          "output_type": "stream",
          "name": "stdout",
          "text": [
            "Looking in indexes: https://pypi.org/simple, https://us-python.pkg.dev/colab-wheels/public/simple/\n",
            "Collecting pyspark\n",
            "  Downloading pyspark-3.3.0.tar.gz (281.3 MB)\n",
            "\u001b[K     |████████████████████████████████| 281.3 MB 60 kB/s \n",
            "\u001b[?25hCollecting py4j==0.10.9.5\n",
            "  Downloading py4j-0.10.9.5-py2.py3-none-any.whl (199 kB)\n",
            "\u001b[K     |████████████████████████████████| 199 kB 74.4 MB/s \n",
            "\u001b[?25hBuilding wheels for collected packages: pyspark\n",
            "  Building wheel for pyspark (setup.py) ... \u001b[?25l\u001b[?25hdone\n",
            "  Created wheel for pyspark: filename=pyspark-3.3.0-py2.py3-none-any.whl size=281764026 sha256=ddfc33098fc8b39f75e7e07c387514b21c5db89348bb40cc0d184c13dcaeb776\n",
            "  Stored in directory: /root/.cache/pip/wheels/7a/8e/1b/f73a52650d2e5f337708d9f6a1750d451a7349a867f928b885\n",
            "Successfully built pyspark\n",
            "Installing collected packages: py4j, pyspark\n",
            "Successfully installed py4j-0.10.9.5 pyspark-3.3.0\n",
            "Looking in indexes: https://pypi.org/simple, https://us-python.pkg.dev/colab-wheels/public/simple/\n",
            "Collecting wget\n",
            "  Downloading wget-3.2.zip (10 kB)\n",
            "Building wheels for collected packages: wget\n",
            "  Building wheel for wget (setup.py) ... \u001b[?25l\u001b[?25hdone\n",
            "  Created wheel for wget: filename=wget-3.2-py3-none-any.whl size=9675 sha256=eef1211e99ee08e8d89b6b096766ed4586990259c8294377bfc641658dc05223\n",
            "  Stored in directory: /root/.cache/pip/wheels/a1/b6/7c/0e63e34eb06634181c63adacca38b79ff8f35c37e3c13e3c02\n",
            "Successfully built wget\n",
            "Installing collected packages: wget\n",
            "Successfully installed wget-3.2\n"
          ]
        }
      ]
    },
    {
      "cell_type": "code",
      "source": [
        "session=SparkSession.builder.appName(\"Classification\").master(\"local\").getOrCreate()"
      ],
      "metadata": {
        "id": "A_pdvqxQdrwo"
      },
      "execution_count": 3,
      "outputs": []
    },
    {
      "cell_type": "code",
      "source": [
        "dataset=session.read.csv(wget.download(\"https://raw.githubusercontent.com/NamanJhawar-NMIMS/Classification-with-pyspark/main/watson_healthcare_attrition.csv\"),header=True,inferSchema=True)"
      ],
      "metadata": {
        "id": "BE7bXtydeHTy"
      },
      "execution_count": 194,
      "outputs": []
    },
    {
      "cell_type": "code",
      "source": [
        "original_columns=list(dataset.columns)"
      ],
      "metadata": {
        "id": "qZGqDYT0glWi"
      },
      "execution_count": 195,
      "outputs": []
    },
    {
      "cell_type": "code",
      "source": [
        "dataset.show(5)"
      ],
      "metadata": {
        "colab": {
          "base_uri": "https://localhost:8080/"
        },
        "id": "DCqErV-uendn",
        "outputId": "46d458f3-08c6-4956-8226-049578053cfa"
      },
      "execution_count": 196,
      "outputs": [
        {
          "output_type": "stream",
          "name": "stdout",
          "text": [
            "+----------+---+---------+-----------------+---------+----------+----------------+---------+--------------+-------------+-----------------------+------+----------+--------------+--------+-------+---------------+-------------+-------------+-----------+------------------+------+--------+-----------------+-----------------+------------------------+-------------+-----+-----------------+---------------------+---------------+--------------+------------------+-----------------------+--------------------+\n",
            "|EmployeeID|Age|Attrition|   BusinessTravel|DailyRate|Department|DistanceFromHome|Education|EducationField|EmployeeCount|EnvironmentSatisfaction|Gender|HourlyRate|JobInvolvement|JobLevel|JobRole|JobSatisfaction|MaritalStatus|MonthlyIncome|MonthlyRate|NumCompaniesWorked|Over18|OverTime|PercentSalaryHike|PerformanceRating|RelationshipSatisfaction|StandardHours|Shift|TotalWorkingYears|TrainingTimesLastYear|WorkLifeBalance|YearsAtCompany|YearsInCurrentRole|YearsSinceLastPromotion|YearsWithCurrManager|\n",
            "+----------+---+---------+-----------------+---------+----------+----------------+---------+--------------+-------------+-----------------------+------+----------+--------------+--------+-------+---------------+-------------+-------------+-----------+------------------+------+--------+-----------------+-----------------+------------------------+-------------+-----+-----------------+---------------------+---------------+--------------+------------------+-----------------------+--------------------+\n",
            "|   1313919| 41|       No|    Travel_Rarely|     1102|Cardiology|            1 km|        2| Life Sciences|            1|                      2|Female|        94|             3|       2|  Nurse|              4|       Single|         5993|      19479|                 8|     Y|     Yes|               11|                3|                       1|           80|    0|                8|                    0|              1|             6|                 4|                      0|                   5|\n",
            "|   1200302| 49|       No|Travel_Frequently|      279| Maternity|            8 km|        1| Life Sciences|            1|                      3|  Male|        61|             2|       2|  Other|              2|      Married|         5130|      24907|                 1|     Y|      No|               23|                4|                       4|           80|    1|               10|                    3|              3|            10|                 7|                      1|                   7|\n",
            "|   1060315| 37|      Yes|    Travel_Rarely|     1373| Maternity|            2 km|        2|         Other|            1|                      4|  Male|        92|             2|       1|  Nurse|              3|       Single|         2090|       2396|                 6|     Y|     Yes|               15|                3|                       2|           80|    0|                7|                    3|              3|             0|                 0|                      0|                   0|\n",
            "|   1272912| 33|       No|Travel_Frequently|     1392| Maternity|            3 km|        4| Life Sciences|            1|                      4|Female|        56|             3|       1|  Other|              3|      Married|         2909|      23159|                 1|     Y|     Yes|               11|                3|                       3|           80|    0|                8|                    3|              3|             8|                 7|                      3|                   0|\n",
            "|   1414939| 27|       No|    Travel_Rarely|      591| Maternity|            2 km|        1|       Medical|            1|                      1|  Male|        40|             3|       1|  Nurse|              2|      Married|         3468|      16632|                 9|     Y|      No|               12|                3|                       4|           80|    1|                6|                    3|              3|             2|                 2|                      2|                   2|\n",
            "+----------+---+---------+-----------------+---------+----------+----------------+---------+--------------+-------------+-----------------------+------+----------+--------------+--------+-------+---------------+-------------+-------------+-----------+------------------+------+--------+-----------------+-----------------+------------------------+-------------+-----+-----------------+---------------------+---------------+--------------+------------------+-----------------------+--------------------+\n",
            "only showing top 5 rows\n",
            "\n"
          ]
        }
      ]
    },
    {
      "cell_type": "code",
      "source": [
        "dataset.count()"
      ],
      "metadata": {
        "id": "N9_DywUXeovl",
        "colab": {
          "base_uri": "https://localhost:8080/"
        },
        "outputId": "e22f6dad-ae2d-460e-8bee-f07baeca0ef1"
      },
      "execution_count": 173,
      "outputs": [
        {
          "output_type": "execute_result",
          "data": {
            "text/plain": [
              "1676"
            ]
          },
          "metadata": {},
          "execution_count": 173
        }
      ]
    },
    {
      "cell_type": "code",
      "source": [
        "print(f\"Shape of Data:\\n{dataset.count(),len(dataset.columns)}\")"
      ],
      "metadata": {
        "colab": {
          "base_uri": "https://localhost:8080/"
        },
        "id": "3Lf126SahIma",
        "outputId": "414702e7-1cc6-4eac-94d0-a067d02a9310"
      },
      "execution_count": 197,
      "outputs": [
        {
          "output_type": "stream",
          "name": "stdout",
          "text": [
            "Shape of Data:\n",
            "(1676, 35)\n"
          ]
        }
      ]
    },
    {
      "cell_type": "code",
      "source": [
        "dataset.printSchema()"
      ],
      "metadata": {
        "colab": {
          "base_uri": "https://localhost:8080/"
        },
        "id": "rBvvjpfeWA5R",
        "outputId": "0103fd27-f522-4e47-8818-561c30b8ac7a"
      },
      "execution_count": 198,
      "outputs": [
        {
          "output_type": "stream",
          "name": "stdout",
          "text": [
            "root\n",
            " |-- EmployeeID: integer (nullable = true)\n",
            " |-- Age: integer (nullable = true)\n",
            " |-- Attrition: string (nullable = true)\n",
            " |-- BusinessTravel: string (nullable = true)\n",
            " |-- DailyRate: integer (nullable = true)\n",
            " |-- Department: string (nullable = true)\n",
            " |-- DistanceFromHome: string (nullable = true)\n",
            " |-- Education: integer (nullable = true)\n",
            " |-- EducationField: string (nullable = true)\n",
            " |-- EmployeeCount: integer (nullable = true)\n",
            " |-- EnvironmentSatisfaction: integer (nullable = true)\n",
            " |-- Gender: string (nullable = true)\n",
            " |-- HourlyRate: integer (nullable = true)\n",
            " |-- JobInvolvement: integer (nullable = true)\n",
            " |-- JobLevel: integer (nullable = true)\n",
            " |-- JobRole: string (nullable = true)\n",
            " |-- JobSatisfaction: integer (nullable = true)\n",
            " |-- MaritalStatus: string (nullable = true)\n",
            " |-- MonthlyIncome: integer (nullable = true)\n",
            " |-- MonthlyRate: integer (nullable = true)\n",
            " |-- NumCompaniesWorked: integer (nullable = true)\n",
            " |-- Over18: string (nullable = true)\n",
            " |-- OverTime: string (nullable = true)\n",
            " |-- PercentSalaryHike: integer (nullable = true)\n",
            " |-- PerformanceRating: integer (nullable = true)\n",
            " |-- RelationshipSatisfaction: integer (nullable = true)\n",
            " |-- StandardHours: integer (nullable = true)\n",
            " |-- Shift: integer (nullable = true)\n",
            " |-- TotalWorkingYears: integer (nullable = true)\n",
            " |-- TrainingTimesLastYear: integer (nullable = true)\n",
            " |-- WorkLifeBalance: integer (nullable = true)\n",
            " |-- YearsAtCompany: integer (nullable = true)\n",
            " |-- YearsInCurrentRole: integer (nullable = true)\n",
            " |-- YearsSinceLastPromotion: integer (nullable = true)\n",
            " |-- YearsWithCurrManager: integer (nullable = true)\n",
            "\n"
          ]
        }
      ]
    },
    {
      "cell_type": "code",
      "source": [
        "dataset.describe().show()"
      ],
      "metadata": {
        "colab": {
          "base_uri": "https://localhost:8080/"
        },
        "id": "R_N2jCgYWCkA",
        "outputId": "62d39159-b6d5-4382-d0d0-b055f2cee1c3"
      },
      "execution_count": 199,
      "outputs": [
        {
          "output_type": "stream",
          "name": "stdout",
          "text": [
            "+-------+------------------+-----------------+---------+--------------+-----------------+----------+----------------+------------------+----------------+-------------+-----------------------+------+-----------------+------------------+------------------+---------+------------------+-------------+-----------------+-----------------+------------------+------+--------+------------------+------------------+------------------------+-------------+------------------+-----------------+---------------------+------------------+-----------------+------------------+-----------------------+--------------------+\n",
            "|summary|        EmployeeID|              Age|Attrition|BusinessTravel|        DailyRate|Department|DistanceFromHome|         Education|  EducationField|EmployeeCount|EnvironmentSatisfaction|Gender|       HourlyRate|    JobInvolvement|          JobLevel|  JobRole|   JobSatisfaction|MaritalStatus|    MonthlyIncome|      MonthlyRate|NumCompaniesWorked|Over18|OverTime| PercentSalaryHike| PerformanceRating|RelationshipSatisfaction|StandardHours|             Shift|TotalWorkingYears|TrainingTimesLastYear|   WorkLifeBalance|   YearsAtCompany|YearsInCurrentRole|YearsSinceLastPromotion|YearsWithCurrManager|\n",
            "+-------+------------------+-----------------+---------+--------------+-----------------+----------+----------------+------------------+----------------+-------------+-----------------------+------+-----------------+------------------+------------------+---------+------------------+-------------+-----------------+-----------------+------------------+------+--------+------------------+------------------+------------------------+-------------+------------------+-----------------+---------------------+------------------+-----------------+------------------+-----------------------+--------------------+\n",
            "|  count|              1676|             1664|     1676|          1676|             1660|      1676|            1676|              1676|            1676|         1676|                   1676|  1676|             1676|              1676|              1676|     1676|              1676|         1673|             1676|             1676|              1676|  1676|    1676|              1676|              1676|                    1676|         1676|              1676|             1676|                 1673|              1676|             1676|              1676|                   1676|                1676|\n",
            "|   mean|1456795.7207637231|36.90865384615385|     null|          null|803.2373493975904|      null|            null|2.9075178997613365|            null|          1.0|      2.714797136038186|  null|65.47016706443914|2.7249403341288785|2.0668257756563246|     null|2.7386634844868736|         null|6516.512529832936|14287.01968973747| 2.662291169451074|  null|    null| 15.19689737470167|3.1503579952267304|      2.7183770883054894|         80.0|0.8060859188544153|11.33890214797136|   2.8063359234907352|2.7661097852028638|7.033412887828162|  4.26491646778043|      2.200477326968974|   4.135441527446301|\n",
            "| stddev|248748.62438255013|9.014057151399268|     null|          null|  400.20150175108|      null|            null|1.0258350146545725|            null|          0.0|      1.097534014983373|  null|20.20757222271522|0.7141208953351504| 1.113422989750691|     null|1.1040048145593835|         null|4728.456618272787|7138.857783228654| 2.477704378293447|  null|    null|3.6465501067998565|0.3575286526063966|      1.0781615047184856|          0.0|0.8555273920709324|7.834996255033527|   1.2892759826106757|0.7023691404329718|6.098990808531865| 3.627455593466369|     3.2295870646018856|  3.5596624670836383|\n",
            "|    min|           1025177|               19|       No|    Non-Travel|              102|Cardiology|            1 km|                 1| Human Resources|            1|                      1|Female|               30|                 1|                 1|    Admin|                 1|     Divorced|             1009|             2094|                 0|     Y|      No|                11|                 3|                       1|           80|                 0|                0|                    0|                 1|                0|                 0|                      0|                   0|\n",
            "|    max|           1886378|               60|      Yes| Travel_Rarely|             1499| Neurology|            9 km|                 5|Technical Degree|            1|                      4|  Male|              100|                 4|                 5|Therapist|                 4|       Single|            19999|            26999|                 9|     Y|     Yes|                25|                 4|                       4|           80|                 3|               40|                    6|                 4|               40|                18|                     15|                  17|\n",
            "+-------+------------------+-----------------+---------+--------------+-----------------+----------+----------------+------------------+----------------+-------------+-----------------------+------+-----------------+------------------+------------------+---------+------------------+-------------+-----------------+-----------------+------------------+------+--------+------------------+------------------+------------------------+-------------+------------------+-----------------+---------------------+------------------+-----------------+------------------+-----------------------+--------------------+\n",
            "\n"
          ]
        }
      ]
    },
    {
      "cell_type": "code",
      "source": [
        "print(f\"Number of columns: {len(dataset.columns)}\")"
      ],
      "metadata": {
        "colab": {
          "base_uri": "https://localhost:8080/"
        },
        "id": "MfVI8glBWZNQ",
        "outputId": "b3b6aa06-0b97-4bcc-a457-e7529856d270"
      },
      "execution_count": 200,
      "outputs": [
        {
          "output_type": "stream",
          "name": "stdout",
          "text": [
            "Number of columns: 35\n"
          ]
        }
      ]
    },
    {
      "cell_type": "code",
      "source": [
        "df_dataset=pd.read_csv('watson_healthcare_attrition.csv')\n"
      ],
      "metadata": {
        "id": "FbyKQIt9Ye7f"
      },
      "execution_count": 201,
      "outputs": []
    },
    {
      "cell_type": "code",
      "source": [
        "df_temp=(df_dataset.isnull().sum()).to_frame()\n",
        "df_temp[df_temp[0]>0]\n",
        "columns_with_missing_values=list(df_temp[df_temp[0]>0].index)"
      ],
      "metadata": {
        "id": "PCwo34FnYy6k"
      },
      "execution_count": 202,
      "outputs": []
    },
    {
      "cell_type": "code",
      "source": [
        "dataset[columns_with_missing_values].printSchema()\n",
        "\n",
        "# There are 3 integer variables with missing values\n",
        "# There are 1 string variables with missing values"
      ],
      "metadata": {
        "colab": {
          "base_uri": "https://localhost:8080/"
        },
        "id": "_p0zmvLbZ9EO",
        "outputId": "df09b9ad-c63f-410f-b646-170b839513aa"
      },
      "execution_count": 203,
      "outputs": [
        {
          "output_type": "stream",
          "name": "stdout",
          "text": [
            "root\n",
            " |-- Age: integer (nullable = true)\n",
            " |-- DailyRate: integer (nullable = true)\n",
            " |-- MaritalStatus: string (nullable = true)\n",
            " |-- TrainingTimesLastYear: integer (nullable = true)\n",
            "\n"
          ]
        }
      ]
    },
    {
      "cell_type": "code",
      "source": [
        "dataset.columns"
      ],
      "metadata": {
        "colab": {
          "base_uri": "https://localhost:8080/"
        },
        "id": "_mWPDaNWg_8j",
        "outputId": "d8a1745a-5735-47df-e27b-d98fca3788cd"
      },
      "execution_count": 204,
      "outputs": [
        {
          "output_type": "execute_result",
          "data": {
            "text/plain": [
              "['EmployeeID',\n",
              " 'Age',\n",
              " 'Attrition',\n",
              " 'BusinessTravel',\n",
              " 'DailyRate',\n",
              " 'Department',\n",
              " 'DistanceFromHome',\n",
              " 'Education',\n",
              " 'EducationField',\n",
              " 'EmployeeCount',\n",
              " 'EnvironmentSatisfaction',\n",
              " 'Gender',\n",
              " 'HourlyRate',\n",
              " 'JobInvolvement',\n",
              " 'JobLevel',\n",
              " 'JobRole',\n",
              " 'JobSatisfaction',\n",
              " 'MaritalStatus',\n",
              " 'MonthlyIncome',\n",
              " 'MonthlyRate',\n",
              " 'NumCompaniesWorked',\n",
              " 'Over18',\n",
              " 'OverTime',\n",
              " 'PercentSalaryHike',\n",
              " 'PerformanceRating',\n",
              " 'RelationshipSatisfaction',\n",
              " 'StandardHours',\n",
              " 'Shift',\n",
              " 'TotalWorkingYears',\n",
              " 'TrainingTimesLastYear',\n",
              " 'WorkLifeBalance',\n",
              " 'YearsAtCompany',\n",
              " 'YearsInCurrentRole',\n",
              " 'YearsSinceLastPromotion',\n",
              " 'YearsWithCurrManager']"
            ]
          },
          "metadata": {},
          "execution_count": 204
        }
      ]
    },
    {
      "cell_type": "code",
      "source": [
        "dataset.select([count(when(isnan(c) | col(c).isNull(), c)).alias(c) for c in dataset.columns]).show()"
      ],
      "metadata": {
        "colab": {
          "base_uri": "https://localhost:8080/",
          "height": 219
        },
        "id": "8ZJlp8M_aRwD",
        "outputId": "5203251d-5969-476f-c1f9-01e7b4b985b0"
      },
      "execution_count": 205,
      "outputs": [
        {
          "output_type": "error",
          "ename": "TypeError",
          "evalue": "ignored",
          "traceback": [
            "\u001b[0;31m---------------------------------------------------------------------------\u001b[0m",
            "\u001b[0;31mTypeError\u001b[0m                                 Traceback (most recent call last)",
            "\u001b[0;32m<ipython-input-205-4965f57df5ec>\u001b[0m in \u001b[0;36m<module>\u001b[0;34m\u001b[0m\n\u001b[0;32m----> 1\u001b[0;31m \u001b[0mdataset\u001b[0m\u001b[0;34m.\u001b[0m\u001b[0mselect\u001b[0m\u001b[0;34m(\u001b[0m\u001b[0;34m[\u001b[0m\u001b[0mcount\u001b[0m\u001b[0;34m(\u001b[0m\u001b[0mwhen\u001b[0m\u001b[0;34m(\u001b[0m\u001b[0misnan\u001b[0m\u001b[0;34m(\u001b[0m\u001b[0mc\u001b[0m\u001b[0;34m)\u001b[0m \u001b[0;34m|\u001b[0m \u001b[0mcol\u001b[0m\u001b[0;34m(\u001b[0m\u001b[0mc\u001b[0m\u001b[0;34m)\u001b[0m\u001b[0;34m.\u001b[0m\u001b[0misNull\u001b[0m\u001b[0;34m(\u001b[0m\u001b[0;34m)\u001b[0m\u001b[0;34m,\u001b[0m \u001b[0mc\u001b[0m\u001b[0;34m)\u001b[0m\u001b[0;34m)\u001b[0m\u001b[0;34m.\u001b[0m\u001b[0malias\u001b[0m\u001b[0;34m(\u001b[0m\u001b[0mc\u001b[0m\u001b[0;34m)\u001b[0m \u001b[0;32mfor\u001b[0m \u001b[0mc\u001b[0m \u001b[0;32min\u001b[0m \u001b[0mdataset\u001b[0m\u001b[0;34m.\u001b[0m\u001b[0mcolumns\u001b[0m\u001b[0;34m]\u001b[0m\u001b[0;34m)\u001b[0m\u001b[0;34m.\u001b[0m\u001b[0mshow\u001b[0m\u001b[0;34m(\u001b[0m\u001b[0;34m)\u001b[0m\u001b[0;34m\u001b[0m\u001b[0;34m\u001b[0m\u001b[0m\n\u001b[0m",
            "\u001b[0;32m<ipython-input-205-4965f57df5ec>\u001b[0m in \u001b[0;36m<listcomp>\u001b[0;34m(.0)\u001b[0m\n\u001b[0;32m----> 1\u001b[0;31m \u001b[0mdataset\u001b[0m\u001b[0;34m.\u001b[0m\u001b[0mselect\u001b[0m\u001b[0;34m(\u001b[0m\u001b[0;34m[\u001b[0m\u001b[0mcount\u001b[0m\u001b[0;34m(\u001b[0m\u001b[0mwhen\u001b[0m\u001b[0;34m(\u001b[0m\u001b[0misnan\u001b[0m\u001b[0;34m(\u001b[0m\u001b[0mc\u001b[0m\u001b[0;34m)\u001b[0m \u001b[0;34m|\u001b[0m \u001b[0mcol\u001b[0m\u001b[0;34m(\u001b[0m\u001b[0mc\u001b[0m\u001b[0;34m)\u001b[0m\u001b[0;34m.\u001b[0m\u001b[0misNull\u001b[0m\u001b[0;34m(\u001b[0m\u001b[0;34m)\u001b[0m\u001b[0;34m,\u001b[0m \u001b[0mc\u001b[0m\u001b[0;34m)\u001b[0m\u001b[0;34m)\u001b[0m\u001b[0;34m.\u001b[0m\u001b[0malias\u001b[0m\u001b[0;34m(\u001b[0m\u001b[0mc\u001b[0m\u001b[0;34m)\u001b[0m \u001b[0;32mfor\u001b[0m \u001b[0mc\u001b[0m \u001b[0;32min\u001b[0m \u001b[0mdataset\u001b[0m\u001b[0;34m.\u001b[0m\u001b[0mcolumns\u001b[0m\u001b[0;34m]\u001b[0m\u001b[0;34m)\u001b[0m\u001b[0;34m.\u001b[0m\u001b[0mshow\u001b[0m\u001b[0;34m(\u001b[0m\u001b[0;34m)\u001b[0m\u001b[0;34m\u001b[0m\u001b[0;34m\u001b[0m\u001b[0m\n\u001b[0m",
            "\u001b[0;31mTypeError\u001b[0m: 'str' object is not callable"
          ]
        }
      ]
    },
    {
      "cell_type": "markdown",
      "source": [
        "## Imputer"
      ],
      "metadata": {
        "id": "0ZyfTplLdD6F"
      }
    },
    {
      "cell_type": "code",
      "source": [
        "imputer = Imputer()\n",
        "imputer.setInputCols(list(set(columns_with_missing_values)-set(['MaritalStatus'])))\n",
        "imputer.setOutputCols([outcol+\"_imputed\" for outcol in list(set(columns_with_missing_values)-set(['MaritalStatus']))])\n",
        "imputer.setStrategy(\"median\")\n"
      ],
      "metadata": {
        "colab": {
          "base_uri": "https://localhost:8080/"
        },
        "id": "WsotKYnWdF0c",
        "outputId": "d1bfd844-3628-44e5-b974-e6f248b071df"
      },
      "execution_count": 206,
      "outputs": [
        {
          "output_type": "execute_result",
          "data": {
            "text/plain": [
              "Imputer_857a09dded78"
            ]
          },
          "metadata": {},
          "execution_count": 206
        }
      ]
    },
    {
      "cell_type": "markdown",
      "source": [
        "## Impute Categorical Variables\n",
        "\n",
        "This can be achived by first label encoding the categorical column and then using imputation."
      ],
      "metadata": {
        "id": "Co_GgkrZ9APQ"
      }
    },
    {
      "cell_type": "code",
      "source": [
        "stringIndexer_imputer=StringIndexer(inputCol='MaritalStatus',outputCol='MaritalStatus_indexed',stringOrderType=\"frequencyDesc\",handleInvalid='keep')\n"
      ],
      "metadata": {
        "id": "Rxau_6bL8-zh"
      },
      "execution_count": 207,
      "outputs": []
    },
    {
      "cell_type": "markdown",
      "source": [
        "## Pipeline"
      ],
      "metadata": {
        "id": "J3UAYHXYEEWN"
      }
    },
    {
      "cell_type": "code",
      "source": [
        "mypipeline_imputer=Pipeline(stages=[imputer,stringIndexer_imputer])\n",
        "dataset=mypipeline_imputer.fit(dataset).transform(dataset)\n"
      ],
      "metadata": {
        "id": "z5ZhGHhlEFKA"
      },
      "execution_count": 208,
      "outputs": []
    },
    {
      "cell_type": "code",
      "source": [
        "\n",
        "\"\"\"As the MaritalStatus_Indexed column has null values and we have handled the Invalid cells, we need to remove that category which has\n",
        "been created by the system to handle null values. In order to do that, we will convert the pyspark Dataframe into a pandas Dataframe and \n",
        "then replace the last category with null values\"\"\"\n",
        "\n",
        "pd_df=dataset.toPandas()\n",
        "pd_df.loc[pd_df[pd_df.MaritalStatus_indexed==3].index,\"MaritalStatus_indexed\"]=np.nan\n",
        "dataset=session.createDataFrame(pd_df)\n",
        "\n",
        "imputer_category=Imputer(inputCol=\"MaritalStatus_indexed\",outputCol='MaritalStatus_indexed_imputed',strategy=\"mode\")\n",
        "\n",
        "mypipeline=Pipeline(stages=[imputer_category])\n",
        "dataset=mypipeline.fit(dataset).transform(dataset)\n",
        "\n",
        "# drop the columns that are not needed\n",
        "\n",
        "dataset=dataset.drop(\"MaritalStatus_indexed\")\n",
        "dataset.show()"
      ],
      "metadata": {
        "colab": {
          "base_uri": "https://localhost:8080/"
        },
        "id": "ihfOast7iKx2",
        "outputId": "6ddc76a7-8f91-454f-d9aa-f46c2665ae6d"
      },
      "execution_count": 209,
      "outputs": [
        {
          "output_type": "stream",
          "name": "stdout",
          "text": [
            "+----------+----+---------+-----------------+---------+----------+----------------+---------+--------------+-------------+-----------------------+------+----------+--------------+--------+--------------+---------------+-------------+-------------+-----------+------------------+------+--------+-----------------+-----------------+------------------------+-------------+-----+-----------------+---------------------+---------------+--------------+------------------+-----------------------+--------------------+-----------------+-----------------------------+-----------+-----------------------------+\n",
            "|EmployeeID| Age|Attrition|   BusinessTravel|DailyRate|Department|DistanceFromHome|Education|EducationField|EmployeeCount|EnvironmentSatisfaction|Gender|HourlyRate|JobInvolvement|JobLevel|       JobRole|JobSatisfaction|MaritalStatus|MonthlyIncome|MonthlyRate|NumCompaniesWorked|Over18|OverTime|PercentSalaryHike|PerformanceRating|RelationshipSatisfaction|StandardHours|Shift|TotalWorkingYears|TrainingTimesLastYear|WorkLifeBalance|YearsAtCompany|YearsInCurrentRole|YearsSinceLastPromotion|YearsWithCurrManager|DailyRate_imputed|TrainingTimesLastYear_imputed|Age_imputed|MaritalStatus_indexed_imputed|\n",
            "+----------+----+---------+-----------------+---------+----------+----------------+---------+--------------+-------------+-----------------------+------+----------+--------------+--------+--------------+---------------+-------------+-------------+-----------+------------------+------+--------+-----------------+-----------------+------------------------+-------------+-----+-----------------+---------------------+---------------+--------------+------------------+-----------------------+--------------------+-----------------+-----------------------------+-----------+-----------------------------+\n",
            "|   1313919|41.0|       No|    Travel_Rarely|   1102.0|Cardiology|            1 km|        2| Life Sciences|            1|                      2|Female|        94|             3|       2|         Nurse|              4|       Single|         5993|      19479|                 8|     Y|     Yes|               11|                3|                       1|           80|    0|                8|                  0.0|              1|             6|                 4|                      0|                   5|             1102|                            0|         41|                          1.0|\n",
            "|   1200302|49.0|       No|Travel_Frequently|    279.0| Maternity|            8 km|        1| Life Sciences|            1|                      3|  Male|        61|             2|       2|         Other|              2|      Married|         5130|      24907|                 1|     Y|      No|               23|                4|                       4|           80|    1|               10|                  3.0|              3|            10|                 7|                      1|                   7|              279|                            3|         49|                          0.0|\n",
            "|   1060315|37.0|      Yes|    Travel_Rarely|   1373.0| Maternity|            2 km|        2|         Other|            1|                      4|  Male|        92|             2|       1|         Nurse|              3|       Single|         2090|       2396|                 6|     Y|     Yes|               15|                3|                       2|           80|    0|                7|                  3.0|              3|             0|                 0|                      0|                   0|             1373|                            3|         37|                          1.0|\n",
            "|   1272912|33.0|       No|Travel_Frequently|   1392.0| Maternity|            3 km|        4| Life Sciences|            1|                      4|Female|        56|             3|       1|         Other|              3|      Married|         2909|      23159|                 1|     Y|     Yes|               11|                3|                       3|           80|    0|                8|                  3.0|              3|             8|                 7|                      3|                   0|             1392|                            3|         33|                          0.0|\n",
            "|   1414939|27.0|       No|    Travel_Rarely|    591.0| Maternity|            2 km|        1|       Medical|            1|                      1|  Male|        40|             3|       1|         Nurse|              2|      Married|         3468|      16632|                 9|     Y|      No|               12|                3|                       4|           80|    1|                6|                  3.0|              3|             2|                 2|                      2|                   2|              591|                            3|         27|                          0.0|\n",
            "|   1633361|32.0|       No|Travel_Frequently|   1005.0| Maternity|            2 km|        2| Life Sciences|            1|                      4|  Male|        79|             3|       1|         Nurse|              4|       Single|         3068|      11864|                 0|     Y|      No|               13|                3|                       3|           80|    0|                8|                  2.0|              2|             7|                 7|                      3|                   6|             1005|                            2|         32|                          1.0|\n",
            "|   1329390|59.0|       No|    Travel_Rarely|   1324.0| Maternity|            3 km|        3|       Medical|            1|                      3|Female|        81|             4|       1|         Nurse|              1|      Married|         2670|       9964|                 4|     Y|     Yes|               20|                4|                       1|           80|    3|               12|                  3.0|              2|             1|                 0|                      0|                   0|             1324|                            3|         59|                          0.0|\n",
            "|   1699288|30.0|       No|    Travel_Rarely|   1358.0| Maternity|           24 km|        1| Life Sciences|            1|                      4|  Male|        67|             3|       1|         Nurse|              3|     Divorced|         2693|      13335|                 1|     Y|      No|               22|                4|                       2|           80|    1|                1|                  2.0|              3|             1|                 0|                      0|                   0|             1358|                            2|         30|                          2.0|\n",
            "|   1469740|38.0|       No|Travel_Frequently|    216.0| Maternity|           23 km|        3| Life Sciences|            1|                      4|  Male|        44|             2|       3|     Therapist|              3|       Single|         9526|       8787|                 0|     Y|      No|               21|                4|                       2|           80|    0|               10|                  2.0|              3|             9|                 7|                      1|                   8|              216|                            2|         38|                          1.0|\n",
            "|   1101291|36.0|       No|    Travel_Rarely|   1299.0| Maternity|           27 km|        3|       Medical|            1|                      3|  Male|        94|             3|       2|         Nurse|              3|      Married|         5237|      16577|                 6|     Y|      No|               13|                3|                       2|           80|    2|               17|                  3.0|              2|             7|                 7|                      7|                   7|             1299|                            3|         36|                          0.0|\n",
            "|   1430504|35.0|       No|    Travel_Rarely|    809.0| Maternity|           16 km|        3|       Medical|            1|                      1|  Male|        84|             4|       1|         Nurse|              2|      Married|         2426|      16479|                 0|     Y|      No|               13|                3|                       3|           80|    1|                6|                  5.0|              3|             5|                 4|                      0|                   3|              809|                            5|         35|                          0.0|\n",
            "|   1196281|29.0|       No|    Travel_Rarely|    153.0| Maternity|           15 km|        2| Life Sciences|            1|                      4|Female|        49|             2|       2|         Nurse|              3|       Single|         4193|      12682|                 0|     Y|     Yes|               12|                3|                       4|           80|    0|               10|                  3.0|              3|             9|                 5|                      0|                   8|              153|                            3|         29|                          1.0|\n",
            "|   1207951|31.0|       No|    Travel_Rarely|    670.0| Maternity|           26 km|        1| Life Sciences|            1|                      1|  Male|        31|             3|       1|         Other|              3|     Divorced|         2911|      15170|                 1|     Y|      No|               17|                3|                       4|           80|    1|                5|                  1.0|              2|             5|                 2|                      4|                   3|              670|                            1|         31|                          2.0|\n",
            "|   1080660|34.0|       No|    Travel_Rarely|   1346.0| Maternity|           19 km|        2|       Medical|            1|                      2|  Male|        93|             3|       1|         Nurse|              4|     Divorced|         2661|       8758|                 0|     Y|      No|               11|                3|                       3|           80|    1|                3|                  2.0|              3|             2|                 2|                      1|                   2|             1346|                            2|         34|                          2.0|\n",
            "|   1420391|28.0|      Yes|    Travel_Rarely|    103.0| Maternity|           24 km|        3| Life Sciences|            1|                      3|  Male|        50|             2|       1|         Nurse|              3|       Single|         2028|      12947|                 5|     Y|     Yes|               14|                3|                       2|           80|    0|                6|                  4.0|              3|             4|                 2|                      0|                   3|              103|                            4|         28|                          1.0|\n",
            "|   1337254|29.0|       No|    Travel_Rarely|   1389.0| Maternity|           21 km|        4| Life Sciences|            1|                      2|Female|        51|             4|       3|     Therapist|              1|     Divorced|         9980|      10195|                 1|     Y|      No|               11|                3|                       3|           80|    1|               10|                  1.0|              3|            10|                 9|                      8|                   8|             1389|                            1|         29|                          2.0|\n",
            "|   1421335|32.0|       No|    Travel_Rarely|    334.0| Maternity|            5 km|        2| Life Sciences|            1|                      1|  Male|        80|             4|       1|         Other|              2|     Divorced|         3298|      15053|                 0|     Y|     Yes|               12|                3|                       4|           80|    2|                7|                  5.0|              2|             6|                 2|                      0|                   5|              334|                            5|         32|                          2.0|\n",
            "|   1262683|22.0|       No|       Non-Travel|   1123.0| Maternity|           16 km|        2|       Medical|            1|                      4|  Male|        96|             4|       1|         Nurse|              4|     Divorced|         2935|       7324|                 1|     Y|     Yes|               13|                3|                       2|           80|    2|                1|                  2.0|              2|             1|                 0|                      0|                   0|             1123|                            2|         22|                          2.0|\n",
            "|   1599218|53.0|       No|    Travel_Rarely|   1219.0|Cardiology|            2 km|        4| Life Sciences|            1|                      1|Female|        78|             2|       4|Administrative|              4|      Married|        15427|      22021|                 2|     Y|      No|               16|                3|                       3|           80|    0|               31|                  3.0|              3|            25|                 8|                      3|                   7|             1219|                            3|         53|                          0.0|\n",
            "|   1634788|38.0|       No|    Travel_Rarely|    371.0| Maternity|            2 km|        3| Life Sciences|            1|                      4|  Male|        45|             3|       1|         Other|              4|       Single|         3944|       4306|                 5|     Y|     Yes|               11|                3|                       3|           80|    0|                6|                  3.0|              3|             3|                 2|                      1|                   2|              371|                            3|         38|                          1.0|\n",
            "+----------+----+---------+-----------------+---------+----------+----------------+---------+--------------+-------------+-----------------------+------+----------+--------------+--------+--------------+---------------+-------------+-------------+-----------+------------------+------+--------+-----------------+-----------------+------------------------+-------------+-----+-----------------+---------------------+---------------+--------------+------------------+-----------------------+--------------------+-----------------+-----------------------------+-----------+-----------------------------+\n",
            "only showing top 20 rows\n",
            "\n"
          ]
        }
      ]
    },
    {
      "cell_type": "code",
      "source": [
        "dataset.select([count(when(isnan(c) | col(c).isNull(), c)).alias(c) for c in dataset.columns]).show()"
      ],
      "metadata": {
        "colab": {
          "base_uri": "https://localhost:8080/",
          "height": 219
        },
        "id": "rVVY_9xStuIZ",
        "outputId": "627caf5b-8a2e-4530-db00-042c153c4fd2"
      },
      "execution_count": 210,
      "outputs": [
        {
          "output_type": "error",
          "ename": "TypeError",
          "evalue": "ignored",
          "traceback": [
            "\u001b[0;31m---------------------------------------------------------------------------\u001b[0m",
            "\u001b[0;31mTypeError\u001b[0m                                 Traceback (most recent call last)",
            "\u001b[0;32m<ipython-input-210-4965f57df5ec>\u001b[0m in \u001b[0;36m<module>\u001b[0;34m\u001b[0m\n\u001b[0;32m----> 1\u001b[0;31m \u001b[0mdataset\u001b[0m\u001b[0;34m.\u001b[0m\u001b[0mselect\u001b[0m\u001b[0;34m(\u001b[0m\u001b[0;34m[\u001b[0m\u001b[0mcount\u001b[0m\u001b[0;34m(\u001b[0m\u001b[0mwhen\u001b[0m\u001b[0;34m(\u001b[0m\u001b[0misnan\u001b[0m\u001b[0;34m(\u001b[0m\u001b[0mc\u001b[0m\u001b[0;34m)\u001b[0m \u001b[0;34m|\u001b[0m \u001b[0mcol\u001b[0m\u001b[0;34m(\u001b[0m\u001b[0mc\u001b[0m\u001b[0;34m)\u001b[0m\u001b[0;34m.\u001b[0m\u001b[0misNull\u001b[0m\u001b[0;34m(\u001b[0m\u001b[0;34m)\u001b[0m\u001b[0;34m,\u001b[0m \u001b[0mc\u001b[0m\u001b[0;34m)\u001b[0m\u001b[0;34m)\u001b[0m\u001b[0;34m.\u001b[0m\u001b[0malias\u001b[0m\u001b[0;34m(\u001b[0m\u001b[0mc\u001b[0m\u001b[0;34m)\u001b[0m \u001b[0;32mfor\u001b[0m \u001b[0mc\u001b[0m \u001b[0;32min\u001b[0m \u001b[0mdataset\u001b[0m\u001b[0;34m.\u001b[0m\u001b[0mcolumns\u001b[0m\u001b[0;34m]\u001b[0m\u001b[0;34m)\u001b[0m\u001b[0;34m.\u001b[0m\u001b[0mshow\u001b[0m\u001b[0;34m(\u001b[0m\u001b[0;34m)\u001b[0m\u001b[0;34m\u001b[0m\u001b[0;34m\u001b[0m\u001b[0m\n\u001b[0m",
            "\u001b[0;32m<ipython-input-210-4965f57df5ec>\u001b[0m in \u001b[0;36m<listcomp>\u001b[0;34m(.0)\u001b[0m\n\u001b[0;32m----> 1\u001b[0;31m \u001b[0mdataset\u001b[0m\u001b[0;34m.\u001b[0m\u001b[0mselect\u001b[0m\u001b[0;34m(\u001b[0m\u001b[0;34m[\u001b[0m\u001b[0mcount\u001b[0m\u001b[0;34m(\u001b[0m\u001b[0mwhen\u001b[0m\u001b[0;34m(\u001b[0m\u001b[0misnan\u001b[0m\u001b[0;34m(\u001b[0m\u001b[0mc\u001b[0m\u001b[0;34m)\u001b[0m \u001b[0;34m|\u001b[0m \u001b[0mcol\u001b[0m\u001b[0;34m(\u001b[0m\u001b[0mc\u001b[0m\u001b[0;34m)\u001b[0m\u001b[0;34m.\u001b[0m\u001b[0misNull\u001b[0m\u001b[0;34m(\u001b[0m\u001b[0;34m)\u001b[0m\u001b[0;34m,\u001b[0m \u001b[0mc\u001b[0m\u001b[0;34m)\u001b[0m\u001b[0;34m)\u001b[0m\u001b[0;34m.\u001b[0m\u001b[0malias\u001b[0m\u001b[0;34m(\u001b[0m\u001b[0mc\u001b[0m\u001b[0;34m)\u001b[0m \u001b[0;32mfor\u001b[0m \u001b[0mc\u001b[0m \u001b[0;32min\u001b[0m \u001b[0mdataset\u001b[0m\u001b[0;34m.\u001b[0m\u001b[0mcolumns\u001b[0m\u001b[0;34m]\u001b[0m\u001b[0;34m)\u001b[0m\u001b[0;34m.\u001b[0m\u001b[0mshow\u001b[0m\u001b[0;34m(\u001b[0m\u001b[0;34m)\u001b[0m\u001b[0;34m\u001b[0m\u001b[0;34m\u001b[0m\u001b[0m\n\u001b[0m",
            "\u001b[0;31mTypeError\u001b[0m: 'str' object is not callable"
          ]
        }
      ]
    },
    {
      "cell_type": "markdown",
      "source": [
        "## 3. SQLTransformer"
      ],
      "metadata": {
        "id": "jvx_W7gVB4Qu"
      }
    },
    {
      "cell_type": "code",
      "source": [
        "sqlTrans = SQLTransformer(statement=\"select Age, count(Age) from  __THIS__ group by Age order by age desc\")\n",
        "sql_age=sqlTrans.transform(dataset)\n",
        "sql_age.show()"
      ],
      "metadata": {
        "colab": {
          "base_uri": "https://localhost:8080/"
        },
        "id": "Jv9A47x7BCy6",
        "outputId": "bb8b981a-7163-4df0-fccb-e568f2a8993c"
      },
      "execution_count": 211,
      "outputs": [
        {
          "output_type": "stream",
          "name": "stdout",
          "text": [
            "+----+----------+\n",
            "| Age|count(Age)|\n",
            "+----+----------+\n",
            "| NaN|        12|\n",
            "|60.0|         5|\n",
            "|59.0|        10|\n",
            "|58.0|        17|\n",
            "|56.0|        15|\n",
            "|55.0|        25|\n",
            "|54.0|        20|\n",
            "|53.0|        25|\n",
            "|52.0|        21|\n",
            "|51.0|        20|\n",
            "|50.0|        33|\n",
            "|49.0|        29|\n",
            "|48.0|        23|\n",
            "|47.0|        28|\n",
            "|46.0|        38|\n",
            "|45.0|        45|\n",
            "|44.0|        36|\n",
            "|43.0|        37|\n",
            "|42.0|        52|\n",
            "|41.0|        43|\n",
            "+----+----------+\n",
            "only showing top 20 rows\n",
            "\n"
          ]
        }
      ]
    },
    {
      "cell_type": "code",
      "source": [
        "sql_age=sql_age.toPandas().dropna()"
      ],
      "metadata": {
        "id": "Pshw3C4vF2tN"
      },
      "execution_count": 212,
      "outputs": []
    },
    {
      "cell_type": "code",
      "source": [
        "plt.figure(figsize=(30,10))\n",
        "sns.barplot(x=sql_age.Age,y=sql_age['count(Age)']);"
      ],
      "metadata": {
        "colab": {
          "base_uri": "https://localhost:8080/",
          "height": 553
        },
        "id": "RoJDsfuuFNRP",
        "outputId": "b41053cc-9b3d-43d6-8fe3-17eb2af6d82c"
      },
      "execution_count": 213,
      "outputs": [
        {
          "output_type": "display_data",
          "data": {
            "text/plain": [
              "<Figure size 2160x720 with 1 Axes>"
            ],
            "image/png": "[encoded data removed]"
          },
          "metadata": {
            "needs_background": "light"
          }
        }
      ]
    },
    {
      "cell_type": "markdown",
      "source": [
        "## 4. Binarizer"
      ],
      "metadata": {
        "id": "JyWXlbaPESpO"
      }
    },
    {
      "cell_type": "markdown",
      "source": [
        "If the person has not been promoted in the last 3 years, then the value should be true (1) else false(0)"
      ],
      "metadata": {
        "id": "qKwZn5LrKta_"
      }
    },
    {
      "cell_type": "code",
      "source": [
        "dataset=dataset.withColumn(\"YearsSinceLastPromotion\",dataset.YearsSinceLastPromotion.cast(\"double\"))"
      ],
      "metadata": {
        "id": "kR8uteLgIe53"
      },
      "execution_count": 214,
      "outputs": []
    },
    {
      "cell_type": "code",
      "source": [
        "binarizer = Binarizer(threshold=3.0, inputCol=\"YearsSinceLastPromotion\", outputCol=\"YearsSinceLastPromotionGt3\")\n",
        "dataset=binarizer.transform(dataset)"
      ],
      "metadata": {
        "id": "TOHl5x0gEbAq"
      },
      "execution_count": 215,
      "outputs": []
    },
    {
      "cell_type": "code",
      "source": [
        "dataset.select('YearsSinceLastPromotion','YearsSinceLastPromotiongt3').show(10)"
      ],
      "metadata": {
        "colab": {
          "base_uri": "https://localhost:8080/"
        },
        "id": "itwWF3uBG12v",
        "outputId": "1cb47cf1-2dce-467d-d900-804abed025d7"
      },
      "execution_count": 216,
      "outputs": [
        {
          "output_type": "stream",
          "name": "stdout",
          "text": [
            "+-----------------------+--------------------------+\n",
            "|YearsSinceLastPromotion|YearsSinceLastPromotiongt3|\n",
            "+-----------------------+--------------------------+\n",
            "|                    0.0|                       0.0|\n",
            "|                    1.0|                       0.0|\n",
            "|                    0.0|                       0.0|\n",
            "|                    3.0|                       0.0|\n",
            "|                    2.0|                       0.0|\n",
            "|                    3.0|                       0.0|\n",
            "|                    0.0|                       0.0|\n",
            "|                    0.0|                       0.0|\n",
            "|                    1.0|                       0.0|\n",
            "|                    7.0|                       1.0|\n",
            "+-----------------------+--------------------------+\n",
            "only showing top 10 rows\n",
            "\n"
          ]
        }
      ]
    },
    {
      "cell_type": "markdown",
      "source": [
        "## 5. Bucketizer"
      ],
      "metadata": {
        "id": "G_94DEUuLB-s"
      }
    },
    {
      "cell_type": "code",
      "source": [
        "bucketizer = Bucketizer(splits=[-float(\"inf\"), 2926.75, 4899,8380.75, float(\"inf\")],inputCol=\"MonthlyIncome\", outputCol=\"MonthlyIncome_buckets\")\n",
        "dataset=bucketizer.transform(dataset)"
      ],
      "metadata": {
        "id": "R66gFwW1LFz6"
      },
      "execution_count": 217,
      "outputs": []
    },
    {
      "cell_type": "code",
      "source": [
        "dataset.select(\"MonthlyIncome\",'MonthlyIncome_buckets').groupBy('MonthlyIncome_buckets').sum().orderBy('sum(MonthlyIncome)').show()"
      ],
      "metadata": {
        "colab": {
          "base_uri": "https://localhost:8080/"
        },
        "id": "34TDY3UsRJca",
        "outputId": "79c1e936-40ba-4162-efea-0566c230de3d"
      },
      "execution_count": 218,
      "outputs": [
        {
          "output_type": "stream",
          "name": "stdout",
          "text": [
            "+---------------------+------------------+--------------------------+\n",
            "|MonthlyIncome_buckets|sum(MonthlyIncome)|sum(MonthlyIncome_buckets)|\n",
            "+---------------------+------------------+--------------------------+\n",
            "|                  0.0|            986805|                       0.0|\n",
            "|                  1.0|           1660574|                     419.0|\n",
            "|                  2.0|           2588943|                     838.0|\n",
            "|                  3.0|           5685353|                    1257.0|\n",
            "+---------------------+------------------+--------------------------+\n",
            "\n"
          ]
        }
      ]
    },
    {
      "cell_type": "code",
      "source": [
        "dataset.select(\"MonthlyIncome\",'MonthlyIncome_buckets').groupBy('MonthlyIncome_buckets').sum().orderBy('sum(MonthlyIncome)').toPandas().plot.bar(x='MonthlyIncome_buckets',y='sum(MonthlyIncome)');"
      ],
      "metadata": {
        "colab": {
          "base_uri": "https://localhost:8080/",
          "height": 297
        },
        "id": "tREUCeNFRTzC",
        "outputId": "d1e25e38-88c3-4522-a6de-20b3f3fd4ef2"
      },
      "execution_count": 219,
      "outputs": [
        {
          "output_type": "display_data",
          "data": {
            "text/plain": [
              "<Figure size 432x288 with 1 Axes>"
            ],
            "image/png": "[encoded data removed]"
          },
          "metadata": {
            "needs_background": "light"
          }
        }
      ]
    },
    {
      "cell_type": "markdown",
      "source": [
        "## 6. RegexTokenizer"
      ],
      "metadata": {
        "id": "ZDhdyP27L-kJ"
      }
    },
    {
      "cell_type": "code",
      "source": [
        "regTokenize=RegexTokenizer(inputCol=\"DistanceFromHome\",outputCol=\"DistanceFromHome_reg\",pattern=\" km\")\n",
        "dataset=regTokenize.transform(dataset)\n",
        "\n",
        "# The regTokenizer returns a column with the datatype as Array, which contains the value in string format. We need to first extract the value from the Array and then typecast it into Interger.\n",
        "dataset=dataset.withColumn(\"DistanceFromHome_reg\",dataset.DistanceFromHome_reg[0])\n",
        "dataset=dataset.withColumn(\"DistanceFromHome_reg\",dataset.DistanceFromHome_reg.cast(\"int\"))\n",
        "\n",
        "dataset.printSchema()"
      ],
      "metadata": {
        "colab": {
          "base_uri": "https://localhost:8080/"
        },
        "id": "aE95198ELFxK",
        "outputId": "750aec6b-c880-486e-9b24-60602e0f0be6"
      },
      "execution_count": 220,
      "outputs": [
        {
          "output_type": "stream",
          "name": "stdout",
          "text": [
            "root\n",
            " |-- EmployeeID: long (nullable = true)\n",
            " |-- Age: double (nullable = true)\n",
            " |-- Attrition: string (nullable = true)\n",
            " |-- BusinessTravel: string (nullable = true)\n",
            " |-- DailyRate: double (nullable = true)\n",
            " |-- Department: string (nullable = true)\n",
            " |-- DistanceFromHome: string (nullable = true)\n",
            " |-- Education: long (nullable = true)\n",
            " |-- EducationField: string (nullable = true)\n",
            " |-- EmployeeCount: long (nullable = true)\n",
            " |-- EnvironmentSatisfaction: long (nullable = true)\n",
            " |-- Gender: string (nullable = true)\n",
            " |-- HourlyRate: long (nullable = true)\n",
            " |-- JobInvolvement: long (nullable = true)\n",
            " |-- JobLevel: long (nullable = true)\n",
            " |-- JobRole: string (nullable = true)\n",
            " |-- JobSatisfaction: long (nullable = true)\n",
            " |-- MaritalStatus: string (nullable = true)\n",
            " |-- MonthlyIncome: long (nullable = true)\n",
            " |-- MonthlyRate: long (nullable = true)\n",
            " |-- NumCompaniesWorked: long (nullable = true)\n",
            " |-- Over18: string (nullable = true)\n",
            " |-- OverTime: string (nullable = true)\n",
            " |-- PercentSalaryHike: long (nullable = true)\n",
            " |-- PerformanceRating: long (nullable = true)\n",
            " |-- RelationshipSatisfaction: long (nullable = true)\n",
            " |-- StandardHours: long (nullable = true)\n",
            " |-- Shift: long (nullable = true)\n",
            " |-- TotalWorkingYears: long (nullable = true)\n",
            " |-- TrainingTimesLastYear: double (nullable = true)\n",
            " |-- WorkLifeBalance: long (nullable = true)\n",
            " |-- YearsAtCompany: long (nullable = true)\n",
            " |-- YearsInCurrentRole: long (nullable = true)\n",
            " |-- YearsSinceLastPromotion: double (nullable = true)\n",
            " |-- YearsWithCurrManager: long (nullable = true)\n",
            " |-- DailyRate_imputed: long (nullable = true)\n",
            " |-- TrainingTimesLastYear_imputed: long (nullable = true)\n",
            " |-- Age_imputed: long (nullable = true)\n",
            " |-- MaritalStatus_indexed_imputed: double (nullable = true)\n",
            " |-- YearsSinceLastPromotionGt3: double (nullable = true)\n",
            " |-- MonthlyIncome_buckets: double (nullable = true)\n",
            " |-- DistanceFromHome_reg: integer (nullable = true)\n",
            "\n"
          ]
        }
      ]
    },
    {
      "cell_type": "markdown",
      "source": [
        "## 7. One hot encoder\n"
      ],
      "metadata": {
        "id": "-UTmSbz-LFWJ"
      }
    },
    {
      "cell_type": "code",
      "source": [
        "\"\"\" \n",
        "In order to one hot encode all the categorical variables, we need to do the following steps\n",
        " 1. Identify all the categorical Variables\n",
        " 2. Check if they have any inherent Hierachy\n",
        " 3. Apply StringIndexer to all the categorical variables\n",
        " 4. OneHotEncode only those categorical variables that do not have any hierachy\n",
        "\"\"\"\n",
        "cat_col=[]\n",
        "for col,data_type in dataset.dtypes:\n",
        "  if data_type=='string':\n",
        "    cat_col.append(col)\n",
        "\n",
        "print(cat_col)\n",
        "\n",
        "\"\"\"\n",
        " Out of the above columns, MaritalStatus has already been StringIndexed and now only needs to be One hot encoded.\n",
        " DistanceFromHome Column is not needed as we have already preprocessed it and converted it into a int column\n",
        " Attrition is the Dependent variable and hence will not be one hot encoded\n",
        " None of the other variables have a hierarchy and hence we are okay to onehotencode them\n",
        "\"\"\"\n",
        "cat_col.pop(cat_col.index('DistanceFromHome'))\n",
        "cat_col.pop(cat_col.index('MaritalStatus'))\n",
        "# Drop Over18 as this column has only 1 category and as such is not useful\n",
        "cat_col.pop(cat_col.index('Over18'))\n",
        "\n",
        "bulk_indexer=StringIndexer(inputCols=cat_col,outputCols=[x+\"_indexed\" for x in cat_col])\n",
        "\n",
        "# Before one hot encode, make sure to drop the dependent variable and add the other Categorical variable\n",
        "inputColumns=list(set(bulk_indexer.getOutputCols())-set(['Attrition']))\n",
        "inputColumns.extend(['MaritalStatus_indexed_imputed', 'YearsSinceLastPromotionGt3', 'MonthlyIncome_buckets'])\n",
        "oneHotEncoder=OneHotEncoder(inputCols=inputColumns,outputCols=[x+\"_onehot\" for x in inputColumns])\n",
        "\n",
        "myPipeline_bulk=Pipeline(stages=[bulk_indexer,oneHotEncoder])\n",
        "dataset=myPipeline_bulk.fit(dataset).transform(dataset)\n",
        "dataset.show()"
      ],
      "metadata": {
        "colab": {
          "base_uri": "https://localhost:8080/"
        },
        "id": "A7vzFzUxUWtz",
        "outputId": "29099916-38e1-4107-95bf-2e87e286a934"
      },
      "execution_count": 221,
      "outputs": [
        {
          "output_type": "stream",
          "name": "stdout",
          "text": [
            "['Attrition', 'BusinessTravel', 'Department', 'DistanceFromHome', 'EducationField', 'Gender', 'JobRole', 'MaritalStatus', 'Over18', 'OverTime']\n",
            "+----------+----+---------+-----------------+---------+----------+----------------+---------+--------------+-------------+-----------------------+------+----------+--------------+--------+--------------+---------------+-------------+-------------+-----------+------------------+------+--------+-----------------+-----------------+------------------------+-------------+-----+-----------------+---------------------+---------------+--------------+------------------+-----------------------+--------------------+-----------------+-----------------------------+-----------+-----------------------------+--------------------------+---------------------+--------------------+-----------------+----------------------+------------------+----------------------+--------------+---------------+----------------+-----------------------+----------------------+------------------------+-------------------------+---------------------+-----------------------------+-----------------------------+------------------------------------+---------------------------------+----------------------------+\n",
            "|EmployeeID| Age|Attrition|   BusinessTravel|DailyRate|Department|DistanceFromHome|Education|EducationField|EmployeeCount|EnvironmentSatisfaction|Gender|HourlyRate|JobInvolvement|JobLevel|       JobRole|JobSatisfaction|MaritalStatus|MonthlyIncome|MonthlyRate|NumCompaniesWorked|Over18|OverTime|PercentSalaryHike|PerformanceRating|RelationshipSatisfaction|StandardHours|Shift|TotalWorkingYears|TrainingTimesLastYear|WorkLifeBalance|YearsAtCompany|YearsInCurrentRole|YearsSinceLastPromotion|YearsWithCurrManager|DailyRate_imputed|TrainingTimesLastYear_imputed|Age_imputed|MaritalStatus_indexed_imputed|YearsSinceLastPromotionGt3|MonthlyIncome_buckets|DistanceFromHome_reg|Attrition_indexed|BusinessTravel_indexed|Department_indexed|EducationField_indexed|Gender_indexed|JobRole_indexed|OverTime_indexed|OverTime_indexed_onehot|JobRole_indexed_onehot|Attrition_indexed_onehot|Department_indexed_onehot|Gender_indexed_onehot|EducationField_indexed_onehot|BusinessTravel_indexed_onehot|MaritalStatus_indexed_imputed_onehot|YearsSinceLastPromotionGt3_onehot|MonthlyIncome_buckets_onehot|\n",
            "+----------+----+---------+-----------------+---------+----------+----------------+---------+--------------+-------------+-----------------------+------+----------+--------------+--------+--------------+---------------+-------------+-------------+-----------+------------------+------+--------+-----------------+-----------------+------------------------+-------------+-----+-----------------+---------------------+---------------+--------------+------------------+-----------------------+--------------------+-----------------+-----------------------------+-----------+-----------------------------+--------------------------+---------------------+--------------------+-----------------+----------------------+------------------+----------------------+--------------+---------------+----------------+-----------------------+----------------------+------------------------+-------------------------+---------------------+-----------------------------+-----------------------------+------------------------------------+---------------------------------+----------------------------+\n",
            "|   1313919|41.0|       No|    Travel_Rarely|   1102.0|Cardiology|            1 km|        2| Life Sciences|            1|                      2|Female|        94|             3|       2|         Nurse|              4|       Single|         5993|      19479|                 8|     Y|     Yes|               11|                3|                       1|           80|    0|                8|                  0.0|              1|             6|                 4|                    0.0|                   5|             1102|                            0|         41|                          1.0|                       0.0|                  2.0|                   1|              0.0|                   0.0|               1.0|                   0.0|           1.0|            0.0|             1.0|              (1,[],[])|         (4,[0],[1.0])|           (1,[0],[1.0])|            (2,[1],[1.0])|            (1,[],[])|                (5,[0],[1.0])|                (2,[0],[1.0])|                       (2,[1],[1.0])|                    (1,[0],[1.0])|               (3,[2],[1.0])|\n",
            "|   1200302|49.0|       No|Travel_Frequently|    279.0| Maternity|            8 km|        1| Life Sciences|            1|                      3|  Male|        61|             2|       2|         Other|              2|      Married|         5130|      24907|                 1|     Y|      No|               23|                4|                       4|           80|    1|               10|                  3.0|              3|            10|                 7|                    1.0|                   7|              279|                            3|         49|                          0.0|                       0.0|                  2.0|                   8|              0.0|                   1.0|               0.0|                   0.0|           0.0|            1.0|             0.0|          (1,[0],[1.0])|         (4,[1],[1.0])|           (1,[0],[1.0])|            (2,[0],[1.0])|        (1,[0],[1.0])|                (5,[0],[1.0])|                (2,[1],[1.0])|                       (2,[0],[1.0])|                    (1,[0],[1.0])|               (3,[2],[1.0])|\n",
            "|   1060315|37.0|      Yes|    Travel_Rarely|   1373.0| Maternity|            2 km|        2|         Other|            1|                      4|  Male|        92|             2|       1|         Nurse|              3|       Single|         2090|       2396|                 6|     Y|     Yes|               15|                3|                       2|           80|    0|                7|                  3.0|              3|             0|                 0|                    0.0|                   0|             1373|                            3|         37|                          1.0|                       0.0|                  0.0|                   2|              1.0|                   0.0|               0.0|                   4.0|           0.0|            0.0|             1.0|              (1,[],[])|         (4,[0],[1.0])|               (1,[],[])|            (2,[0],[1.0])|        (1,[0],[1.0])|                (5,[4],[1.0])|                (2,[0],[1.0])|                       (2,[1],[1.0])|                    (1,[0],[1.0])|               (3,[0],[1.0])|\n",
            "|   1272912|33.0|       No|Travel_Frequently|   1392.0| Maternity|            3 km|        4| Life Sciences|            1|                      4|Female|        56|             3|       1|         Other|              3|      Married|         2909|      23159|                 1|     Y|     Yes|               11|                3|                       3|           80|    0|                8|                  3.0|              3|             8|                 7|                    3.0|                   0|             1392|                            3|         33|                          0.0|                       0.0|                  0.0|                   3|              0.0|                   1.0|               0.0|                   0.0|           1.0|            1.0|             1.0|              (1,[],[])|         (4,[1],[1.0])|           (1,[0],[1.0])|            (2,[0],[1.0])|            (1,[],[])|                (5,[0],[1.0])|                (2,[1],[1.0])|                       (2,[0],[1.0])|                    (1,[0],[1.0])|               (3,[0],[1.0])|\n",
            "|   1414939|27.0|       No|    Travel_Rarely|    591.0| Maternity|            2 km|        1|       Medical|            1|                      1|  Male|        40|             3|       1|         Nurse|              2|      Married|         3468|      16632|                 9|     Y|      No|               12|                3|                       4|           80|    1|                6|                  3.0|              3|             2|                 2|                    2.0|                   2|              591|                            3|         27|                          0.0|                       0.0|                  1.0|                   2|              0.0|                   0.0|               0.0|                   1.0|           0.0|            0.0|             0.0|          (1,[0],[1.0])|         (4,[0],[1.0])|           (1,[0],[1.0])|            (2,[0],[1.0])|        (1,[0],[1.0])|                (5,[1],[1.0])|                (2,[0],[1.0])|                       (2,[0],[1.0])|                    (1,[0],[1.0])|               (3,[1],[1.0])|\n",
            "|   1633361|32.0|       No|Travel_Frequently|   1005.0| Maternity|            2 km|        2| Life Sciences|            1|                      4|  Male|        79|             3|       1|         Nurse|              4|       Single|         3068|      11864|                 0|     Y|      No|               13|                3|                       3|           80|    0|                8|                  2.0|              2|             7|                 7|                    3.0|                   6|             1005|                            2|         32|                          1.0|                       0.0|                  1.0|                   2|              0.0|                   1.0|               0.0|                   0.0|           0.0|            0.0|             0.0|          (1,[0],[1.0])|         (4,[0],[1.0])|           (1,[0],[1.0])|            (2,[0],[1.0])|        (1,[0],[1.0])|                (5,[0],[1.0])|                (2,[1],[1.0])|                       (2,[1],[1.0])|                    (1,[0],[1.0])|               (3,[1],[1.0])|\n",
            "|   1329390|59.0|       No|    Travel_Rarely|   1324.0| Maternity|            3 km|        3|       Medical|            1|                      3|Female|        81|             4|       1|         Nurse|              1|      Married|         2670|       9964|                 4|     Y|     Yes|               20|                4|                       1|           80|    3|               12|                  3.0|              2|             1|                 0|                    0.0|                   0|             1324|                            3|         59|                          0.0|                       0.0|                  0.0|                   3|              0.0|                   0.0|               0.0|                   1.0|           1.0|            0.0|             1.0|              (1,[],[])|         (4,[0],[1.0])|           (1,[0],[1.0])|            (2,[0],[1.0])|            (1,[],[])|                (5,[1],[1.0])|                (2,[0],[1.0])|                       (2,[0],[1.0])|                    (1,[0],[1.0])|               (3,[0],[1.0])|\n",
            "|   1699288|30.0|       No|    Travel_Rarely|   1358.0| Maternity|           24 km|        1| Life Sciences|            1|                      4|  Male|        67|             3|       1|         Nurse|              3|     Divorced|         2693|      13335|                 1|     Y|      No|               22|                4|                       2|           80|    1|                1|                  2.0|              3|             1|                 0|                    0.0|                   0|             1358|                            2|         30|                          2.0|                       0.0|                  0.0|                  24|              0.0|                   0.0|               0.0|                   0.0|           0.0|            0.0|             0.0|          (1,[0],[1.0])|         (4,[0],[1.0])|           (1,[0],[1.0])|            (2,[0],[1.0])|        (1,[0],[1.0])|                (5,[0],[1.0])|                (2,[0],[1.0])|                           (2,[],[])|                    (1,[0],[1.0])|               (3,[0],[1.0])|\n",
            "|   1469740|38.0|       No|Travel_Frequently|    216.0| Maternity|           23 km|        3| Life Sciences|            1|                      4|  Male|        44|             2|       3|     Therapist|              3|       Single|         9526|       8787|                 0|     Y|      No|               21|                4|                       2|           80|    0|               10|                  2.0|              3|             9|                 7|                    1.0|                   8|              216|                            2|         38|                          1.0|                       0.0|                  3.0|                  23|              0.0|                   1.0|               0.0|                   0.0|           0.0|            2.0|             0.0|          (1,[0],[1.0])|         (4,[2],[1.0])|           (1,[0],[1.0])|            (2,[0],[1.0])|        (1,[0],[1.0])|                (5,[0],[1.0])|                (2,[1],[1.0])|                       (2,[1],[1.0])|                    (1,[0],[1.0])|                   (3,[],[])|\n",
            "|   1101291|36.0|       No|    Travel_Rarely|   1299.0| Maternity|           27 km|        3|       Medical|            1|                      3|  Male|        94|             3|       2|         Nurse|              3|      Married|         5237|      16577|                 6|     Y|      No|               13|                3|                       2|           80|    2|               17|                  3.0|              2|             7|                 7|                    7.0|                   7|             1299|                            3|         36|                          0.0|                       1.0|                  2.0|                  27|              0.0|                   0.0|               0.0|                   1.0|           0.0|            0.0|             0.0|          (1,[0],[1.0])|         (4,[0],[1.0])|           (1,[0],[1.0])|            (2,[0],[1.0])|        (1,[0],[1.0])|                (5,[1],[1.0])|                (2,[0],[1.0])|                       (2,[0],[1.0])|                        (1,[],[])|               (3,[2],[1.0])|\n",
            "|   1430504|35.0|       No|    Travel_Rarely|    809.0| Maternity|           16 km|        3|       Medical|            1|                      1|  Male|        84|             4|       1|         Nurse|              2|      Married|         2426|      16479|                 0|     Y|      No|               13|                3|                       3|           80|    1|                6|                  5.0|              3|             5|                 4|                    0.0|                   3|              809|                            5|         35|                          0.0|                       0.0|                  0.0|                  16|              0.0|                   0.0|               0.0|                   1.0|           0.0|            0.0|             0.0|          (1,[0],[1.0])|         (4,[0],[1.0])|           (1,[0],[1.0])|            (2,[0],[1.0])|        (1,[0],[1.0])|                (5,[1],[1.0])|                (2,[0],[1.0])|                       (2,[0],[1.0])|                    (1,[0],[1.0])|               (3,[0],[1.0])|\n",
            "|   1196281|29.0|       No|    Travel_Rarely|    153.0| Maternity|           15 km|        2| Life Sciences|            1|                      4|Female|        49|             2|       2|         Nurse|              3|       Single|         4193|      12682|                 0|     Y|     Yes|               12|                3|                       4|           80|    0|               10|                  3.0|              3|             9|                 5|                    0.0|                   8|              153|                            3|         29|                          1.0|                       0.0|                  1.0|                  15|              0.0|                   0.0|               0.0|                   0.0|           1.0|            0.0|             1.0|              (1,[],[])|         (4,[0],[1.0])|           (1,[0],[1.0])|            (2,[0],[1.0])|            (1,[],[])|                (5,[0],[1.0])|                (2,[0],[1.0])|                       (2,[1],[1.0])|                    (1,[0],[1.0])|               (3,[1],[1.0])|\n",
            "|   1207951|31.0|       No|    Travel_Rarely|    670.0| Maternity|           26 km|        1| Life Sciences|            1|                      1|  Male|        31|             3|       1|         Other|              3|     Divorced|         2911|      15170|                 1|     Y|      No|               17|                3|                       4|           80|    1|                5|                  1.0|              2|             5|                 2|                    4.0|                   3|              670|                            1|         31|                          2.0|                       1.0|                  0.0|                  26|              0.0|                   0.0|               0.0|                   0.0|           0.0|            1.0|             0.0|          (1,[0],[1.0])|         (4,[1],[1.0])|           (1,[0],[1.0])|            (2,[0],[1.0])|        (1,[0],[1.0])|                (5,[0],[1.0])|                (2,[0],[1.0])|                           (2,[],[])|                        (1,[],[])|               (3,[0],[1.0])|\n",
            "|   1080660|34.0|       No|    Travel_Rarely|   1346.0| Maternity|           19 km|        2|       Medical|            1|                      2|  Male|        93|             3|       1|         Nurse|              4|     Divorced|         2661|       8758|                 0|     Y|      No|               11|                3|                       3|           80|    1|                3|                  2.0|              3|             2|                 2|                    1.0|                   2|             1346|                            2|         34|                          2.0|                       0.0|                  0.0|                  19|              0.0|                   0.0|               0.0|                   1.0|           0.0|            0.0|             0.0|          (1,[0],[1.0])|         (4,[0],[1.0])|           (1,[0],[1.0])|            (2,[0],[1.0])|        (1,[0],[1.0])|                (5,[1],[1.0])|                (2,[0],[1.0])|                           (2,[],[])|                    (1,[0],[1.0])|               (3,[0],[1.0])|\n",
            "|   1420391|28.0|      Yes|    Travel_Rarely|    103.0| Maternity|           24 km|        3| Life Sciences|            1|                      3|  Male|        50|             2|       1|         Nurse|              3|       Single|         2028|      12947|                 5|     Y|     Yes|               14|                3|                       2|           80|    0|                6|                  4.0|              3|             4|                 2|                    0.0|                   3|              103|                            4|         28|                          1.0|                       0.0|                  0.0|                  24|              1.0|                   0.0|               0.0|                   0.0|           0.0|            0.0|             1.0|              (1,[],[])|         (4,[0],[1.0])|               (1,[],[])|            (2,[0],[1.0])|        (1,[0],[1.0])|                (5,[0],[1.0])|                (2,[0],[1.0])|                       (2,[1],[1.0])|                    (1,[0],[1.0])|               (3,[0],[1.0])|\n",
            "|   1337254|29.0|       No|    Travel_Rarely|   1389.0| Maternity|           21 km|        4| Life Sciences|            1|                      2|Female|        51|             4|       3|     Therapist|              1|     Divorced|         9980|      10195|                 1|     Y|      No|               11|                3|                       3|           80|    1|               10|                  1.0|              3|            10|                 9|                    8.0|                   8|             1389|                            1|         29|                          2.0|                       1.0|                  3.0|                  21|              0.0|                   0.0|               0.0|                   0.0|           1.0|            2.0|             0.0|          (1,[0],[1.0])|         (4,[2],[1.0])|           (1,[0],[1.0])|            (2,[0],[1.0])|            (1,[],[])|                (5,[0],[1.0])|                (2,[0],[1.0])|                           (2,[],[])|                        (1,[],[])|                   (3,[],[])|\n",
            "|   1421335|32.0|       No|    Travel_Rarely|    334.0| Maternity|            5 km|        2| Life Sciences|            1|                      1|  Male|        80|             4|       1|         Other|              2|     Divorced|         3298|      15053|                 0|     Y|     Yes|               12|                3|                       4|           80|    2|                7|                  5.0|              2|             6|                 2|                    0.0|                   5|              334|                            5|         32|                          2.0|                       0.0|                  1.0|                   5|              0.0|                   0.0|               0.0|                   0.0|           0.0|            1.0|             1.0|              (1,[],[])|         (4,[1],[1.0])|           (1,[0],[1.0])|            (2,[0],[1.0])|        (1,[0],[1.0])|                (5,[0],[1.0])|                (2,[0],[1.0])|                           (2,[],[])|                    (1,[0],[1.0])|               (3,[1],[1.0])|\n",
            "|   1262683|22.0|       No|       Non-Travel|   1123.0| Maternity|           16 km|        2|       Medical|            1|                      4|  Male|        96|             4|       1|         Nurse|              4|     Divorced|         2935|       7324|                 1|     Y|     Yes|               13|                3|                       2|           80|    2|                1|                  2.0|              2|             1|                 0|                    0.0|                   0|             1123|                            2|         22|                          2.0|                       0.0|                  1.0|                  16|              0.0|                   2.0|               0.0|                   1.0|           0.0|            0.0|             1.0|              (1,[],[])|         (4,[0],[1.0])|           (1,[0],[1.0])|            (2,[0],[1.0])|        (1,[0],[1.0])|                (5,[1],[1.0])|                    (2,[],[])|                           (2,[],[])|                    (1,[0],[1.0])|               (3,[1],[1.0])|\n",
            "|   1599218|53.0|       No|    Travel_Rarely|   1219.0|Cardiology|            2 km|        4| Life Sciences|            1|                      1|Female|        78|             2|       4|Administrative|              4|      Married|        15427|      22021|                 2|     Y|      No|               16|                3|                       3|           80|    0|               31|                  3.0|              3|            25|                 8|                    3.0|                   7|             1219|                            3|         53|                          0.0|                       0.0|                  3.0|                   2|              0.0|                   0.0|               1.0|                   0.0|           1.0|            3.0|             0.0|          (1,[0],[1.0])|         (4,[3],[1.0])|           (1,[0],[1.0])|            (2,[1],[1.0])|            (1,[],[])|                (5,[0],[1.0])|                (2,[0],[1.0])|                       (2,[0],[1.0])|                    (1,[0],[1.0])|                   (3,[],[])|\n",
            "|   1634788|38.0|       No|    Travel_Rarely|    371.0| Maternity|            2 km|        3| Life Sciences|            1|                      4|  Male|        45|             3|       1|         Other|              4|       Single|         3944|       4306|                 5|     Y|     Yes|               11|                3|                       3|           80|    0|                6|                  3.0|              3|             3|                 2|                    1.0|                   2|              371|                            3|         38|                          1.0|                       0.0|                  1.0|                   2|              0.0|                   0.0|               0.0|                   0.0|           0.0|            1.0|             1.0|              (1,[],[])|         (4,[1],[1.0])|           (1,[0],[1.0])|            (2,[0],[1.0])|        (1,[0],[1.0])|                (5,[0],[1.0])|                (2,[0],[1.0])|                       (2,[1],[1.0])|                    (1,[0],[1.0])|               (3,[1],[1.0])|\n",
            "+----------+----+---------+-----------------+---------+----------+----------------+---------+--------------+-------------+-----------------------+------+----------+--------------+--------+--------------+---------------+-------------+-------------+-----------+------------------+------+--------+-----------------+-----------------+------------------------+-------------+-----+-----------------+---------------------+---------------+--------------+------------------+-----------------------+--------------------+-----------------+-----------------------------+-----------+-----------------------------+--------------------------+---------------------+--------------------+-----------------+----------------------+------------------+----------------------+--------------+---------------+----------------+-----------------------+----------------------+------------------------+-------------------------+---------------------+-----------------------------+-----------------------------+------------------------------------+---------------------------------+----------------------------+\n",
            "only showing top 20 rows\n",
            "\n"
          ]
        }
      ]
    },
    {
      "cell_type": "markdown",
      "source": [
        "## Dropping Unwanted Columns"
      ],
      "metadata": {
        "id": "JmrJ3HELgLky"
      }
    },
    {
      "cell_type": "code",
      "source": [
        "print(f\"Dropping the following Columns:\\n{inputColumns}\")\n",
        "print(dataset.count(),len(dataset.columns))\n",
        "dataset=dataset.drop(*inputColumns)\n",
        "print(dataset.count(),len(dataset.columns))"
      ],
      "metadata": {
        "colab": {
          "base_uri": "https://localhost:8080/"
        },
        "id": "nr_sePyJfMnr",
        "outputId": "822248c3-e118-4e35-9fa8-68595c89a282"
      },
      "execution_count": 222,
      "outputs": [
        {
          "output_type": "stream",
          "name": "stdout",
          "text": [
            "Dropping the following Columns:\n",
            "['OverTime_indexed', 'JobRole_indexed', 'Attrition_indexed', 'Department_indexed', 'Gender_indexed', 'EducationField_indexed', 'BusinessTravel_indexed', 'MaritalStatus_indexed_imputed', 'YearsSinceLastPromotionGt3', 'MonthlyIncome_buckets']\n",
            "1676 59\n",
            "1676 49\n"
          ]
        }
      ]
    },
    {
      "cell_type": "code",
      "source": [
        "columnsToDropBasedOnPreprocessing=print(set(dataset.columns)-set(original_columns))\n",
        "# Drop all the original columns from which we have either imputed/Indexed/OneHotEncoded from the above list\n"
      ],
      "metadata": {
        "colab": {
          "base_uri": "https://localhost:8080/"
        },
        "id": "5EcJxE5XhnTe",
        "outputId": "658c358f-8cc2-4d8b-a0a5-9aa135f81b16"
      },
      "execution_count": 224,
      "outputs": [
        {
          "output_type": "execute_result",
          "data": {
            "text/plain": [
              "{'Age_imputed',\n",
              " 'Attrition_indexed_onehot',\n",
              " 'BusinessTravel_indexed_onehot',\n",
              " 'DailyRate_imputed',\n",
              " 'Department_indexed_onehot',\n",
              " 'DistanceFromHome_reg',\n",
              " 'EducationField_indexed_onehot',\n",
              " 'Gender_indexed_onehot',\n",
              " 'JobRole_indexed_onehot',\n",
              " 'MaritalStatus_indexed_imputed_onehot',\n",
              " 'MonthlyIncome_buckets_onehot',\n",
              " 'OverTime_indexed_onehot',\n",
              " 'TrainingTimesLastYear_imputed',\n",
              " 'YearsSinceLastPromotionGt3_onehot'}"
            ]
          },
          "metadata": {},
          "execution_count": 224
        }
      ]
    },
    {
      "cell_type": "code",
      "source": [
        "dataset.toPandas().to_csv(\"dataf.csv\")"
      ],
      "metadata": {
        "id": "DBXCBaYbB8Uw"
      },
      "execution_count": 223,
      "outputs": []
    },
    {
      "cell_type": "code",
      "source": [
        "dataset.createOrReplaceTempView(\"attrition_tb\")"
      ],
      "metadata": {
        "id": "r0u6A1YvWn4u"
      },
      "execution_count": null,
      "outputs": []
    },
    {
      "cell_type": "code",
      "source": [
        "session.sql(\"select Age, count(Age) from attrition_tb group by Age order by age desc\").show()"
      ],
      "metadata": {
        "colab": {
          "base_uri": "https://localhost:8080/"
        },
        "id": "olBFQ32rYOdw",
        "outputId": "7f883993-f28e-4d58-b0ef-af47f904e9a6"
      },
      "execution_count": 189,
      "outputs": [
        {
          "output_type": "stream",
          "name": "stdout",
          "text": [
            "+----+----------+\n",
            "| Age|count(Age)|\n",
            "+----+----------+\n",
            "| NaN|        12|\n",
            "|60.0|         5|\n",
            "|59.0|        10|\n",
            "|58.0|        17|\n",
            "|56.0|        15|\n",
            "|55.0|        25|\n",
            "|54.0|        20|\n",
            "|53.0|        25|\n",
            "|52.0|        21|\n",
            "|51.0|        20|\n",
            "|50.0|        33|\n",
            "|49.0|        29|\n",
            "|48.0|        23|\n",
            "|47.0|        28|\n",
            "|46.0|        38|\n",
            "|45.0|        45|\n",
            "|44.0|        36|\n",
            "|43.0|        37|\n",
            "|42.0|        52|\n",
            "|41.0|        43|\n",
            "+----+----------+\n",
            "only showing top 20 rows\n",
            "\n"
          ]
        }
      ]
    },
    {
      "cell_type": "code",
      "source": [
        "session.sql(\"select Department, count(Department) from attrition_tb group by Department order by count(Department) desc\").show()"
      ],
      "metadata": {
        "colab": {
          "base_uri": "https://localhost:8080/"
        },
        "id": "UDY4lWDTXwC-",
        "outputId": "b576ae65-a678-4088-848a-b89f47a4b244"
      },
      "execution_count": 190,
      "outputs": [
        {
          "output_type": "stream",
          "name": "stdout",
          "text": [
            "+----------+-----------------+\n",
            "|Department|count(Department)|\n",
            "+----------+-----------------+\n",
            "| Maternity|              796|\n",
            "|Cardiology|              531|\n",
            "| Neurology|              349|\n",
            "+----------+-----------------+\n",
            "\n"
          ]
        }
      ]
    },
    {
      "cell_type": "code",
      "source": [],
      "metadata": {
        "id": "qcUr9sigX6MM"
      },
      "execution_count": 190,
      "outputs": []
    }
  ]
}