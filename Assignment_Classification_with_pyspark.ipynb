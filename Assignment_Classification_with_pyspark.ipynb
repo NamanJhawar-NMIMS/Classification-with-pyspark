{
  "nbformat": 4,
  "nbformat_minor": 0,
  "metadata": {
    "colab": {
      "provenance": [],
      "collapsed_sections": [],
      "authorship_tag": "ABX9TyNSsoQvPrZ3E6p6ONBVdj/v",
      "include_colab_link": true
    },
    "kernelspec": {
      "name": "python3",
      "display_name": "Python 3"
    },
    "language_info": {
      "name": "python"
    }
  },
  "cells": [
    {
      "cell_type": "markdown",
      "metadata": {
        "id": "view-in-github",
        "colab_type": "text"
      },
      "source": [
        "<a href=\"https://colab.research.google.com/github/NamanJhawar-NMIMS/Classification-with-pyspark/blob/main/Assignment_Classification_with_pyspark.ipynb\" target=\"_parent\"><img src=\"https://colab.research.google.com/assets/colab-badge.svg\" alt=\"Open In Colab\"/></a>"
      ]
    },
    {
      "cell_type": "markdown",
      "source": [
        "# **Table of Contents**"
      ],
      "metadata": {
        "id": "EuMFH5U2Y3W4"
      }
    },
    {
      "cell_type": "markdown",
      "source": [
        ">[Table of Contents](#scrollTo=EuMFH5U2Y3W4)\n",
        "\n",
        ">[Import](#scrollTo=Znx-l3msYrFJ)\n",
        "\n",
        ">[Create the pyspark Session](#scrollTo=MhhRFXx4Y86g)\n",
        "\n",
        ">>[Loading the Dataset](#scrollTo=peyWMxNLY_09)\n",
        "\n",
        ">[Preprocessing](#scrollTo=ky2jG1DSZLwk)\n",
        "\n",
        ">>[Drop unwanted columns from the dataset](#scrollTo=2BioBda0ZFcP)\n",
        "\n",
        ">>[Shape of Data](#scrollTo=i0iA5wNiZQh-)\n",
        "\n",
        ">>[Data Schema](#scrollTo=A78MlvxmZWQQ)\n",
        "\n",
        ">>[Data description](#scrollTo=Yse6oD9hZTvW)\n",
        "\n",
        ">[Preprocessing with pyspark.ml.features](#scrollTo=FOo5zqO4ZeRQ)\n",
        "\n",
        ">>[Imputer](#scrollTo=0ZyfTplLdD6F)\n",
        "\n",
        ">>[StringIndexer](#scrollTo=Co_GgkrZ9APQ)\n",
        "\n",
        ">>>[Pipeline](#scrollTo=J3UAYHXYEEWN)\n",
        "\n",
        ">>[SQLTransformer](#scrollTo=jvx_W7gVB4Qu)\n",
        "\n",
        ">>>[Graph: Age distribution](#scrollTo=T6zg6wvYZpXx)\n",
        "\n",
        ">>[Binarizer](#scrollTo=JyWXlbaPESpO)\n",
        "\n",
        ">>[Bucketizer](#scrollTo=G_94DEUuLB-s)\n",
        "\n",
        ">>>[Graph: Monthly income buckets and Average Monthly Salary](#scrollTo=sjV3KyTTZu4Q)\n",
        "\n",
        ">>[QuantileDiscretizer](#scrollTo=rrIJYmW84olE)\n",
        "\n",
        ">>[RegexTokenizer](#scrollTo=ZDhdyP27L-kJ)\n",
        "\n",
        ">>[One hot encoder](#scrollTo=-UTmSbz-LFWJ)\n",
        "\n",
        ">>>[Dropping Unwanted Columns post preprocessing](#scrollTo=JmrJ3HELgLky)\n",
        "\n",
        ">>[VectorAssembler](#scrollTo=NTrE39Ax3G-J)\n",
        "\n",
        ">>[StandardScalar](#scrollTo=6J7Uz21Xveq5)\n",
        "\n",
        ">[Classification](#scrollTo=WmkTdOx0Aj7j)\n",
        "\n",
        ">>[Train test Split](#scrollTo=Sm93VqETaTz9)\n",
        "\n",
        ">>[Logistic Regression](#scrollTo=zjYx6KTKA1k8)\n",
        "\n",
        ">>[LinearSVC](#scrollTo=JGu_xv2eAmN2)\n",
        "\n",
        ">>[DecisionTreeClassifier](#scrollTo=_YoPUemsA6iy)\n",
        "\n",
        ">>[GBTClassifier](#scrollTo=p4oOYChYBEE1)\n",
        "\n",
        ">>[RandomForestClassifier](#scrollTo=w6JBqvmDBHl6)\n",
        "\n",
        ">>[Model Evaluation](#scrollTo=avtLxBLMa2Sl)\n",
        "\n",
        ">>>[Create a dataframe of all the models and their metrics](#scrollTo=ULuYPjkqYS3h)\n",
        "\n",
        ">>>[Best Model](#scrollTo=uEA9B8t1YZxb)\n",
        "\n",
        ">>[Inference](#scrollTo=gmYXm5mpa5v-)\n",
        "\n"
      ],
      "metadata": {
        "colab_type": "toc",
        "id": "z8LNpCmRYy-6"
      }
    },
    {
      "cell_type": "markdown",
      "source": [
        "# Import\n",
        "\n",
        "Import all the necessary libraries "
      ],
      "metadata": {
        "id": "Znx-l3msYrFJ"
      }
    },
    {
      "cell_type": "code",
      "source": [
        "try:\n",
        "  from pyspark.sql import SparkSession\n",
        "except:\n",
        "  !pip install pyspark\n",
        "  !pip install wget\n",
        "  \n",
        "from pyspark.sql import SparkSession\n",
        "import wget\n",
        "import pandas as pd\n",
        "import numpy as np\n",
        "import seaborn as sns\n",
        "import matplotlib.pyplot as plt\n",
        "\n",
        "from pyspark.sql.functions import col,isnan, when, count\n",
        "from pyspark.sql.types import IntegerType,BooleanType,DateType\n",
        "\n",
        "from pyspark.ml.feature import Imputer, StringIndexer,SQLTransformer,Binarizer,RegexTokenizer\n",
        "from pyspark.ml.feature import OneHotEncoder,StandardScaler,Bucketizer,QuantileDiscretizer, VectorAssembler\n",
        "from pyspark.ml.pipeline import Pipeline\n",
        "\n",
        "%matplotlib inline"
      ],
      "metadata": {
        "id": "4EyCJtOFdX1S"
      },
      "execution_count": 1,
      "outputs": []
    },
    {
      "cell_type": "markdown",
      "source": [
        "# Create the pyspark Session"
      ],
      "metadata": {
        "id": "MhhRFXx4Y86g"
      }
    },
    {
      "cell_type": "code",
      "source": [
        "session=SparkSession.builder.appName(\"Classification\").master(\"local\").getOrCreate()"
      ],
      "metadata": {
        "id": "A_pdvqxQdrwo"
      },
      "execution_count": 2,
      "outputs": []
    },
    {
      "cell_type": "markdown",
      "source": [
        "## Loading the Dataset"
      ],
      "metadata": {
        "id": "peyWMxNLY_09"
      }
    },
    {
      "cell_type": "code",
      "source": [
        "dataset=session.read.csv(wget.download(\"https://raw.githubusercontent.com/NamanJhawar-NMIMS/Classification-with-pyspark/main/watson_healthcare_attrition.csv\"),header=True,inferSchema=True)"
      ],
      "metadata": {
        "id": "BE7bXtydeHTy"
      },
      "execution_count": 3,
      "outputs": []
    },
    {
      "cell_type": "code",
      "source": [
        "dataset.show(5)"
      ],
      "metadata": {
        "colab": {
          "base_uri": "https://localhost:8080/"
        },
        "id": "nBqPoSidGf_l",
        "outputId": "45c6bd90-5c41-4bac-8490-527e02777cc4"
      },
      "execution_count": 4,
      "outputs": [
        {
          "output_type": "stream",
          "name": "stdout",
          "text": [
            "+----------+---+---------+-----------------+---------+----------+----------------+---------+--------------+-------------+-----------------------+------+----------+--------------+--------+-------+---------------+-------------+-------------+-----------+------------------+------+--------+-----------------+-----------------+------------------------+-------------+-----+-----------------+---------------------+---------------+--------------+------------------+-----------------------+--------------------+\n",
            "|EmployeeID|Age|Attrition|   BusinessTravel|DailyRate|Department|DistanceFromHome|Education|EducationField|EmployeeCount|EnvironmentSatisfaction|Gender|HourlyRate|JobInvolvement|JobLevel|JobRole|JobSatisfaction|MaritalStatus|MonthlyIncome|MonthlyRate|NumCompaniesWorked|Over18|OverTime|PercentSalaryHike|PerformanceRating|RelationshipSatisfaction|StandardHours|Shift|TotalWorkingYears|TrainingTimesLastYear|WorkLifeBalance|YearsAtCompany|YearsInCurrentRole|YearsSinceLastPromotion|YearsWithCurrManager|\n",
            "+----------+---+---------+-----------------+---------+----------+----------------+---------+--------------+-------------+-----------------------+------+----------+--------------+--------+-------+---------------+-------------+-------------+-----------+------------------+------+--------+-----------------+-----------------+------------------------+-------------+-----+-----------------+---------------------+---------------+--------------+------------------+-----------------------+--------------------+\n",
            "|   1313919| 41|       No|    Travel_Rarely|     1102|Cardiology|            1 km|        2| Life Sciences|            1|                      2|Female|        94|             3|       2|  Nurse|              4|       Single|         5993|      19479|                 8|     Y|     Yes|               11|                3|                       1|           80|    0|                8|                    0|              1|             6|                 4|                      0|                   5|\n",
            "|   1200302| 49|       No|Travel_Frequently|      279| Maternity|            8 km|        1| Life Sciences|            1|                      3|  Male|        61|             2|       2|  Other|              2|      Married|         5130|      24907|                 1|     Y|      No|               23|                4|                       4|           80|    1|               10|                    3|              3|            10|                 7|                      1|                   7|\n",
            "|   1060315| 37|      Yes|    Travel_Rarely|     1373| Maternity|            2 km|        2|         Other|            1|                      4|  Male|        92|             2|       1|  Nurse|              3|       Single|         2090|       2396|                 6|     Y|     Yes|               15|                3|                       2|           80|    0|                7|                    3|              3|             0|                 0|                      0|                   0|\n",
            "|   1272912| 33|       No|Travel_Frequently|     1392| Maternity|            3 km|        4| Life Sciences|            1|                      4|Female|        56|             3|       1|  Other|              3|      Married|         2909|      23159|                 1|     Y|     Yes|               11|                3|                       3|           80|    0|                8|                    3|              3|             8|                 7|                      3|                   0|\n",
            "|   1414939| 27|       No|    Travel_Rarely|      591| Maternity|            2 km|        1|       Medical|            1|                      1|  Male|        40|             3|       1|  Nurse|              2|      Married|         3468|      16632|                 9|     Y|      No|               12|                3|                       4|           80|    1|                6|                    3|              3|             2|                 2|                      2|                   2|\n",
            "+----------+---+---------+-----------------+---------+----------+----------------+---------+--------------+-------------+-----------------------+------+----------+--------------+--------+-------+---------------+-------------+-------------+-----------+------------------+------+--------+-----------------+-----------------+------------------------+-------------+-----+-----------------+---------------------+---------------+--------------+------------------+-----------------------+--------------------+\n",
            "only showing top 5 rows\n",
            "\n"
          ]
        }
      ]
    },
    {
      "cell_type": "markdown",
      "source": [
        "# Preprocessing"
      ],
      "metadata": {
        "id": "ky2jG1DSZLwk"
      }
    },
    {
      "cell_type": "code",
      "source": [
        "original_columns=list(dataset.columns)"
      ],
      "metadata": {
        "id": "qZGqDYT0glWi"
      },
      "execution_count": 5,
      "outputs": []
    },
    {
      "cell_type": "markdown",
      "source": [
        "## Drop unwanted columns from the dataset"
      ],
      "metadata": {
        "id": "2BioBda0ZFcP"
      }
    },
    {
      "cell_type": "code",
      "source": [
        "# Dropping these columns as they are not important and won't help in the classification\n",
        "dataset=dataset.drop(*['StandardHours','EmployeeID','EmployeeCount','Over18'])\n"
      ],
      "metadata": {
        "id": "waQEvscr_dn3"
      },
      "execution_count": 6,
      "outputs": []
    },
    {
      "cell_type": "code",
      "source": [
        "dataset.show(5)"
      ],
      "metadata": {
        "colab": {
          "base_uri": "https://localhost:8080/"
        },
        "id": "DCqErV-uendn",
        "outputId": "ff776f65-b783-4f0d-edde-809854052f71"
      },
      "execution_count": 7,
      "outputs": [
        {
          "output_type": "stream",
          "name": "stdout",
          "text": [
            "+---+---------+-----------------+---------+----------+----------------+---------+--------------+-----------------------+------+----------+--------------+--------+-------+---------------+-------------+-------------+-----------+------------------+--------+-----------------+-----------------+------------------------+-----+-----------------+---------------------+---------------+--------------+------------------+-----------------------+--------------------+\n",
            "|Age|Attrition|   BusinessTravel|DailyRate|Department|DistanceFromHome|Education|EducationField|EnvironmentSatisfaction|Gender|HourlyRate|JobInvolvement|JobLevel|JobRole|JobSatisfaction|MaritalStatus|MonthlyIncome|MonthlyRate|NumCompaniesWorked|OverTime|PercentSalaryHike|PerformanceRating|RelationshipSatisfaction|Shift|TotalWorkingYears|TrainingTimesLastYear|WorkLifeBalance|YearsAtCompany|YearsInCurrentRole|YearsSinceLastPromotion|YearsWithCurrManager|\n",
            "+---+---------+-----------------+---------+----------+----------------+---------+--------------+-----------------------+------+----------+--------------+--------+-------+---------------+-------------+-------------+-----------+------------------+--------+-----------------+-----------------+------------------------+-----+-----------------+---------------------+---------------+--------------+------------------+-----------------------+--------------------+\n",
            "| 41|       No|    Travel_Rarely|     1102|Cardiology|            1 km|        2| Life Sciences|                      2|Female|        94|             3|       2|  Nurse|              4|       Single|         5993|      19479|                 8|     Yes|               11|                3|                       1|    0|                8|                    0|              1|             6|                 4|                      0|                   5|\n",
            "| 49|       No|Travel_Frequently|      279| Maternity|            8 km|        1| Life Sciences|                      3|  Male|        61|             2|       2|  Other|              2|      Married|         5130|      24907|                 1|      No|               23|                4|                       4|    1|               10|                    3|              3|            10|                 7|                      1|                   7|\n",
            "| 37|      Yes|    Travel_Rarely|     1373| Maternity|            2 km|        2|         Other|                      4|  Male|        92|             2|       1|  Nurse|              3|       Single|         2090|       2396|                 6|     Yes|               15|                3|                       2|    0|                7|                    3|              3|             0|                 0|                      0|                   0|\n",
            "| 33|       No|Travel_Frequently|     1392| Maternity|            3 km|        4| Life Sciences|                      4|Female|        56|             3|       1|  Other|              3|      Married|         2909|      23159|                 1|     Yes|               11|                3|                       3|    0|                8|                    3|              3|             8|                 7|                      3|                   0|\n",
            "| 27|       No|    Travel_Rarely|      591| Maternity|            2 km|        1|       Medical|                      1|  Male|        40|             3|       1|  Nurse|              2|      Married|         3468|      16632|                 9|      No|               12|                3|                       4|    1|                6|                    3|              3|             2|                 2|                      2|                   2|\n",
            "+---+---------+-----------------+---------+----------+----------------+---------+--------------+-----------------------+------+----------+--------------+--------+-------+---------------+-------------+-------------+-----------+------------------+--------+-----------------+-----------------+------------------------+-----+-----------------+---------------------+---------------+--------------+------------------+-----------------------+--------------------+\n",
            "only showing top 5 rows\n",
            "\n"
          ]
        }
      ]
    },
    {
      "cell_type": "code",
      "source": [
        "dataset.count()"
      ],
      "metadata": {
        "id": "N9_DywUXeovl",
        "colab": {
          "base_uri": "https://localhost:8080/"
        },
        "outputId": "917dd8fc-84aa-4db3-da91-7f104633b806"
      },
      "execution_count": 8,
      "outputs": [
        {
          "output_type": "execute_result",
          "data": {
            "text/plain": [
              "1676"
            ]
          },
          "metadata": {},
          "execution_count": 8
        }
      ]
    },
    {
      "cell_type": "markdown",
      "source": [
        "## Shape of Data"
      ],
      "metadata": {
        "id": "i0iA5wNiZQh-"
      }
    },
    {
      "cell_type": "code",
      "source": [
        "print(f\"Shape of Data:\\n{dataset.count(),len(dataset.columns)}\")"
      ],
      "metadata": {
        "colab": {
          "base_uri": "https://localhost:8080/"
        },
        "id": "3Lf126SahIma",
        "outputId": "9a303bc7-ca40-4e1d-aade-7f165180a717"
      },
      "execution_count": 9,
      "outputs": [
        {
          "output_type": "stream",
          "name": "stdout",
          "text": [
            "Shape of Data:\n",
            "(1676, 31)\n"
          ]
        }
      ]
    },
    {
      "cell_type": "markdown",
      "source": [
        "## Data Schema"
      ],
      "metadata": {
        "id": "A78MlvxmZWQQ"
      }
    },
    {
      "cell_type": "code",
      "source": [
        "dataset.printSchema()"
      ],
      "metadata": {
        "colab": {
          "base_uri": "https://localhost:8080/"
        },
        "id": "rBvvjpfeWA5R",
        "outputId": "2d82b796-da58-4311-9d1a-334ee1ce9d19"
      },
      "execution_count": 10,
      "outputs": [
        {
          "output_type": "stream",
          "name": "stdout",
          "text": [
            "root\n",
            " |-- Age: integer (nullable = true)\n",
            " |-- Attrition: string (nullable = true)\n",
            " |-- BusinessTravel: string (nullable = true)\n",
            " |-- DailyRate: integer (nullable = true)\n",
            " |-- Department: string (nullable = true)\n",
            " |-- DistanceFromHome: string (nullable = true)\n",
            " |-- Education: integer (nullable = true)\n",
            " |-- EducationField: string (nullable = true)\n",
            " |-- EnvironmentSatisfaction: integer (nullable = true)\n",
            " |-- Gender: string (nullable = true)\n",
            " |-- HourlyRate: integer (nullable = true)\n",
            " |-- JobInvolvement: integer (nullable = true)\n",
            " |-- JobLevel: integer (nullable = true)\n",
            " |-- JobRole: string (nullable = true)\n",
            " |-- JobSatisfaction: integer (nullable = true)\n",
            " |-- MaritalStatus: string (nullable = true)\n",
            " |-- MonthlyIncome: integer (nullable = true)\n",
            " |-- MonthlyRate: integer (nullable = true)\n",
            " |-- NumCompaniesWorked: integer (nullable = true)\n",
            " |-- OverTime: string (nullable = true)\n",
            " |-- PercentSalaryHike: integer (nullable = true)\n",
            " |-- PerformanceRating: integer (nullable = true)\n",
            " |-- RelationshipSatisfaction: integer (nullable = true)\n",
            " |-- Shift: integer (nullable = true)\n",
            " |-- TotalWorkingYears: integer (nullable = true)\n",
            " |-- TrainingTimesLastYear: integer (nullable = true)\n",
            " |-- WorkLifeBalance: integer (nullable = true)\n",
            " |-- YearsAtCompany: integer (nullable = true)\n",
            " |-- YearsInCurrentRole: integer (nullable = true)\n",
            " |-- YearsSinceLastPromotion: integer (nullable = true)\n",
            " |-- YearsWithCurrManager: integer (nullable = true)\n",
            "\n"
          ]
        }
      ]
    },
    {
      "cell_type": "markdown",
      "source": [
        "## Data description"
      ],
      "metadata": {
        "id": "Yse6oD9hZTvW"
      }
    },
    {
      "cell_type": "code",
      "source": [
        "dataset.describe().show()"
      ],
      "metadata": {
        "colab": {
          "base_uri": "https://localhost:8080/"
        },
        "id": "R_N2jCgYWCkA",
        "outputId": "b062caa9-213c-4849-9c8f-7205c8084549"
      },
      "execution_count": 11,
      "outputs": [
        {
          "output_type": "stream",
          "name": "stdout",
          "text": [
            "+-------+-----------------+---------+--------------+-----------------+----------+----------------+------------------+----------------+-----------------------+------+-----------------+------------------+------------------+---------+------------------+-------------+-----------------+-----------------+------------------+--------+------------------+------------------+------------------------+------------------+-----------------+---------------------+------------------+-----------------+------------------+-----------------------+--------------------+\n",
            "|summary|              Age|Attrition|BusinessTravel|        DailyRate|Department|DistanceFromHome|         Education|  EducationField|EnvironmentSatisfaction|Gender|       HourlyRate|    JobInvolvement|          JobLevel|  JobRole|   JobSatisfaction|MaritalStatus|    MonthlyIncome|      MonthlyRate|NumCompaniesWorked|OverTime| PercentSalaryHike| PerformanceRating|RelationshipSatisfaction|             Shift|TotalWorkingYears|TrainingTimesLastYear|   WorkLifeBalance|   YearsAtCompany|YearsInCurrentRole|YearsSinceLastPromotion|YearsWithCurrManager|\n",
            "+-------+-----------------+---------+--------------+-----------------+----------+----------------+------------------+----------------+-----------------------+------+-----------------+------------------+------------------+---------+------------------+-------------+-----------------+-----------------+------------------+--------+------------------+------------------+------------------------+------------------+-----------------+---------------------+------------------+-----------------+------------------+-----------------------+--------------------+\n",
            "|  count|             1664|     1676|          1676|             1660|      1676|            1676|              1676|            1676|                   1676|  1676|             1676|              1676|              1676|     1676|              1676|         1673|             1676|             1676|              1676|    1676|              1676|              1676|                    1676|              1676|             1676|                 1673|              1676|             1676|              1676|                   1676|                1676|\n",
            "|   mean|36.90865384615385|     null|          null|803.2373493975904|      null|            null|2.9075178997613365|            null|      2.714797136038186|  null|65.47016706443914|2.7249403341288785|2.0668257756563246|     null|2.7386634844868736|         null|6516.512529832936|14287.01968973747| 2.662291169451074|    null| 15.19689737470167|3.1503579952267304|      2.7183770883054894|0.8060859188544153|11.33890214797136|   2.8063359234907352|2.7661097852028638|7.033412887828162|  4.26491646778043|      2.200477326968974|   4.135441527446301|\n",
            "| stddev|9.014057151399268|     null|          null|  400.20150175108|      null|            null|1.0258350146545725|            null|      1.097534014983373|  null|20.20757222271522|0.7141208953351504| 1.113422989750691|     null|1.1040048145593835|         null|4728.456618272787|7138.857783228654| 2.477704378293447|    null|3.6465501067998565|0.3575286526063966|      1.0781615047184856|0.8555273920709324|7.834996255033527|   1.2892759826106757|0.7023691404329718|6.098990808531865| 3.627455593466369|     3.2295870646018856|  3.5596624670836383|\n",
            "|    min|               19|       No|    Non-Travel|              102|Cardiology|            1 km|                 1| Human Resources|                      1|Female|               30|                 1|                 1|    Admin|                 1|     Divorced|             1009|             2094|                 0|      No|                11|                 3|                       1|                 0|                0|                    0|                 1|                0|                 0|                      0|                   0|\n",
            "|    max|               60|      Yes| Travel_Rarely|             1499| Neurology|            9 km|                 5|Technical Degree|                      4|  Male|              100|                 4|                 5|Therapist|                 4|       Single|            19999|            26999|                 9|     Yes|                25|                 4|                       4|                 3|               40|                    6|                 4|               40|                18|                     15|                  17|\n",
            "+-------+-----------------+---------+--------------+-----------------+----------+----------------+------------------+----------------+-----------------------+------+-----------------+------------------+------------------+---------+------------------+-------------+-----------------+-----------------+------------------+--------+------------------+------------------+------------------------+------------------+-----------------+---------------------+------------------+-----------------+------------------+-----------------------+--------------------+\n",
            "\n"
          ]
        }
      ]
    },
    {
      "cell_type": "code",
      "source": [
        "print(f\"Number of columns: {len(dataset.columns)}\")"
      ],
      "metadata": {
        "colab": {
          "base_uri": "https://localhost:8080/"
        },
        "id": "MfVI8glBWZNQ",
        "outputId": "5e63a996-b125-4acf-c0d9-227784f47c8b"
      },
      "execution_count": 12,
      "outputs": [
        {
          "output_type": "stream",
          "name": "stdout",
          "text": [
            "Number of columns: 31\n"
          ]
        }
      ]
    },
    {
      "cell_type": "code",
      "source": [
        "df_dataset=pd.read_csv('watson_healthcare_attrition.csv')\n"
      ],
      "metadata": {
        "id": "FbyKQIt9Ye7f"
      },
      "execution_count": 13,
      "outputs": []
    },
    {
      "cell_type": "code",
      "source": [
        "df_temp=(df_dataset.isnull().sum()).to_frame()\n",
        "df_temp[df_temp[0]>0]\n",
        "columns_with_missing_values=list(df_temp[df_temp[0]>0].index)"
      ],
      "metadata": {
        "id": "PCwo34FnYy6k"
      },
      "execution_count": 14,
      "outputs": []
    },
    {
      "cell_type": "code",
      "source": [
        "dataset[columns_with_missing_values].printSchema()\n",
        "\n",
        "# There are 3 integer variables with missing values\n",
        "# There are 1 string variables with missing values"
      ],
      "metadata": {
        "colab": {
          "base_uri": "https://localhost:8080/"
        },
        "id": "_p0zmvLbZ9EO",
        "outputId": "7db543ab-94af-4429-fbdc-a9458508ef32"
      },
      "execution_count": 15,
      "outputs": [
        {
          "output_type": "stream",
          "name": "stdout",
          "text": [
            "root\n",
            " |-- Age: integer (nullable = true)\n",
            " |-- DailyRate: integer (nullable = true)\n",
            " |-- MaritalStatus: string (nullable = true)\n",
            " |-- TrainingTimesLastYear: integer (nullable = true)\n",
            "\n"
          ]
        }
      ]
    },
    {
      "cell_type": "code",
      "source": [
        "dataset.columns"
      ],
      "metadata": {
        "colab": {
          "base_uri": "https://localhost:8080/"
        },
        "id": "_mWPDaNWg_8j",
        "outputId": "48e35cd2-1fe0-4d53-8fee-7ed34b559ceb"
      },
      "execution_count": 16,
      "outputs": [
        {
          "output_type": "execute_result",
          "data": {
            "text/plain": [
              "['Age',\n",
              " 'Attrition',\n",
              " 'BusinessTravel',\n",
              " 'DailyRate',\n",
              " 'Department',\n",
              " 'DistanceFromHome',\n",
              " 'Education',\n",
              " 'EducationField',\n",
              " 'EnvironmentSatisfaction',\n",
              " 'Gender',\n",
              " 'HourlyRate',\n",
              " 'JobInvolvement',\n",
              " 'JobLevel',\n",
              " 'JobRole',\n",
              " 'JobSatisfaction',\n",
              " 'MaritalStatus',\n",
              " 'MonthlyIncome',\n",
              " 'MonthlyRate',\n",
              " 'NumCompaniesWorked',\n",
              " 'OverTime',\n",
              " 'PercentSalaryHike',\n",
              " 'PerformanceRating',\n",
              " 'RelationshipSatisfaction',\n",
              " 'Shift',\n",
              " 'TotalWorkingYears',\n",
              " 'TrainingTimesLastYear',\n",
              " 'WorkLifeBalance',\n",
              " 'YearsAtCompany',\n",
              " 'YearsInCurrentRole',\n",
              " 'YearsSinceLastPromotion',\n",
              " 'YearsWithCurrManager']"
            ]
          },
          "metadata": {},
          "execution_count": 16
        }
      ]
    },
    {
      "cell_type": "markdown",
      "source": [
        "# Preprocessing with pyspark.ml.features"
      ],
      "metadata": {
        "id": "FOo5zqO4ZeRQ"
      }
    },
    {
      "cell_type": "markdown",
      "source": [
        "## 1. Imputer"
      ],
      "metadata": {
        "id": "0ZyfTplLdD6F"
      }
    },
    {
      "cell_type": "code",
      "source": [
        "imputer = Imputer()\n",
        "imputer.setInputCols(list(set(columns_with_missing_values)-set(['MaritalStatus'])))\n",
        "imputer.setOutputCols([outcol+\"_imputed\" for outcol in list(set(columns_with_missing_values)-set(['MaritalStatus']))])\n",
        "imputer.setStrategy(\"median\")\n"
      ],
      "metadata": {
        "colab": {
          "base_uri": "https://localhost:8080/"
        },
        "id": "WsotKYnWdF0c",
        "outputId": "5a18c4b3-0d8e-4bea-f1a2-eb8e7e04120d"
      },
      "execution_count": 17,
      "outputs": [
        {
          "output_type": "execute_result",
          "data": {
            "text/plain": [
              "Imputer_7728f8548cba"
            ]
          },
          "metadata": {},
          "execution_count": 17
        }
      ]
    },
    {
      "cell_type": "markdown",
      "source": [
        "##2. StringIndexer\n",
        "Impute Categorical Variables\n",
        "\n",
        "This can be achived by first label encoding the categorical column and then using imputation."
      ],
      "metadata": {
        "id": "Co_GgkrZ9APQ"
      }
    },
    {
      "cell_type": "code",
      "source": [
        "stringIndexer_imputer=StringIndexer(inputCol='MaritalStatus',outputCol='MaritalStatus_indexed',stringOrderType=\"frequencyDesc\",handleInvalid='keep')\n"
      ],
      "metadata": {
        "id": "Rxau_6bL8-zh"
      },
      "execution_count": 18,
      "outputs": []
    },
    {
      "cell_type": "markdown",
      "source": [
        "### Pipeline"
      ],
      "metadata": {
        "id": "J3UAYHXYEEWN"
      }
    },
    {
      "cell_type": "code",
      "source": [
        "mypipeline_imputer=Pipeline(stages=[imputer,stringIndexer_imputer])\n",
        "dataset=mypipeline_imputer.fit(dataset).transform(dataset)\n"
      ],
      "metadata": {
        "id": "z5ZhGHhlEFKA"
      },
      "execution_count": 19,
      "outputs": []
    },
    {
      "cell_type": "code",
      "source": [
        "\n",
        "\"\"\"As the MaritalStatus_Indexed column has null values and we have handled the Invalid cells, we need to remove that category which has\n",
        "been created by the system to handle null values. In order to do that, we will convert the pyspark Dataframe into a pandas Dataframe and \n",
        "then replace the last category with null values\"\"\"\n",
        "\n",
        "pd_df=dataset.toPandas()\n",
        "pd_df.loc[pd_df[pd_df.MaritalStatus_indexed==3].index,\"MaritalStatus_indexed\"]=np.nan\n",
        "dataset=session.createDataFrame(pd_df)\n",
        "\n",
        "imputer_category=Imputer(inputCol=\"MaritalStatus_indexed\",outputCol='MaritalStatus_indexed_imputed',strategy=\"mode\")\n",
        "\n",
        "mypipeline=Pipeline(stages=[imputer_category])\n",
        "dataset=mypipeline.fit(dataset).transform(dataset)\n",
        "\n",
        "# drop the columns that are not needed\n",
        "\n",
        "dataset=dataset.drop(\"MaritalStatus_indexed\")\n",
        "dataset.show()"
      ],
      "metadata": {
        "colab": {
          "base_uri": "https://localhost:8080/"
        },
        "id": "ihfOast7iKx2",
        "outputId": "434a50db-5579-4331-872a-836a70982eb0"
      },
      "execution_count": 20,
      "outputs": [
        {
          "output_type": "stream",
          "name": "stdout",
          "text": [
            "+----+---------+-----------------+---------+----------+----------------+---------+--------------+-----------------------+------+----------+--------------+--------+--------------+---------------+-------------+-------------+-----------+------------------+--------+-----------------+-----------------+------------------------+-----+-----------------+---------------------+---------------+--------------+------------------+-----------------------+--------------------+-----------------------------+-----------+-----------------+-----------------------------+\n",
            "| Age|Attrition|   BusinessTravel|DailyRate|Department|DistanceFromHome|Education|EducationField|EnvironmentSatisfaction|Gender|HourlyRate|JobInvolvement|JobLevel|       JobRole|JobSatisfaction|MaritalStatus|MonthlyIncome|MonthlyRate|NumCompaniesWorked|OverTime|PercentSalaryHike|PerformanceRating|RelationshipSatisfaction|Shift|TotalWorkingYears|TrainingTimesLastYear|WorkLifeBalance|YearsAtCompany|YearsInCurrentRole|YearsSinceLastPromotion|YearsWithCurrManager|TrainingTimesLastYear_imputed|Age_imputed|DailyRate_imputed|MaritalStatus_indexed_imputed|\n",
            "+----+---------+-----------------+---------+----------+----------------+---------+--------------+-----------------------+------+----------+--------------+--------+--------------+---------------+-------------+-------------+-----------+------------------+--------+-----------------+-----------------+------------------------+-----+-----------------+---------------------+---------------+--------------+------------------+-----------------------+--------------------+-----------------------------+-----------+-----------------+-----------------------------+\n",
            "|41.0|       No|    Travel_Rarely|   1102.0|Cardiology|            1 km|        2| Life Sciences|                      2|Female|        94|             3|       2|         Nurse|              4|       Single|         5993|      19479|                 8|     Yes|               11|                3|                       1|    0|                8|                  0.0|              1|             6|                 4|                      0|                   5|                            0|         41|             1102|                          1.0|\n",
            "|49.0|       No|Travel_Frequently|    279.0| Maternity|            8 km|        1| Life Sciences|                      3|  Male|        61|             2|       2|         Other|              2|      Married|         5130|      24907|                 1|      No|               23|                4|                       4|    1|               10|                  3.0|              3|            10|                 7|                      1|                   7|                            3|         49|              279|                          0.0|\n",
            "|37.0|      Yes|    Travel_Rarely|   1373.0| Maternity|            2 km|        2|         Other|                      4|  Male|        92|             2|       1|         Nurse|              3|       Single|         2090|       2396|                 6|     Yes|               15|                3|                       2|    0|                7|                  3.0|              3|             0|                 0|                      0|                   0|                            3|         37|             1373|                          1.0|\n",
            "|33.0|       No|Travel_Frequently|   1392.0| Maternity|            3 km|        4| Life Sciences|                      4|Female|        56|             3|       1|         Other|              3|      Married|         2909|      23159|                 1|     Yes|               11|                3|                       3|    0|                8|                  3.0|              3|             8|                 7|                      3|                   0|                            3|         33|             1392|                          0.0|\n",
            "|27.0|       No|    Travel_Rarely|    591.0| Maternity|            2 km|        1|       Medical|                      1|  Male|        40|             3|       1|         Nurse|              2|      Married|         3468|      16632|                 9|      No|               12|                3|                       4|    1|                6|                  3.0|              3|             2|                 2|                      2|                   2|                            3|         27|              591|                          0.0|\n",
            "|32.0|       No|Travel_Frequently|   1005.0| Maternity|            2 km|        2| Life Sciences|                      4|  Male|        79|             3|       1|         Nurse|              4|       Single|         3068|      11864|                 0|      No|               13|                3|                       3|    0|                8|                  2.0|              2|             7|                 7|                      3|                   6|                            2|         32|             1005|                          1.0|\n",
            "|59.0|       No|    Travel_Rarely|   1324.0| Maternity|            3 km|        3|       Medical|                      3|Female|        81|             4|       1|         Nurse|              1|      Married|         2670|       9964|                 4|     Yes|               20|                4|                       1|    3|               12|                  3.0|              2|             1|                 0|                      0|                   0|                            3|         59|             1324|                          0.0|\n",
            "|30.0|       No|    Travel_Rarely|   1358.0| Maternity|           24 km|        1| Life Sciences|                      4|  Male|        67|             3|       1|         Nurse|              3|     Divorced|         2693|      13335|                 1|      No|               22|                4|                       2|    1|                1|                  2.0|              3|             1|                 0|                      0|                   0|                            2|         30|             1358|                          2.0|\n",
            "|38.0|       No|Travel_Frequently|    216.0| Maternity|           23 km|        3| Life Sciences|                      4|  Male|        44|             2|       3|     Therapist|              3|       Single|         9526|       8787|                 0|      No|               21|                4|                       2|    0|               10|                  2.0|              3|             9|                 7|                      1|                   8|                            2|         38|              216|                          1.0|\n",
            "|36.0|       No|    Travel_Rarely|   1299.0| Maternity|           27 km|        3|       Medical|                      3|  Male|        94|             3|       2|         Nurse|              3|      Married|         5237|      16577|                 6|      No|               13|                3|                       2|    2|               17|                  3.0|              2|             7|                 7|                      7|                   7|                            3|         36|             1299|                          0.0|\n",
            "|35.0|       No|    Travel_Rarely|    809.0| Maternity|           16 km|        3|       Medical|                      1|  Male|        84|             4|       1|         Nurse|              2|      Married|         2426|      16479|                 0|      No|               13|                3|                       3|    1|                6|                  5.0|              3|             5|                 4|                      0|                   3|                            5|         35|              809|                          0.0|\n",
            "|29.0|       No|    Travel_Rarely|    153.0| Maternity|           15 km|        2| Life Sciences|                      4|Female|        49|             2|       2|         Nurse|              3|       Single|         4193|      12682|                 0|     Yes|               12|                3|                       4|    0|               10|                  3.0|              3|             9|                 5|                      0|                   8|                            3|         29|              153|                          1.0|\n",
            "|31.0|       No|    Travel_Rarely|    670.0| Maternity|           26 km|        1| Life Sciences|                      1|  Male|        31|             3|       1|         Other|              3|     Divorced|         2911|      15170|                 1|      No|               17|                3|                       4|    1|                5|                  1.0|              2|             5|                 2|                      4|                   3|                            1|         31|              670|                          2.0|\n",
            "|34.0|       No|    Travel_Rarely|   1346.0| Maternity|           19 km|        2|       Medical|                      2|  Male|        93|             3|       1|         Nurse|              4|     Divorced|         2661|       8758|                 0|      No|               11|                3|                       3|    1|                3|                  2.0|              3|             2|                 2|                      1|                   2|                            2|         34|             1346|                          2.0|\n",
            "|28.0|      Yes|    Travel_Rarely|    103.0| Maternity|           24 km|        3| Life Sciences|                      3|  Male|        50|             2|       1|         Nurse|              3|       Single|         2028|      12947|                 5|     Yes|               14|                3|                       2|    0|                6|                  4.0|              3|             4|                 2|                      0|                   3|                            4|         28|              103|                          1.0|\n",
            "|29.0|       No|    Travel_Rarely|   1389.0| Maternity|           21 km|        4| Life Sciences|                      2|Female|        51|             4|       3|     Therapist|              1|     Divorced|         9980|      10195|                 1|      No|               11|                3|                       3|    1|               10|                  1.0|              3|            10|                 9|                      8|                   8|                            1|         29|             1389|                          2.0|\n",
            "|32.0|       No|    Travel_Rarely|    334.0| Maternity|            5 km|        2| Life Sciences|                      1|  Male|        80|             4|       1|         Other|              2|     Divorced|         3298|      15053|                 0|     Yes|               12|                3|                       4|    2|                7|                  5.0|              2|             6|                 2|                      0|                   5|                            5|         32|              334|                          2.0|\n",
            "|22.0|       No|       Non-Travel|   1123.0| Maternity|           16 km|        2|       Medical|                      4|  Male|        96|             4|       1|         Nurse|              4|     Divorced|         2935|       7324|                 1|     Yes|               13|                3|                       2|    2|                1|                  2.0|              2|             1|                 0|                      0|                   0|                            2|         22|             1123|                          2.0|\n",
            "|53.0|       No|    Travel_Rarely|   1219.0|Cardiology|            2 km|        4| Life Sciences|                      1|Female|        78|             2|       4|Administrative|              4|      Married|        15427|      22021|                 2|      No|               16|                3|                       3|    0|               31|                  3.0|              3|            25|                 8|                      3|                   7|                            3|         53|             1219|                          0.0|\n",
            "|38.0|       No|    Travel_Rarely|    371.0| Maternity|            2 km|        3| Life Sciences|                      4|  Male|        45|             3|       1|         Other|              4|       Single|         3944|       4306|                 5|     Yes|               11|                3|                       3|    0|                6|                  3.0|              3|             3|                 2|                      1|                   2|                            3|         38|              371|                          1.0|\n",
            "+----+---------+-----------------+---------+----------+----------------+---------+--------------+-----------------------+------+----------+--------------+--------+--------------+---------------+-------------+-------------+-----------+------------------+--------+-----------------+-----------------+------------------------+-----+-----------------+---------------------+---------------+--------------+------------------+-----------------------+--------------------+-----------------------------+-----------+-----------------+-----------------------------+\n",
            "only showing top 20 rows\n",
            "\n"
          ]
        }
      ]
    },
    {
      "cell_type": "markdown",
      "source": [
        "## 3. SQLTransformer"
      ],
      "metadata": {
        "id": "jvx_W7gVB4Qu"
      }
    },
    {
      "cell_type": "code",
      "source": [
        "sqlTrans = SQLTransformer(statement=\"select Age, count(Age) from  __THIS__ group by Age order by age desc\")\n",
        "sql_age=sqlTrans.transform(dataset)\n",
        "sql_age.show()"
      ],
      "metadata": {
        "colab": {
          "base_uri": "https://localhost:8080/"
        },
        "id": "Jv9A47x7BCy6",
        "outputId": "44aadb4d-a847-4a8d-9447-ffa051bce74e"
      },
      "execution_count": 21,
      "outputs": [
        {
          "output_type": "stream",
          "name": "stdout",
          "text": [
            "+----+----------+\n",
            "| Age|count(Age)|\n",
            "+----+----------+\n",
            "| NaN|        12|\n",
            "|60.0|         5|\n",
            "|59.0|        10|\n",
            "|58.0|        17|\n",
            "|56.0|        15|\n",
            "|55.0|        25|\n",
            "|54.0|        20|\n",
            "|53.0|        25|\n",
            "|52.0|        21|\n",
            "|51.0|        20|\n",
            "|50.0|        33|\n",
            "|49.0|        29|\n",
            "|48.0|        23|\n",
            "|47.0|        28|\n",
            "|46.0|        38|\n",
            "|45.0|        45|\n",
            "|44.0|        36|\n",
            "|43.0|        37|\n",
            "|42.0|        52|\n",
            "|41.0|        43|\n",
            "+----+----------+\n",
            "only showing top 20 rows\n",
            "\n"
          ]
        }
      ]
    },
    {
      "cell_type": "code",
      "source": [
        "sql_age=sql_age.toPandas().dropna()"
      ],
      "metadata": {
        "id": "Pshw3C4vF2tN"
      },
      "execution_count": 22,
      "outputs": []
    },
    {
      "cell_type": "markdown",
      "source": [
        "### Graph: Age distribution "
      ],
      "metadata": {
        "id": "T6zg6wvYZpXx"
      }
    },
    {
      "cell_type": "code",
      "source": [
        "plt.figure(figsize=(30,10))\n",
        "sns.barplot(x=sql_age.Age,y=sql_age['count(Age)']);"
      ],
      "metadata": {
        "colab": {
          "base_uri": "https://localhost:8080/",
          "height": 553
        },
        "id": "RoJDsfuuFNRP",
        "outputId": "f22a90f2-8955-4894-8b48-9fe3ec5a32cf"
      },
      "execution_count": 23,
      "outputs": [
        {
          "output_type": "display_data",
          "data": {
            "text/plain": [
              "<Figure size 2160x720 with 1 Axes>"
            ],
            "image/png": "[encoded data removed]"
          },
          "metadata": {
            "needs_background": "light"
          }
        }
      ]
    },
    {
      "cell_type": "markdown",
      "source": [
        "## 4. Binarizer"
      ],
      "metadata": {
        "id": "JyWXlbaPESpO"
      }
    },
    {
      "cell_type": "markdown",
      "source": [
        "If the person has not been promoted in the last 3 years, then the value should be true (1) else false(0)"
      ],
      "metadata": {
        "id": "qKwZn5LrKta_"
      }
    },
    {
      "cell_type": "code",
      "source": [
        "dataset=dataset.withColumn(\"YearsSinceLastPromotion\",dataset.YearsSinceLastPromotion.cast(\"double\"))"
      ],
      "metadata": {
        "id": "kR8uteLgIe53"
      },
      "execution_count": 24,
      "outputs": []
    },
    {
      "cell_type": "code",
      "source": [
        "binarizer = Binarizer(threshold=3.0, inputCol=\"YearsSinceLastPromotion\", outputCol=\"YearsSinceLastPromotionGt3\")\n",
        "dataset=binarizer.transform(dataset)"
      ],
      "metadata": {
        "id": "TOHl5x0gEbAq"
      },
      "execution_count": 25,
      "outputs": []
    },
    {
      "cell_type": "code",
      "source": [
        "dataset.select('YearsSinceLastPromotion','YearsSinceLastPromotiongt3').show(10)"
      ],
      "metadata": {
        "colab": {
          "base_uri": "https://localhost:8080/"
        },
        "id": "itwWF3uBG12v",
        "outputId": "2d986c46-5311-483c-aca1-26e6e0f0821b"
      },
      "execution_count": 26,
      "outputs": [
        {
          "output_type": "stream",
          "name": "stdout",
          "text": [
            "+-----------------------+--------------------------+\n",
            "|YearsSinceLastPromotion|YearsSinceLastPromotiongt3|\n",
            "+-----------------------+--------------------------+\n",
            "|                    0.0|                       0.0|\n",
            "|                    1.0|                       0.0|\n",
            "|                    0.0|                       0.0|\n",
            "|                    3.0|                       0.0|\n",
            "|                    2.0|                       0.0|\n",
            "|                    3.0|                       0.0|\n",
            "|                    0.0|                       0.0|\n",
            "|                    0.0|                       0.0|\n",
            "|                    1.0|                       0.0|\n",
            "|                    7.0|                       1.0|\n",
            "+-----------------------+--------------------------+\n",
            "only showing top 10 rows\n",
            "\n"
          ]
        }
      ]
    },
    {
      "cell_type": "markdown",
      "source": [
        "## 5. Bucketizer"
      ],
      "metadata": {
        "id": "G_94DEUuLB-s"
      }
    },
    {
      "cell_type": "code",
      "source": [
        "bucketizer = Bucketizer(splits=[-float(\"inf\"), 2926.75, 4899,8380.75, float(\"inf\")],inputCol=\"MonthlyIncome\", outputCol=\"MonthlyIncome_buckets\")\n",
        "dataset=bucketizer.transform(dataset)"
      ],
      "metadata": {
        "id": "R66gFwW1LFz6"
      },
      "execution_count": 27,
      "outputs": []
    },
    {
      "cell_type": "code",
      "source": [
        "dataset.select(\"MonthlyIncome\",'MonthlyIncome_buckets').groupBy('MonthlyIncome_buckets').sum().orderBy('sum(MonthlyIncome)').show()"
      ],
      "metadata": {
        "colab": {
          "base_uri": "https://localhost:8080/"
        },
        "id": "34TDY3UsRJca",
        "outputId": "b84f42a1-e35b-493b-fed9-677ae5fc2ab6"
      },
      "execution_count": 28,
      "outputs": [
        {
          "output_type": "stream",
          "name": "stdout",
          "text": [
            "+---------------------+------------------+--------------------------+\n",
            "|MonthlyIncome_buckets|sum(MonthlyIncome)|sum(MonthlyIncome_buckets)|\n",
            "+---------------------+------------------+--------------------------+\n",
            "|                  0.0|            986805|                       0.0|\n",
            "|                  1.0|           1660574|                     419.0|\n",
            "|                  2.0|           2588943|                     838.0|\n",
            "|                  3.0|           5685353|                    1257.0|\n",
            "+---------------------+------------------+--------------------------+\n",
            "\n"
          ]
        }
      ]
    },
    {
      "cell_type": "markdown",
      "source": [
        "### Graph: Monthly income buckets and Average Monthly Salary"
      ],
      "metadata": {
        "id": "sjV3KyTTZu4Q"
      }
    },
    {
      "cell_type": "code",
      "source": [
        "dataset.select(\"MonthlyIncome\",'MonthlyIncome_buckets').groupBy('MonthlyIncome_buckets').avg().orderBy('avg(MonthlyIncome)').toPandas().plot.bar(x='MonthlyIncome_buckets',y='avg(MonthlyIncome)');"
      ],
      "metadata": {
        "colab": {
          "base_uri": "https://localhost:8080/",
          "height": 286
        },
        "id": "tREUCeNFRTzC",
        "outputId": "5bbc9437-338b-4748-e631-658405f89705"
      },
      "execution_count": 29,
      "outputs": [
        {
          "output_type": "display_data",
          "data": {
            "text/plain": [
              "<Figure size 432x288 with 1 Axes>"
            ],
            "image/png": "[encoded data removed]"
          },
          "metadata": {
            "needs_background": "light"
          }
        }
      ]
    },
    {
      "cell_type": "markdown",
      "source": [
        "## 6. QuantileDiscretizer "
      ],
      "metadata": {
        "id": "rrIJYmW84olE"
      }
    },
    {
      "cell_type": "code",
      "source": [
        "quant_obj=QuantileDiscretizer(numBuckets=4, inputCol=\"DailyRate_imputed\", outputCol=\"DailyRate_imputed\"+\"_quant\", relativeError=0.001)\n",
        "dataset=quant_obj.fit(dataset).transform(dataset)\n",
        "dataset.select(\"DailyRate_imputed_quant\",\"DailyRate_imputed\").orderBy(\"DailyRate_imputed_quant\").show()"
      ],
      "metadata": {
        "colab": {
          "base_uri": "https://localhost:8080/"
        },
        "id": "c5FGfrNV4hDM",
        "outputId": "f3751d54-ce51-43ad-be3a-804386d1b31b"
      },
      "execution_count": 30,
      "outputs": [
        {
          "output_type": "stream",
          "name": "stdout",
          "text": [
            "+-----------------------+-----------------+\n",
            "|DailyRate_imputed_quant|DailyRate_imputed|\n",
            "+-----------------------+-----------------+\n",
            "|                    0.0|              240|\n",
            "|                    0.0|              313|\n",
            "|                    0.0|              142|\n",
            "|                    0.0|              279|\n",
            "|                    0.0|              394|\n",
            "|                    0.0|              153|\n",
            "|                    0.0|              441|\n",
            "|                    0.0|              334|\n",
            "|                    0.0|              249|\n",
            "|                    0.0|              391|\n",
            "|                    0.0|              147|\n",
            "|                    0.0|              464|\n",
            "|                    0.0|              216|\n",
            "|                    0.0|              427|\n",
            "|                    0.0|              364|\n",
            "|                    0.0|              132|\n",
            "|                    0.0|              438|\n",
            "|                    0.0|              397|\n",
            "|                    0.0|              201|\n",
            "|                    0.0|              288|\n",
            "+-----------------------+-----------------+\n",
            "only showing top 20 rows\n",
            "\n"
          ]
        }
      ]
    },
    {
      "cell_type": "markdown",
      "source": [
        "## 7. RegexTokenizer"
      ],
      "metadata": {
        "id": "ZDhdyP27L-kJ"
      }
    },
    {
      "cell_type": "code",
      "source": [
        "regTokenize=RegexTokenizer(inputCol=\"DistanceFromHome\",outputCol=\"DistanceFromHome_reg\",pattern=\" km\")\n",
        "dataset=regTokenize.transform(dataset)\n",
        "\n",
        "# The regTokenizer returns a column with the datatype as Array, which contains the value in string format. We need to first extract the value from the Array and then typecast it into Interger.\n",
        "dataset=dataset.withColumn(\"DistanceFromHome_reg\",dataset.DistanceFromHome_reg[0])\n",
        "dataset=dataset.withColumn(\"DistanceFromHome_reg\",dataset.DistanceFromHome_reg.cast(\"int\"))\n",
        "\n",
        "dataset.printSchema()"
      ],
      "metadata": {
        "colab": {
          "base_uri": "https://localhost:8080/"
        },
        "id": "aE95198ELFxK",
        "outputId": "294b0df8-21b7-44a4-8aee-1cdd2aa20d0f"
      },
      "execution_count": 31,
      "outputs": [
        {
          "output_type": "stream",
          "name": "stdout",
          "text": [
            "root\n",
            " |-- Age: double (nullable = true)\n",
            " |-- Attrition: string (nullable = true)\n",
            " |-- BusinessTravel: string (nullable = true)\n",
            " |-- DailyRate: double (nullable = true)\n",
            " |-- Department: string (nullable = true)\n",
            " |-- DistanceFromHome: string (nullable = true)\n",
            " |-- Education: long (nullable = true)\n",
            " |-- EducationField: string (nullable = true)\n",
            " |-- EnvironmentSatisfaction: long (nullable = true)\n",
            " |-- Gender: string (nullable = true)\n",
            " |-- HourlyRate: long (nullable = true)\n",
            " |-- JobInvolvement: long (nullable = true)\n",
            " |-- JobLevel: long (nullable = true)\n",
            " |-- JobRole: string (nullable = true)\n",
            " |-- JobSatisfaction: long (nullable = true)\n",
            " |-- MaritalStatus: string (nullable = true)\n",
            " |-- MonthlyIncome: long (nullable = true)\n",
            " |-- MonthlyRate: long (nullable = true)\n",
            " |-- NumCompaniesWorked: long (nullable = true)\n",
            " |-- OverTime: string (nullable = true)\n",
            " |-- PercentSalaryHike: long (nullable = true)\n",
            " |-- PerformanceRating: long (nullable = true)\n",
            " |-- RelationshipSatisfaction: long (nullable = true)\n",
            " |-- Shift: long (nullable = true)\n",
            " |-- TotalWorkingYears: long (nullable = true)\n",
            " |-- TrainingTimesLastYear: double (nullable = true)\n",
            " |-- WorkLifeBalance: long (nullable = true)\n",
            " |-- YearsAtCompany: long (nullable = true)\n",
            " |-- YearsInCurrentRole: long (nullable = true)\n",
            " |-- YearsSinceLastPromotion: double (nullable = true)\n",
            " |-- YearsWithCurrManager: long (nullable = true)\n",
            " |-- TrainingTimesLastYear_imputed: long (nullable = true)\n",
            " |-- Age_imputed: long (nullable = true)\n",
            " |-- DailyRate_imputed: long (nullable = true)\n",
            " |-- MaritalStatus_indexed_imputed: double (nullable = true)\n",
            " |-- YearsSinceLastPromotionGt3: double (nullable = true)\n",
            " |-- MonthlyIncome_buckets: double (nullable = true)\n",
            " |-- DailyRate_imputed_quant: double (nullable = true)\n",
            " |-- DistanceFromHome_reg: integer (nullable = true)\n",
            "\n"
          ]
        }
      ]
    },
    {
      "cell_type": "markdown",
      "source": [
        "## 8. One hot encoder\n"
      ],
      "metadata": {
        "id": "-UTmSbz-LFWJ"
      }
    },
    {
      "cell_type": "code",
      "source": [
        "\"\"\" \n",
        "In order to one hot encode all the categorical variables, we need to do the following steps\n",
        " 1. Identify all the categorical Variables\n",
        " 2. Check if they have any inherent Hierachy\n",
        " 3. Apply StringIndexer to all the categorical variables\n",
        " 4. OneHotEncode only those categorical variables that do not have any hierachy\n",
        "\"\"\"\n",
        "def return_col_basedOnType(dataType):\n",
        "  cat_col=[]\n",
        "  for col,data_type in dataset.dtypes:\n",
        "    if data_type==dataType:\n",
        "      cat_col.append(col)\n",
        "\n",
        "  print(cat_col)\n",
        "  return cat_col\n",
        "\n",
        "cat_col=return_col_basedOnType(\"string\")\n",
        "\"\"\"\n",
        " Out of the above columns, MaritalStatus has already been StringIndexed and now only needs to be One hot encoded.\n",
        " DistanceFromHome Column is not needed as we have already preprocessed it and converted it into a int column\n",
        " Attrition is the Dependent variable and hence will not be one hot encoded\n",
        " None of the other variables have a hierarchy and hence we are okay to onehotencode them\n",
        "\"\"\"\n",
        "cat_col.pop(cat_col.index('DistanceFromHome'))\n",
        "cat_col.pop(cat_col.index('MaritalStatus'))\n",
        "# Drop Over18 as this column has only 1 category and as such is not useful\n",
        "\n",
        "bulk_indexer=StringIndexer(inputCols=cat_col,outputCols=[x+\"_indexed\" for x in cat_col])\n",
        "\n",
        "# Before one hot encode, make sure to drop the dependent variable and add the other Categorical variable\n",
        "inputColumns=list(set(bulk_indexer.getOutputCols())-set(['Attrition','Attrition_indexed']))\n",
        "inputColumns.extend(['MaritalStatus_indexed_imputed', 'YearsSinceLastPromotionGt3', 'MonthlyIncome_buckets'])\n",
        "oneHotEncoder=OneHotEncoder(inputCols=inputColumns,outputCols=[x+\"_onehot\" for x in inputColumns])\n",
        "print(inputColumns)\n",
        "\n",
        "myPipeline_bulk=Pipeline(stages=[bulk_indexer,oneHotEncoder])\n",
        "dataset=myPipeline_bulk.fit(dataset).transform(dataset)\n",
        "dataset.show()"
      ],
      "metadata": {
        "colab": {
          "base_uri": "https://localhost:8080/"
        },
        "id": "A7vzFzUxUWtz",
        "outputId": "b221f46a-f4a2-4f30-b0c3-2c01cf18db84"
      },
      "execution_count": 32,
      "outputs": [
        {
          "output_type": "stream",
          "name": "stdout",
          "text": [
            "['Attrition', 'BusinessTravel', 'Department', 'DistanceFromHome', 'EducationField', 'Gender', 'JobRole', 'MaritalStatus', 'OverTime']\n",
            "['EducationField_indexed', 'JobRole_indexed', 'Gender_indexed', 'BusinessTravel_indexed', 'OverTime_indexed', 'Department_indexed', 'MaritalStatus_indexed_imputed', 'YearsSinceLastPromotionGt3', 'MonthlyIncome_buckets']\n",
            "+----+---------+-----------------+---------+----------+----------------+---------+--------------+-----------------------+------+----------+--------------+--------+--------------+---------------+-------------+-------------+-----------+------------------+--------+-----------------+-----------------+------------------------+-----+-----------------+---------------------+---------------+--------------+------------------+-----------------------+--------------------+-----------------------------+-----------+-----------------+-----------------------------+--------------------------+---------------------+-----------------------+--------------------+-----------------+----------------------+------------------+----------------------+--------------+---------------+----------------+-----------------------------+----------------------+---------------------+-----------------------------+-----------------------+-------------------------+------------------------------------+---------------------------------+----------------------------+\n",
            "| Age|Attrition|   BusinessTravel|DailyRate|Department|DistanceFromHome|Education|EducationField|EnvironmentSatisfaction|Gender|HourlyRate|JobInvolvement|JobLevel|       JobRole|JobSatisfaction|MaritalStatus|MonthlyIncome|MonthlyRate|NumCompaniesWorked|OverTime|PercentSalaryHike|PerformanceRating|RelationshipSatisfaction|Shift|TotalWorkingYears|TrainingTimesLastYear|WorkLifeBalance|YearsAtCompany|YearsInCurrentRole|YearsSinceLastPromotion|YearsWithCurrManager|TrainingTimesLastYear_imputed|Age_imputed|DailyRate_imputed|MaritalStatus_indexed_imputed|YearsSinceLastPromotionGt3|MonthlyIncome_buckets|DailyRate_imputed_quant|DistanceFromHome_reg|Attrition_indexed|BusinessTravel_indexed|Department_indexed|EducationField_indexed|Gender_indexed|JobRole_indexed|OverTime_indexed|EducationField_indexed_onehot|JobRole_indexed_onehot|Gender_indexed_onehot|BusinessTravel_indexed_onehot|OverTime_indexed_onehot|Department_indexed_onehot|MaritalStatus_indexed_imputed_onehot|YearsSinceLastPromotionGt3_onehot|MonthlyIncome_buckets_onehot|\n",
            "+----+---------+-----------------+---------+----------+----------------+---------+--------------+-----------------------+------+----------+--------------+--------+--------------+---------------+-------------+-------------+-----------+------------------+--------+-----------------+-----------------+------------------------+-----+-----------------+---------------------+---------------+--------------+------------------+-----------------------+--------------------+-----------------------------+-----------+-----------------+-----------------------------+--------------------------+---------------------+-----------------------+--------------------+-----------------+----------------------+------------------+----------------------+--------------+---------------+----------------+-----------------------------+----------------------+---------------------+-----------------------------+-----------------------+-------------------------+------------------------------------+---------------------------------+----------------------------+\n",
            "|41.0|       No|    Travel_Rarely|   1102.0|Cardiology|            1 km|        2| Life Sciences|                      2|Female|        94|             3|       2|         Nurse|              4|       Single|         5993|      19479|                 8|     Yes|               11|                3|                       1|    0|                8|                  0.0|              1|             6|                 4|                    0.0|                   5|                            0|         41|             1102|                          1.0|                       0.0|                  2.0|                    2.0|                   1|              0.0|                   0.0|               1.0|                   0.0|           1.0|            0.0|             1.0|                (5,[0],[1.0])|         (4,[0],[1.0])|            (1,[],[])|                (2,[0],[1.0])|              (1,[],[])|            (2,[1],[1.0])|                       (2,[1],[1.0])|                    (1,[0],[1.0])|               (3,[2],[1.0])|\n",
            "|49.0|       No|Travel_Frequently|    279.0| Maternity|            8 km|        1| Life Sciences|                      3|  Male|        61|             2|       2|         Other|              2|      Married|         5130|      24907|                 1|      No|               23|                4|                       4|    1|               10|                  3.0|              3|            10|                 7|                    1.0|                   7|                            3|         49|              279|                          0.0|                       0.0|                  2.0|                    0.0|                   8|              0.0|                   1.0|               0.0|                   0.0|           0.0|            1.0|             0.0|                (5,[0],[1.0])|         (4,[1],[1.0])|        (1,[0],[1.0])|                (2,[1],[1.0])|          (1,[0],[1.0])|            (2,[0],[1.0])|                       (2,[0],[1.0])|                    (1,[0],[1.0])|               (3,[2],[1.0])|\n",
            "|37.0|      Yes|    Travel_Rarely|   1373.0| Maternity|            2 km|        2|         Other|                      4|  Male|        92|             2|       1|         Nurse|              3|       Single|         2090|       2396|                 6|     Yes|               15|                3|                       2|    0|                7|                  3.0|              3|             0|                 0|                    0.0|                   0|                            3|         37|             1373|                          1.0|                       0.0|                  0.0|                    3.0|                   2|              1.0|                   0.0|               0.0|                   4.0|           0.0|            0.0|             1.0|                (5,[4],[1.0])|         (4,[0],[1.0])|        (1,[0],[1.0])|                (2,[0],[1.0])|              (1,[],[])|            (2,[0],[1.0])|                       (2,[1],[1.0])|                    (1,[0],[1.0])|               (3,[0],[1.0])|\n",
            "|33.0|       No|Travel_Frequently|   1392.0| Maternity|            3 km|        4| Life Sciences|                      4|Female|        56|             3|       1|         Other|              3|      Married|         2909|      23159|                 1|     Yes|               11|                3|                       3|    0|                8|                  3.0|              3|             8|                 7|                    3.0|                   0|                            3|         33|             1392|                          0.0|                       0.0|                  0.0|                    3.0|                   3|              0.0|                   1.0|               0.0|                   0.0|           1.0|            1.0|             1.0|                (5,[0],[1.0])|         (4,[1],[1.0])|            (1,[],[])|                (2,[1],[1.0])|              (1,[],[])|            (2,[0],[1.0])|                       (2,[0],[1.0])|                    (1,[0],[1.0])|               (3,[0],[1.0])|\n",
            "|27.0|       No|    Travel_Rarely|    591.0| Maternity|            2 km|        1|       Medical|                      1|  Male|        40|             3|       1|         Nurse|              2|      Married|         3468|      16632|                 9|      No|               12|                3|                       4|    1|                6|                  3.0|              3|             2|                 2|                    2.0|                   2|                            3|         27|              591|                          0.0|                       0.0|                  1.0|                    1.0|                   2|              0.0|                   0.0|               0.0|                   1.0|           0.0|            0.0|             0.0|                (5,[1],[1.0])|         (4,[0],[1.0])|        (1,[0],[1.0])|                (2,[0],[1.0])|          (1,[0],[1.0])|            (2,[0],[1.0])|                       (2,[0],[1.0])|                    (1,[0],[1.0])|               (3,[1],[1.0])|\n",
            "|32.0|       No|Travel_Frequently|   1005.0| Maternity|            2 km|        2| Life Sciences|                      4|  Male|        79|             3|       1|         Nurse|              4|       Single|         3068|      11864|                 0|      No|               13|                3|                       3|    0|                8|                  2.0|              2|             7|                 7|                    3.0|                   6|                            2|         32|             1005|                          1.0|                       0.0|                  1.0|                    2.0|                   2|              0.0|                   1.0|               0.0|                   0.0|           0.0|            0.0|             0.0|                (5,[0],[1.0])|         (4,[0],[1.0])|        (1,[0],[1.0])|                (2,[1],[1.0])|          (1,[0],[1.0])|            (2,[0],[1.0])|                       (2,[1],[1.0])|                    (1,[0],[1.0])|               (3,[1],[1.0])|\n",
            "|59.0|       No|    Travel_Rarely|   1324.0| Maternity|            3 km|        3|       Medical|                      3|Female|        81|             4|       1|         Nurse|              1|      Married|         2670|       9964|                 4|     Yes|               20|                4|                       1|    3|               12|                  3.0|              2|             1|                 0|                    0.0|                   0|                            3|         59|             1324|                          0.0|                       0.0|                  0.0|                    3.0|                   3|              0.0|                   0.0|               0.0|                   1.0|           1.0|            0.0|             1.0|                (5,[1],[1.0])|         (4,[0],[1.0])|            (1,[],[])|                (2,[0],[1.0])|              (1,[],[])|            (2,[0],[1.0])|                       (2,[0],[1.0])|                    (1,[0],[1.0])|               (3,[0],[1.0])|\n",
            "|30.0|       No|    Travel_Rarely|   1358.0| Maternity|           24 km|        1| Life Sciences|                      4|  Male|        67|             3|       1|         Nurse|              3|     Divorced|         2693|      13335|                 1|      No|               22|                4|                       2|    1|                1|                  2.0|              3|             1|                 0|                    0.0|                   0|                            2|         30|             1358|                          2.0|                       0.0|                  0.0|                    3.0|                  24|              0.0|                   0.0|               0.0|                   0.0|           0.0|            0.0|             0.0|                (5,[0],[1.0])|         (4,[0],[1.0])|        (1,[0],[1.0])|                (2,[0],[1.0])|          (1,[0],[1.0])|            (2,[0],[1.0])|                           (2,[],[])|                    (1,[0],[1.0])|               (3,[0],[1.0])|\n",
            "|38.0|       No|Travel_Frequently|    216.0| Maternity|           23 km|        3| Life Sciences|                      4|  Male|        44|             2|       3|     Therapist|              3|       Single|         9526|       8787|                 0|      No|               21|                4|                       2|    0|               10|                  2.0|              3|             9|                 7|                    1.0|                   8|                            2|         38|              216|                          1.0|                       0.0|                  3.0|                    0.0|                  23|              0.0|                   1.0|               0.0|                   0.0|           0.0|            2.0|             0.0|                (5,[0],[1.0])|         (4,[2],[1.0])|        (1,[0],[1.0])|                (2,[1],[1.0])|          (1,[0],[1.0])|            (2,[0],[1.0])|                       (2,[1],[1.0])|                    (1,[0],[1.0])|                   (3,[],[])|\n",
            "|36.0|       No|    Travel_Rarely|   1299.0| Maternity|           27 km|        3|       Medical|                      3|  Male|        94|             3|       2|         Nurse|              3|      Married|         5237|      16577|                 6|      No|               13|                3|                       2|    2|               17|                  3.0|              2|             7|                 7|                    7.0|                   7|                            3|         36|             1299|                          0.0|                       1.0|                  2.0|                    3.0|                  27|              0.0|                   0.0|               0.0|                   1.0|           0.0|            0.0|             0.0|                (5,[1],[1.0])|         (4,[0],[1.0])|        (1,[0],[1.0])|                (2,[0],[1.0])|          (1,[0],[1.0])|            (2,[0],[1.0])|                       (2,[0],[1.0])|                        (1,[],[])|               (3,[2],[1.0])|\n",
            "|35.0|       No|    Travel_Rarely|    809.0| Maternity|           16 km|        3|       Medical|                      1|  Male|        84|             4|       1|         Nurse|              2|      Married|         2426|      16479|                 0|      No|               13|                3|                       3|    1|                6|                  5.0|              3|             5|                 4|                    0.0|                   3|                            5|         35|              809|                          0.0|                       0.0|                  0.0|                    2.0|                  16|              0.0|                   0.0|               0.0|                   1.0|           0.0|            0.0|             0.0|                (5,[1],[1.0])|         (4,[0],[1.0])|        (1,[0],[1.0])|                (2,[0],[1.0])|          (1,[0],[1.0])|            (2,[0],[1.0])|                       (2,[0],[1.0])|                    (1,[0],[1.0])|               (3,[0],[1.0])|\n",
            "|29.0|       No|    Travel_Rarely|    153.0| Maternity|           15 km|        2| Life Sciences|                      4|Female|        49|             2|       2|         Nurse|              3|       Single|         4193|      12682|                 0|     Yes|               12|                3|                       4|    0|               10|                  3.0|              3|             9|                 5|                    0.0|                   8|                            3|         29|              153|                          1.0|                       0.0|                  1.0|                    0.0|                  15|              0.0|                   0.0|               0.0|                   0.0|           1.0|            0.0|             1.0|                (5,[0],[1.0])|         (4,[0],[1.0])|            (1,[],[])|                (2,[0],[1.0])|              (1,[],[])|            (2,[0],[1.0])|                       (2,[1],[1.0])|                    (1,[0],[1.0])|               (3,[1],[1.0])|\n",
            "|31.0|       No|    Travel_Rarely|    670.0| Maternity|           26 km|        1| Life Sciences|                      1|  Male|        31|             3|       1|         Other|              3|     Divorced|         2911|      15170|                 1|      No|               17|                3|                       4|    1|                5|                  1.0|              2|             5|                 2|                    4.0|                   3|                            1|         31|              670|                          2.0|                       1.0|                  0.0|                    1.0|                  26|              0.0|                   0.0|               0.0|                   0.0|           0.0|            1.0|             0.0|                (5,[0],[1.0])|         (4,[1],[1.0])|        (1,[0],[1.0])|                (2,[0],[1.0])|          (1,[0],[1.0])|            (2,[0],[1.0])|                           (2,[],[])|                        (1,[],[])|               (3,[0],[1.0])|\n",
            "|34.0|       No|    Travel_Rarely|   1346.0| Maternity|           19 km|        2|       Medical|                      2|  Male|        93|             3|       1|         Nurse|              4|     Divorced|         2661|       8758|                 0|      No|               11|                3|                       3|    1|                3|                  2.0|              3|             2|                 2|                    1.0|                   2|                            2|         34|             1346|                          2.0|                       0.0|                  0.0|                    3.0|                  19|              0.0|                   0.0|               0.0|                   1.0|           0.0|            0.0|             0.0|                (5,[1],[1.0])|         (4,[0],[1.0])|        (1,[0],[1.0])|                (2,[0],[1.0])|          (1,[0],[1.0])|            (2,[0],[1.0])|                           (2,[],[])|                    (1,[0],[1.0])|               (3,[0],[1.0])|\n",
            "|28.0|      Yes|    Travel_Rarely|    103.0| Maternity|           24 km|        3| Life Sciences|                      3|  Male|        50|             2|       1|         Nurse|              3|       Single|         2028|      12947|                 5|     Yes|               14|                3|                       2|    0|                6|                  4.0|              3|             4|                 2|                    0.0|                   3|                            4|         28|              103|                          1.0|                       0.0|                  0.0|                    0.0|                  24|              1.0|                   0.0|               0.0|                   0.0|           0.0|            0.0|             1.0|                (5,[0],[1.0])|         (4,[0],[1.0])|        (1,[0],[1.0])|                (2,[0],[1.0])|              (1,[],[])|            (2,[0],[1.0])|                       (2,[1],[1.0])|                    (1,[0],[1.0])|               (3,[0],[1.0])|\n",
            "|29.0|       No|    Travel_Rarely|   1389.0| Maternity|           21 km|        4| Life Sciences|                      2|Female|        51|             4|       3|     Therapist|              1|     Divorced|         9980|      10195|                 1|      No|               11|                3|                       3|    1|               10|                  1.0|              3|            10|                 9|                    8.0|                   8|                            1|         29|             1389|                          2.0|                       1.0|                  3.0|                    3.0|                  21|              0.0|                   0.0|               0.0|                   0.0|           1.0|            2.0|             0.0|                (5,[0],[1.0])|         (4,[2],[1.0])|            (1,[],[])|                (2,[0],[1.0])|          (1,[0],[1.0])|            (2,[0],[1.0])|                           (2,[],[])|                        (1,[],[])|                   (3,[],[])|\n",
            "|32.0|       No|    Travel_Rarely|    334.0| Maternity|            5 km|        2| Life Sciences|                      1|  Male|        80|             4|       1|         Other|              2|     Divorced|         3298|      15053|                 0|     Yes|               12|                3|                       4|    2|                7|                  5.0|              2|             6|                 2|                    0.0|                   5|                            5|         32|              334|                          2.0|                       0.0|                  1.0|                    0.0|                   5|              0.0|                   0.0|               0.0|                   0.0|           0.0|            1.0|             1.0|                (5,[0],[1.0])|         (4,[1],[1.0])|        (1,[0],[1.0])|                (2,[0],[1.0])|              (1,[],[])|            (2,[0],[1.0])|                           (2,[],[])|                    (1,[0],[1.0])|               (3,[1],[1.0])|\n",
            "|22.0|       No|       Non-Travel|   1123.0| Maternity|           16 km|        2|       Medical|                      4|  Male|        96|             4|       1|         Nurse|              4|     Divorced|         2935|       7324|                 1|     Yes|               13|                3|                       2|    2|                1|                  2.0|              2|             1|                 0|                    0.0|                   0|                            2|         22|             1123|                          2.0|                       0.0|                  1.0|                    2.0|                  16|              0.0|                   2.0|               0.0|                   1.0|           0.0|            0.0|             1.0|                (5,[1],[1.0])|         (4,[0],[1.0])|        (1,[0],[1.0])|                    (2,[],[])|              (1,[],[])|            (2,[0],[1.0])|                           (2,[],[])|                    (1,[0],[1.0])|               (3,[1],[1.0])|\n",
            "|53.0|       No|    Travel_Rarely|   1219.0|Cardiology|            2 km|        4| Life Sciences|                      1|Female|        78|             2|       4|Administrative|              4|      Married|        15427|      22021|                 2|      No|               16|                3|                       3|    0|               31|                  3.0|              3|            25|                 8|                    3.0|                   7|                            3|         53|             1219|                          0.0|                       0.0|                  3.0|                    3.0|                   2|              0.0|                   0.0|               1.0|                   0.0|           1.0|            3.0|             0.0|                (5,[0],[1.0])|         (4,[3],[1.0])|            (1,[],[])|                (2,[0],[1.0])|          (1,[0],[1.0])|            (2,[1],[1.0])|                       (2,[0],[1.0])|                    (1,[0],[1.0])|                   (3,[],[])|\n",
            "|38.0|       No|    Travel_Rarely|    371.0| Maternity|            2 km|        3| Life Sciences|                      4|  Male|        45|             3|       1|         Other|              4|       Single|         3944|       4306|                 5|     Yes|               11|                3|                       3|    0|                6|                  3.0|              3|             3|                 2|                    1.0|                   2|                            3|         38|              371|                          1.0|                       0.0|                  1.0|                    0.0|                   2|              0.0|                   0.0|               0.0|                   0.0|           0.0|            1.0|             1.0|                (5,[0],[1.0])|         (4,[1],[1.0])|        (1,[0],[1.0])|                (2,[0],[1.0])|              (1,[],[])|            (2,[0],[1.0])|                       (2,[1],[1.0])|                    (1,[0],[1.0])|               (3,[1],[1.0])|\n",
            "+----+---------+-----------------+---------+----------+----------------+---------+--------------+-----------------------+------+----------+--------------+--------+--------------+---------------+-------------+-------------+-----------+------------------+--------+-----------------+-----------------+------------------------+-----+-----------------+---------------------+---------------+--------------+------------------+-----------------------+--------------------+-----------------------------+-----------+-----------------+-----------------------------+--------------------------+---------------------+-----------------------+--------------------+-----------------+----------------------+------------------+----------------------+--------------+---------------+----------------+-----------------------------+----------------------+---------------------+-----------------------------+-----------------------+-------------------------+------------------------------------+---------------------------------+----------------------------+\n",
            "only showing top 20 rows\n",
            "\n"
          ]
        }
      ]
    },
    {
      "cell_type": "markdown",
      "source": [
        "### Dropping Unwanted Columns post preprocessing"
      ],
      "metadata": {
        "id": "JmrJ3HELgLky"
      }
    },
    {
      "cell_type": "code",
      "source": [
        "def dataset_shape(dataset):\n",
        "  print(\"The shape of dataset\",(dataset.count(),len(dataset.columns)))\n"
      ],
      "metadata": {
        "id": "7FyPVEnKsG1E"
      },
      "execution_count": 33,
      "outputs": []
    },
    {
      "cell_type": "code",
      "source": [
        "print(f\"Dropping the following Columns:\\n{inputColumns}\")\n",
        "print(dataset.count(),len(dataset.columns))\n",
        "dataset=dataset.drop(*inputColumns)\n",
        "print(dataset.count(),len(dataset.columns))"
      ],
      "metadata": {
        "colab": {
          "base_uri": "https://localhost:8080/"
        },
        "id": "nr_sePyJfMnr",
        "outputId": "2a955638-f169-4dff-af9e-e7de43da7d04"
      },
      "execution_count": 34,
      "outputs": [
        {
          "output_type": "stream",
          "name": "stdout",
          "text": [
            "Dropping the following Columns:\n",
            "['EducationField_indexed', 'JobRole_indexed', 'Gender_indexed', 'BusinessTravel_indexed', 'OverTime_indexed', 'Department_indexed', 'MaritalStatus_indexed_imputed', 'YearsSinceLastPromotionGt3', 'MonthlyIncome_buckets']\n",
            "1676 55\n",
            "1676 46\n"
          ]
        }
      ]
    },
    {
      "cell_type": "code",
      "source": [
        "columnsToDropBasedOnPreprocessing=list(set(dataset.columns)-set(original_columns))\n",
        "# Drop all the original columns from which we have either imputed/Indexed/OneHotEncoded from the above list\n",
        "colDrop=[]\n",
        "for col in columnsToDropBasedOnPreprocessing:\n",
        "  x=col.split(\"_\")\n",
        "  if len(x)>2:\n",
        "    for item in x[:-1]:\n",
        "      if item=='indexed':\n",
        "        if x[x.index(item)-1]+\"_\"+item=='Attrition_indexed': #Ignore if the column is Dependent variable\n",
        "          pass\n",
        "        else:\n",
        "          colDrop.append(x[x.index(item)-1]+\"_\"+item)\n",
        "      else:\n",
        "        colDrop.append(item)\n",
        "  else:\n",
        "    colDrop.append(x[0])\n",
        "dataset=dataset.drop(*colDrop)\n",
        "dataset_shape(dataset)"
      ],
      "metadata": {
        "colab": {
          "base_uri": "https://localhost:8080/"
        },
        "id": "5EcJxE5XhnTe",
        "outputId": "c9308ae6-e1eb-417d-dcea-2a077d414f5f"
      },
      "execution_count": 35,
      "outputs": [
        {
          "output_type": "stream",
          "name": "stdout",
          "text": [
            "The shape of dataset (1676, 33)\n"
          ]
        }
      ]
    },
    {
      "cell_type": "code",
      "source": [
        "dataset.printSchema()"
      ],
      "metadata": {
        "colab": {
          "base_uri": "https://localhost:8080/"
        },
        "id": "wU_gYStOorjJ",
        "outputId": "37d4abfa-c69d-463e-c8c0-dab5670ad305"
      },
      "execution_count": 36,
      "outputs": [
        {
          "output_type": "stream",
          "name": "stdout",
          "text": [
            "root\n",
            " |-- Education: long (nullable = true)\n",
            " |-- EnvironmentSatisfaction: long (nullable = true)\n",
            " |-- HourlyRate: long (nullable = true)\n",
            " |-- JobInvolvement: long (nullable = true)\n",
            " |-- JobLevel: long (nullable = true)\n",
            " |-- JobSatisfaction: long (nullable = true)\n",
            " |-- MonthlyRate: long (nullable = true)\n",
            " |-- NumCompaniesWorked: long (nullable = true)\n",
            " |-- PercentSalaryHike: long (nullable = true)\n",
            " |-- PerformanceRating: long (nullable = true)\n",
            " |-- RelationshipSatisfaction: long (nullable = true)\n",
            " |-- Shift: long (nullable = true)\n",
            " |-- TotalWorkingYears: long (nullable = true)\n",
            " |-- WorkLifeBalance: long (nullable = true)\n",
            " |-- YearsAtCompany: long (nullable = true)\n",
            " |-- YearsInCurrentRole: long (nullable = true)\n",
            " |-- YearsSinceLastPromotion: double (nullable = true)\n",
            " |-- YearsWithCurrManager: long (nullable = true)\n",
            " |-- TrainingTimesLastYear_imputed: long (nullable = true)\n",
            " |-- Age_imputed: long (nullable = true)\n",
            " |-- DailyRate_imputed: long (nullable = true)\n",
            " |-- DailyRate_imputed_quant: double (nullable = true)\n",
            " |-- DistanceFromHome_reg: integer (nullable = true)\n",
            " |-- Attrition_indexed: double (nullable = false)\n",
            " |-- EducationField_indexed_onehot: vector (nullable = true)\n",
            " |-- JobRole_indexed_onehot: vector (nullable = true)\n",
            " |-- Gender_indexed_onehot: vector (nullable = true)\n",
            " |-- BusinessTravel_indexed_onehot: vector (nullable = true)\n",
            " |-- OverTime_indexed_onehot: vector (nullable = true)\n",
            " |-- Department_indexed_onehot: vector (nullable = true)\n",
            " |-- MaritalStatus_indexed_imputed_onehot: vector (nullable = true)\n",
            " |-- YearsSinceLastPromotionGt3_onehot: vector (nullable = true)\n",
            " |-- MonthlyIncome_buckets_onehot: vector (nullable = true)\n",
            "\n"
          ]
        }
      ]
    },
    {
      "cell_type": "markdown",
      "source": [
        "## 9. VectorAssembler"
      ],
      "metadata": {
        "id": "NTrE39Ax3G-J"
      }
    },
    {
      "cell_type": "code",
      "source": [
        "# Continious variables with different metric units need to undergo Standard Scaling so as to be correctly perceived by the model\n",
        "\"\"\"\n",
        "Steps:\n",
        "1. Find all the continious variables\n",
        "2. Check their scale\n",
        "3. VectorAssemble all those columns as the input to StandardScaler is only 1 column\n",
        "4. Run this processed column through standard scalar\n",
        "\"\"\"\n",
        "col_cont=['MonthlyRate','HourlyRate','NumCompaniesWorked','PercentSalaryHike','TotalWorkingYears','DistanceFromHome_reg','DailyRate_imputed','Age_imputed','TrainingTimesLastYear_imputed','YearsWithCurrManager','YearsSinceLastPromotion','YearsInCurrentRole','YearsAtCompany']\n",
        "vec_obj=VectorAssembler(inputCols=col_cont,outputCol=\"col_cont_allFeatures\")"
      ],
      "metadata": {
        "id": "Gicbi3-i3LlN"
      },
      "execution_count": 37,
      "outputs": []
    },
    {
      "cell_type": "markdown",
      "source": [
        "## 10. StandardScalar"
      ],
      "metadata": {
        "id": "6J7Uz21Xveq5"
      }
    },
    {
      "cell_type": "code",
      "source": [
        "standardScaler=StandardScaler(inputCol=vec_obj.getOutputCol(),outputCol=vec_obj.getOutputCol()+\"_standardScaled\")\n",
        "\n",
        "myPipeline=Pipeline(stages=[vec_obj,standardScaler])\n",
        "dataset=myPipeline.fit(dataset).transform(dataset)\n",
        "dataset.show(truncate=False)"
      ],
      "metadata": {
        "colab": {
          "base_uri": "https://localhost:8080/"
        },
        "id": "SNWwW7OyhObb",
        "outputId": "2e444d89-aadb-4a21-e907-1c8f910c20b3"
      },
      "execution_count": 38,
      "outputs": [
        {
          "output_type": "stream",
          "name": "stdout",
          "text": [
            "+---------+-----------------------+----------+--------------+--------+---------------+-----------+------------------+-----------------+-----------------+------------------------+-----+-----------------+---------------+--------------+------------------+-----------------------+--------------------+-----------------------------+-----------+-----------------+-----------------------+--------------------+-----------------+-----------------------------+----------------------+---------------------+-----------------------------+-----------------------+-------------------------+------------------------------------+---------------------------------+----------------------------+------------------------------------------------------------------+-----------------------------------------------------------------------------------------------------------------------------------------------------------------------------------------------------------------------------------------------------+\n",
            "|Education|EnvironmentSatisfaction|HourlyRate|JobInvolvement|JobLevel|JobSatisfaction|MonthlyRate|NumCompaniesWorked|PercentSalaryHike|PerformanceRating|RelationshipSatisfaction|Shift|TotalWorkingYears|WorkLifeBalance|YearsAtCompany|YearsInCurrentRole|YearsSinceLastPromotion|YearsWithCurrManager|TrainingTimesLastYear_imputed|Age_imputed|DailyRate_imputed|DailyRate_imputed_quant|DistanceFromHome_reg|Attrition_indexed|EducationField_indexed_onehot|JobRole_indexed_onehot|Gender_indexed_onehot|BusinessTravel_indexed_onehot|OverTime_indexed_onehot|Department_indexed_onehot|MaritalStatus_indexed_imputed_onehot|YearsSinceLastPromotionGt3_onehot|MonthlyIncome_buckets_onehot|col_cont_allFeatures                                              |col_cont_allFeatures_standardScaled                                                                                                                                                                                                                  |\n",
            "+---------+-----------------------+----------+--------------+--------+---------------+-----------+------------------+-----------------+-----------------+------------------------+-----+-----------------+---------------+--------------+------------------+-----------------------+--------------------+-----------------------------+-----------+-----------------+-----------------------+--------------------+-----------------+-----------------------------+----------------------+---------------------+-----------------------------+-----------------------+-------------------------+------------------------------------+---------------------------------+----------------------------+------------------------------------------------------------------+-----------------------------------------------------------------------------------------------------------------------------------------------------------------------------------------------------------------------------------------------------+\n",
            "|2        |2                      |94        |3             |2       |4              |19479      |8                 |11               |3                |1                       |0    |8                |1              |6             |4                 |0.0                    |5                   |0                            |41         |1102             |2.0                    |1                   |0.0              |(5,[0],[1.0])                |(4,[0],[1.0])         |(1,[],[])            |(2,[0],[1.0])                |(1,[],[])              |(2,[1],[1.0])            |(2,[1],[1.0])                       |(1,[0],[1.0])                    |(3,[2],[1.0])               |[19479.0,94.0,8.0,11.0,8.0,1.0,1102.0,41.0,0.0,5.0,0.0,4.0,6.0]   |[2.7285877645247525,4.651721590500373,3.228795198525707,3.016549801273235,1.0210598371199562,0.12257729467582815,2.7668579344149733,4.564666185350838,0.0,1.4046275584371348,0.0,1.1027013003838413,0.9837693133766676]                              |\n",
            "|1        |3                      |61        |2             |2       |2              |24907      |1                 |23               |4                |4                       |1    |10               |3              |10            |7                 |1.0                    |7                   |3                            |49         |279              |0.0                    |8                   |0.0              |(5,[0],[1.0])                |(4,[1],[1.0])         |(1,[0],[1.0])        |(2,[1],[1.0])                |(1,[0],[1.0])          |(2,[0],[1.0])            |(2,[0],[1.0])                       |(1,[0],[1.0])                    |(3,[2],[1.0])               |[24907.0,61.0,1.0,23.0,10.0,8.0,279.0,49.0,3.0,7.0,1.0,7.0,10.0]  |[3.488933489964475,3.0186703938353485,0.40359939981571336,6.307331402662218,1.2763247963999453,0.9806183574066252,0.7005021449199433,5.45533275810222,2.3289268945923522,1.9664785818119888,0.309637108397098,1.9297272756717223,1.6396155222944462] |\n",
            "|2        |4                      |92        |2             |1       |3              |2396       |6                 |15               |3                |2                       |0    |7                |3              |0             |0                 |0.0                    |0                   |3                            |37         |1373             |3.0                    |2                   |1.0              |(5,[4],[1.0])                |(4,[0],[1.0])         |(1,[0],[1.0])        |(2,[0],[1.0])                |(1,[],[])              |(2,[0],[1.0])            |(2,[1],[1.0])                       |(1,[0],[1.0])                    |(3,[0],[1.0])               |[2396.0,92.0,6.0,15.0,7.0,2.0,1373.0,37.0,3.0,0.0,0.0,0.0,0.0]    |[0.3356279215463477,4.552748790702493,2.4215963988942804,4.113477001736229,0.8934273574799616,0.2451545893516563,3.4472739963264596,4.119332898975146,2.3289268945923522,0.0,0.0,0.0,0.0]                                                            |\n",
            "|4        |4                      |56        |3             |1       |3              |23159      |1                 |11               |3                |3                       |0    |8                |3              |8             |7                 |3.0                    |0                   |3                            |33         |1392             |3.0                    |3                   |0.0              |(5,[0],[1.0])                |(4,[1],[1.0])         |(1,[],[])            |(2,[1],[1.0])                |(1,[],[])              |(2,[0],[1.0])            |(2,[0],[1.0])                       |(1,[0],[1.0])                    |(3,[0],[1.0])               |[23159.0,56.0,1.0,11.0,8.0,3.0,1392.0,33.0,3.0,0.0,3.0,7.0,8.0]   |[3.2440763919415136,2.7712383943406476,0.40359939981571336,3.016549801273235,1.0210598371199562,0.36773188402748447,3.4949784434715454,3.6739996125994545,2.3289268945923522,0.0,0.928911325191294,1.9297272756717223,1.311692417835557]             |\n",
            "|1        |1                      |40        |3             |1       |2              |16632      |9                 |12               |3                |4                       |1    |6                |3              |2             |2                 |2.0                    |2                   |3                            |27         |591              |1.0                    |2                   |0.0              |(5,[1],[1.0])                |(4,[0],[1.0])         |(1,[0],[1.0])        |(2,[0],[1.0])                |(1,[0],[1.0])          |(2,[0],[1.0])            |(2,[0],[1.0])                       |(1,[0],[1.0])                    |(3,[1],[1.0])               |[16632.0,40.0,9.0,12.0,6.0,2.0,591.0,27.0,3.0,2.0,2.0,2.0,2.0]    |[2.329784470433579,1.9794559959576055,3.63239459834142,3.290781601388983,0.7657948778399671,0.2451545893516563,1.4838593822497723,3.0059996830359172,2.3289268945923522,0.5618510233748539,0.619274216794196,0.5513506501919206,0.3279231044588892]  |\n",
            "|2        |4                      |79        |3             |1       |4              |11864      |0                 |13               |3                |3                       |0    |8                |2              |7             |7                 |3.0                    |6                   |2                            |32         |1005             |2.0                    |2                   |0.0              |(5,[0],[1.0])                |(4,[0],[1.0])         |(1,[0],[1.0])        |(2,[1],[1.0])                |(1,[0],[1.0])          |(2,[0],[1.0])            |(2,[1],[1.0])                       |(1,[0],[1.0])                    |(3,[1],[1.0])               |[11864.0,79.0,0.0,13.0,8.0,2.0,1005.0,32.0,2.0,6.0,3.0,7.0,7.0]   |[1.6618905096936014,3.909425592016271,0.0,3.5650134015047317,1.0210598371199562,0.2451545893516563,2.52331417793743,3.562666291005532,1.5526179297282348,1.6855530701245618,0.928911325191294,1.9297272756717223,1.1477308656061123]                 |\n",
            "|3        |3                      |81        |4             |1       |1              |9964       |4                 |20               |4                |1                       |3    |12               |2              |1             |0                 |0.0                    |0                   |3                            |59         |1324             |3.0                    |3                   |0.0              |(5,[1],[1.0])                |(4,[0],[1.0])         |(1,[],[])            |(2,[0],[1.0])                |(1,[],[])              |(2,[0],[1.0])            |(2,[0],[1.0])                       |(1,[0],[1.0])                    |(3,[0],[1.0])               |[9964.0,81.0,4.0,20.0,12.0,3.0,1324.0,59.0,3.0,0.0,0.0,0.0,1.0]   |[1.395741490103426,4.0083983918141515,1.6143975992628534,5.484636002314972,1.5315897556799343,0.36773188402748447,3.324246737899659,6.5686659740414495,2.3289268945923522,0.0,0.0,0.0,0.1639615522294446]                                            |\n",
            "|1        |4                      |67        |3             |1       |3              |13335      |1                 |22               |4                |2                       |1    |1                |3              |1             |0                 |0.0                    |0                   |2                            |30         |1358             |3.0                    |24                  |0.0              |(5,[0],[1.0])                |(4,[0],[1.0])         |(1,[0],[1.0])        |(2,[0],[1.0])                |(1,[0],[1.0])          |(2,[0],[1.0])            |(2,[],[])                           |(1,[0],[1.0])                    |(3,[0],[1.0])               |[13335.0,67.0,1.0,22.0,1.0,24.0,1358.0,30.0,2.0,0.0,0.0,0.0,1.0]  |[1.8679458822289425,3.315588793228989,0.40359939981571336,6.03309960254647,0.12763247963999452,2.9418550722198757,3.4096125906856023,3.339999647817686,1.5526179297282348,0.0,0.0,0.0,0.1639615522294446]                                            |\n",
            "|3        |4                      |44        |2             |3       |3              |8787       |0                 |21               |4                |2                       |0    |10               |3              |9             |7                 |1.0                    |8                   |2                            |38         |216              |0.0                    |23                  |0.0              |(5,[0],[1.0])                |(4,[2],[1.0])         |(1,[0],[1.0])        |(2,[1],[1.0])                |(1,[0],[1.0])          |(2,[0],[1.0])            |(2,[1],[1.0])                       |(1,[0],[1.0])                    |(3,[],[])                   |[8787.0,44.0,0.0,21.0,10.0,23.0,216.0,38.0,2.0,8.0,1.0,7.0,9.0]   |[1.2308691763888804,2.177401595553366,0.0,5.7588678024307205,1.2763247963999453,2.8192777775440474,0.5423242412283432,4.230666220569069,1.5526179297282348,2.2474040934994157,0.309637108397098,1.9297272756717223,1.4756539700650015]               |\n",
            "|3        |3                      |94        |3             |2       |3              |16577      |6                 |13               |3                |2                       |2    |17               |2              |7             |7                 |7.0                    |7                   |3                            |36         |1299             |3.0                    |27                  |0.0              |(5,[1],[1.0])                |(4,[0],[1.0])         |(1,[0],[1.0])        |(2,[0],[1.0])                |(1,[0],[1.0])          |(2,[0],[1.0])            |(2,[0],[1.0])                       |(1,[],[])                        |(3,[2],[1.0])               |[16577.0,94.0,6.0,13.0,17.0,27.0,1299.0,36.0,3.0,7.0,7.0,7.0,7.0] |[2.3220801567086,4.651721590500373,2.4215963988942804,3.5650134015047317,2.169752153879907,3.30958695624736,3.261477728498231,4.007999577381224,2.3289268945923522,1.9664785818119888,2.167459758779686,1.9297272756717223,1.1477308656061123]       |\n",
            "|3        |1                      |84        |4             |1       |2              |16479      |0                 |13               |3                |3                       |1    |6                |3              |5             |4                 |0.0                    |3                   |5                            |35         |809              |2.0                    |16                  |0.0              |(5,[1],[1.0])                |(4,[0],[1.0])         |(1,[0],[1.0])        |(2,[0],[1.0])                |(1,[0],[1.0])          |(2,[0],[1.0])            |(2,[0],[1.0])                       |(1,[0],[1.0])                    |(3,[0],[1.0])               |[16479.0,84.0,0.0,13.0,6.0,16.0,809.0,35.0,5.0,3.0,0.0,4.0,5.0]   |[2.3083524704350014,4.156857591510971,0.0,3.5650134015047317,0.7657948778399671,1.9612367148132503,2.03120514423023,3.8966662557873004,3.881544824320587,0.8427765350622809,0.0,1.1027013003838413,0.8198077611472231]                               |\n",
            "|2        |4                      |49        |2             |2       |3              |12682      |0                 |12               |3                |4                       |0    |10               |3              |9             |5                 |0.0                    |8                   |3                            |29         |153              |0.0                    |15                  |0.0              |(5,[0],[1.0])                |(4,[0],[1.0])         |(1,[],[])            |(2,[0],[1.0])                |(1,[],[])              |(2,[0],[1.0])            |(2,[1],[1.0])                       |(1,[0],[1.0])                    |(3,[1],[1.0])               |[12682.0,49.0,0.0,12.0,10.0,15.0,153.0,29.0,3.0,8.0,0.0,5.0,9.0]  |[1.77647466654874,2.424833595048067,0.0,3.290781601388983,1.2763247963999453,1.8386594201374222,0.3841463375367431,3.228666326223763,2.3289268945923522,2.2474040934994157,0.0,1.3783766254798016,1.4756539700650015]                                |\n",
            "|1        |1                      |31        |3             |1       |3              |15170      |1                 |17               |3                |4                       |1    |5                |2              |5             |2                 |4.0                    |3                   |1                            |31         |670              |1.0                    |26                  |0.0              |(5,[0],[1.0])                |(4,[1],[1.0])         |(1,[0],[1.0])        |(2,[0],[1.0])                |(1,[0],[1.0])          |(2,[0],[1.0])            |(2,[],[])                           |(1,[],[])                        |(3,[0],[1.0])               |[15170.0,31.0,1.0,17.0,5.0,26.0,670.0,31.0,1.0,3.0,4.0,2.0,5.0]   |[2.124989803780507,1.5340783968671443,0.40359939981571336,4.661940601967726,0.6381623981999727,3.187009661571532,1.6822094519582869,3.451332969411609,0.7763089648641174,0.8427765350622809,1.238548433588392,0.5513506501919206,0.8198077611472231] |\n",
            "|2        |2                      |93        |3             |1       |4              |8758       |0                 |11               |3                |3                       |1    |3                |3              |2             |2                 |1.0                    |2                   |2                            |34         |1346             |3.0                    |19                  |0.0              |(5,[1],[1.0])                |(4,[0],[1.0])         |(1,[0],[1.0])        |(2,[0],[1.0])                |(1,[0],[1.0])          |(2,[0],[1.0])            |(2,[],[])                           |(1,[0],[1.0])                    |(3,[0],[1.0])               |[8758.0,93.0,0.0,11.0,3.0,19.0,1346.0,34.0,2.0,2.0,1.0,2.0,2.0]   |[1.2268069018793462,4.602235190601433,0.0,3.016549801273235,0.38289743891998357,2.328968598840735,3.3794834661729167,3.7853329341933777,1.5526179297282348,0.5618510233748539,0.309637108397098,0.5513506501919206,0.3279231044588892]               |\n",
            "|3        |3                      |50        |2             |1       |3              |12947      |5                 |14               |3                |2                       |0    |6                |3              |4             |2                 |0.0                    |3                   |4                            |28         |103              |0.0                    |24                  |1.0              |(5,[0],[1.0])                |(4,[0],[1.0])         |(1,[0],[1.0])        |(2,[0],[1.0])                |(1,[],[])              |(2,[0],[1.0])            |(2,[1],[1.0])                       |(1,[0],[1.0])                    |(3,[0],[1.0])               |[12947.0,50.0,5.0,14.0,6.0,24.0,103.0,28.0,4.0,3.0,0.0,2.0,4.0]   |[1.8135954508600016,2.474319994947007,2.0179969990785667,3.8392452016204803,0.7657948778399671,2.9418550722198757,0.2586083187338859,3.1173330046298404,3.1052358594564695,0.8427765350622809,0.0,0.5513506501919206,0.6558462089177785]             |\n",
            "|4        |2                      |51        |4             |3       |1              |10195      |1                 |11               |3                |3                       |1    |10               |3              |10            |9                 |8.0                    |8                   |1                            |29         |1389             |3.0                    |21                  |0.0              |(5,[0],[1.0])                |(4,[2],[1.0])         |(1,[],[])            |(2,[0],[1.0])                |(1,[0],[1.0])          |(2,[0],[1.0])            |(2,[],[])                           |(1,[],[])                        |(3,[],[])                   |[10195.0,51.0,1.0,11.0,10.0,21.0,1389.0,29.0,1.0,8.0,8.0,9.0,10.0]|[1.4280996077483368,2.523806394845947,0.40359939981571336,3.016549801273235,1.2763247963999453,2.574123188192391,3.4874461623433737,3.228666326223763,0.7763089648641174,2.2474040934994157,2.477096867176784,2.481077925863643,1.6396155222944462]  |\n",
            "|2        |1                      |80        |4             |1       |2              |15053      |0                 |12               |3                |4                       |2    |7                |2              |6             |2                 |0.0                    |5                   |5                            |32         |334              |0.0                    |5                   |0.0              |(5,[0],[1.0])                |(4,[1],[1.0])         |(1,[0],[1.0])        |(2,[0],[1.0])                |(1,[],[])              |(2,[0],[1.0])            |(2,[],[])                           |(1,[0],[1.0])                    |(3,[1],[1.0])               |[15053.0,80.0,0.0,12.0,7.0,5.0,334.0,32.0,5.0,5.0,0.0,2.0,6.0]    |[2.1086006273110067,3.958911991915211,0.0,3.290781601388983,0.8934273574799616,0.6128864733791407,0.8385939656030863,3.562666291005532,3.881544824320587,1.4046275584371348,0.0,0.5513506501919206,0.9837693133766676]                               |\n",
            "|2        |4                      |96        |4             |1       |4              |7324       |1                 |13               |3                |2                       |2    |1                |2              |1             |0                 |0.0                    |0                   |2                            |22         |1123             |2.0                    |16                  |0.0              |(5,[1],[1.0])                |(4,[0],[1.0])         |(1,[0],[1.0])        |(2,[],[])                    |(1,[],[])              |(2,[0],[1.0])            |(2,[],[])                           |(1,[0],[1.0])                    |(3,[1],[1.0])               |[7324.0,96.0,1.0,13.0,1.0,16.0,1123.0,22.0,2.0,0.0,0.0,0.0,1.0]   |[1.0259344313044452,4.7506943902982535,0.40359939981571336,3.5650134015047317,0.12763247963999452,1.9612367148132503,2.819583902312173,2.449333075066303,1.5526179297282348,0.0,0.0,0.0,0.1639615522294446]                                          |\n",
            "|4        |1                      |78        |2             |4       |4              |22021      |2                 |16               |3                |3                       |0    |31               |3              |25            |8                 |3.0                    |7                   |3                            |53         |1219             |3.0                    |2                   |0.0              |(5,[0],[1.0])                |(4,[3],[1.0])         |(1,[],[])            |(2,[0],[1.0])                |(1,[0],[1.0])          |(2,[1],[1.0])            |(2,[0],[1.0])                       |(1,[0],[1.0])                    |(3,[],[])                   |[22021.0,78.0,2.0,16.0,31.0,2.0,1219.0,53.0,3.0,7.0,3.0,8.0,25.0] |[3.084667137050135,3.8599391921173307,0.8071987996314267,4.387708801851978,3.95660686883983,0.2451545893516563,3.060616898413659,5.900666044477912,2.3289268945923522,1.9664785818119888,0.928911325191294,2.2054026007676826,4.099038805736115]     |\n",
            "|3        |4                      |45        |3             |1       |4              |4306       |5                 |11               |3                |3                       |0    |6                |3              |3             |2                 |1.0                    |2                   |3                            |38         |371              |0.0                    |2                   |0.0              |(5,[0],[1.0])                |(4,[1],[1.0])         |(1,[0],[1.0])        |(2,[0],[1.0])                |(1,[],[])              |(2,[0],[1.0])            |(2,[1],[1.0])                       |(1,[0],[1.0])                    |(3,[1],[1.0])               |[4306.0,45.0,5.0,11.0,6.0,2.0,371.0,38.0,3.0,2.0,1.0,2.0,3.0]     |[0.6031777254501558,2.2268879954523064,2.0179969990785667,3.016549801273235,0.7657948778399671,0.2451545893516563,0.9314920995172006,4.230666220569069,2.3289268945923522,0.5618510233748539,0.309637108397098,0.5513506501919206,0.4918846566883338]|\n",
            "+---------+-----------------------+----------+--------------+--------+---------------+-----------+------------------+-----------------+-----------------+------------------------+-----+-----------------+---------------+--------------+------------------+-----------------------+--------------------+-----------------------------+-----------+-----------------+-----------------------+--------------------+-----------------+-----------------------------+----------------------+---------------------+-----------------------------+-----------------------+-------------------------+------------------------------------+---------------------------------+----------------------------+------------------------------------------------------------------+-----------------------------------------------------------------------------------------------------------------------------------------------------------------------------------------------------------------------------------------------------+\n",
            "only showing top 20 rows\n",
            "\n"
          ]
        }
      ]
    },
    {
      "cell_type": "code",
      "source": [
        "# Finally create a vector that would be passed to the Classification models\n",
        "dataset_shape(dataset)\n",
        "dataset.printSchema()"
      ],
      "metadata": {
        "colab": {
          "base_uri": "https://localhost:8080/"
        },
        "id": "g7LH-3lChOVO",
        "outputId": "216e4e9b-c1e0-4571-90d5-3dc83de2fc68"
      },
      "execution_count": 39,
      "outputs": [
        {
          "output_type": "stream",
          "name": "stdout",
          "text": [
            "The shape of dataset (1676, 35)\n",
            "root\n",
            " |-- Education: long (nullable = true)\n",
            " |-- EnvironmentSatisfaction: long (nullable = true)\n",
            " |-- HourlyRate: long (nullable = true)\n",
            " |-- JobInvolvement: long (nullable = true)\n",
            " |-- JobLevel: long (nullable = true)\n",
            " |-- JobSatisfaction: long (nullable = true)\n",
            " |-- MonthlyRate: long (nullable = true)\n",
            " |-- NumCompaniesWorked: long (nullable = true)\n",
            " |-- PercentSalaryHike: long (nullable = true)\n",
            " |-- PerformanceRating: long (nullable = true)\n",
            " |-- RelationshipSatisfaction: long (nullable = true)\n",
            " |-- Shift: long (nullable = true)\n",
            " |-- TotalWorkingYears: long (nullable = true)\n",
            " |-- WorkLifeBalance: long (nullable = true)\n",
            " |-- YearsAtCompany: long (nullable = true)\n",
            " |-- YearsInCurrentRole: long (nullable = true)\n",
            " |-- YearsSinceLastPromotion: double (nullable = true)\n",
            " |-- YearsWithCurrManager: long (nullable = true)\n",
            " |-- TrainingTimesLastYear_imputed: long (nullable = true)\n",
            " |-- Age_imputed: long (nullable = true)\n",
            " |-- DailyRate_imputed: long (nullable = true)\n",
            " |-- DailyRate_imputed_quant: double (nullable = true)\n",
            " |-- DistanceFromHome_reg: integer (nullable = true)\n",
            " |-- Attrition_indexed: double (nullable = false)\n",
            " |-- EducationField_indexed_onehot: vector (nullable = true)\n",
            " |-- JobRole_indexed_onehot: vector (nullable = true)\n",
            " |-- Gender_indexed_onehot: vector (nullable = true)\n",
            " |-- BusinessTravel_indexed_onehot: vector (nullable = true)\n",
            " |-- OverTime_indexed_onehot: vector (nullable = true)\n",
            " |-- Department_indexed_onehot: vector (nullable = true)\n",
            " |-- MaritalStatus_indexed_imputed_onehot: vector (nullable = true)\n",
            " |-- YearsSinceLastPromotionGt3_onehot: vector (nullable = true)\n",
            " |-- MonthlyIncome_buckets_onehot: vector (nullable = true)\n",
            " |-- col_cont_allFeatures: vector (nullable = true)\n",
            " |-- col_cont_allFeatures_standardScaled: vector (nullable = true)\n",
            "\n"
          ]
        }
      ]
    },
    {
      "cell_type": "code",
      "source": [
        "dataset=dataset.drop(*['col_cont_allFeatures'])\n",
        "dataset=dataset.drop(*vec_obj.getInputCols())"
      ],
      "metadata": {
        "id": "YUdYfoi2hOSG"
      },
      "execution_count": 40,
      "outputs": []
    },
    {
      "cell_type": "code",
      "source": [
        "dataset_shape(dataset)\n",
        "dataset.printSchema()"
      ],
      "metadata": {
        "colab": {
          "base_uri": "https://localhost:8080/"
        },
        "id": "9x7Ny4fuhOPe",
        "outputId": "4c8a7346-4195-4e81-ce5c-9b85dd8eb7f8"
      },
      "execution_count": 41,
      "outputs": [
        {
          "output_type": "stream",
          "name": "stdout",
          "text": [
            "The shape of dataset (1676, 21)\n",
            "root\n",
            " |-- Education: long (nullable = true)\n",
            " |-- EnvironmentSatisfaction: long (nullable = true)\n",
            " |-- JobInvolvement: long (nullable = true)\n",
            " |-- JobLevel: long (nullable = true)\n",
            " |-- JobSatisfaction: long (nullable = true)\n",
            " |-- PerformanceRating: long (nullable = true)\n",
            " |-- RelationshipSatisfaction: long (nullable = true)\n",
            " |-- Shift: long (nullable = true)\n",
            " |-- WorkLifeBalance: long (nullable = true)\n",
            " |-- DailyRate_imputed_quant: double (nullable = true)\n",
            " |-- Attrition_indexed: double (nullable = false)\n",
            " |-- EducationField_indexed_onehot: vector (nullable = true)\n",
            " |-- JobRole_indexed_onehot: vector (nullable = true)\n",
            " |-- Gender_indexed_onehot: vector (nullable = true)\n",
            " |-- BusinessTravel_indexed_onehot: vector (nullable = true)\n",
            " |-- OverTime_indexed_onehot: vector (nullable = true)\n",
            " |-- Department_indexed_onehot: vector (nullable = true)\n",
            " |-- MaritalStatus_indexed_imputed_onehot: vector (nullable = true)\n",
            " |-- YearsSinceLastPromotionGt3_onehot: vector (nullable = true)\n",
            " |-- MonthlyIncome_buckets_onehot: vector (nullable = true)\n",
            " |-- col_cont_allFeatures_standardScaled: vector (nullable = true)\n",
            "\n"
          ]
        }
      ]
    },
    {
      "cell_type": "code",
      "source": [
        "final_vec_obj=VectorAssembler(inputCols=list(set(dataset.columns)-set('Attrition_indexed')),outputCol=\"final_features\")\n",
        "dataset=final_vec_obj.transform(dataset)\n",
        "dataset.select(final_vec_obj.getOutputCol()).show(truncate=False)"
      ],
      "metadata": {
        "colab": {
          "base_uri": "https://localhost:8080/"
        },
        "id": "HIT1dkZLhOMP",
        "outputId": "9ec8b472-9171-4510-c6c1-1f098d91f940"
      },
      "execution_count": 42,
      "outputs": [
        {
          "output_type": "stream",
          "name": "stdout",
          "text": [
            "+---------------------------------------------------------------------------------------------------------------------------------------------------------------------------------------------------------------------------------------------------------------------------------------------------------------------------------------------------------------------------------------------------+\n",
            "|final_features                                                                                                                                                                                                                                                                                                                                                                                     |\n",
            "+---------------------------------------------------------------------------------------------------------------------------------------------------------------------------------------------------------------------------------------------------------------------------------------------------------------------------------------------------------------------------------------------------+\n",
            "|(45,[0,1,2,3,6,8,9,15,16,17,18,19,20,21,22,23,25,27,28,29,30,31,33,35,39,43,44],[3.0,2.0,2.0,3.0,1.0,2.0,1.0,2.0,2.7285877645247525,4.651721590500373,3.228795198525707,3.016549801273235,1.0210598371199562,0.12257729467582815,2.7668579344149733,4.564666185350838,1.4046275584371348,1.1027013003838413,0.9837693133766676,4.0,1.0,1.0,1.0,1.0,1.0,1.0,1.0])                                   |\n",
            "|[4.0,0.0,2.0,2.0,0.0,0.0,1.0,1.0,3.0,1.0,0.0,0.0,0.0,0.0,1.0,1.0,3.488933489964475,3.0186703938353485,0.40359939981571336,6.307331402662218,1.2763247963999453,0.9806183574066252,0.7005021449199433,5.45533275810222,2.3289268945923522,1.9664785818119888,0.309637108397098,1.9297272756717223,1.6396155222944462,2.0,1.0,4.0,1.0,0.0,1.0,0.0,1.0,0.0,0.0,0.0,1.0,0.0,1.0,0.0,3.0]               |\n",
            "|(45,[0,1,2,3,4,8,13,15,16,17,18,19,20,21,22,23,24,29,30,31,32,34,35,39,41,43,44],[3.0,3.0,1.0,2.0,1.0,4.0,1.0,2.0,0.3356279215463477,4.552748790702493,2.4215963988942804,4.113477001736229,0.8934273574799616,0.2451545893516563,3.4472739963264596,4.119332898975146,2.3289268945923522,3.0,1.0,2.0,1.0,1.0,1.0,1.0,1.0,1.0,3.0])                                                                |\n",
            "|(45,[0,1,2,3,4,8,9,15,16,17,18,19,20,21,22,23,24,26,27,28,29,30,31,32,36,40,42,44],[3.0,3.0,1.0,3.0,1.0,4.0,1.0,4.0,3.2440763919415136,2.7712383943406476,0.40359939981571336,3.016549801273235,1.0210598371199562,0.36773188402748447,3.4949784434715454,3.6739996125994545,2.3289268945923522,0.928911325191294,1.9297272756717223,1.311692417835557,3.0,1.0,3.0,1.0,1.0,1.0,1.0,3.0])           |\n",
            "|[3.0,1.0,1.0,3.0,0.0,1.0,0.0,1.0,1.0,0.0,1.0,0.0,0.0,0.0,1.0,1.0,2.329784470433579,1.9794559959576055,3.63239459834142,3.290781601388983,0.7657948778399671,0.2451545893516563,1.4838593822497723,3.0059996830359172,2.3289268945923522,0.5618510233748539,0.619274216794196,0.5513506501919206,0.3279231044588892,2.0,1.0,4.0,1.0,0.0,1.0,1.0,0.0,0.0,0.0,1.0,0.0,0.0,1.0,0.0,3.0]                |\n",
            "|[3.0,2.0,1.0,3.0,0.0,1.0,0.0,1.0,4.0,1.0,0.0,0.0,0.0,0.0,0.0,2.0,1.6618905096936014,3.909425592016271,0.0,3.5650134015047317,1.0210598371199562,0.2451545893516563,2.52331417793743,3.562666291005532,1.5526179297282348,1.6855530701245618,0.928911325191294,1.9297272756717223,1.1477308656061123,4.0,1.0,3.0,1.0,0.0,1.0,1.0,0.0,0.0,0.0,0.0,1.0,0.0,0.0,1.0,2.0]                               |\n",
            "|(45,[0,1,2,3,4,8,10,14,15,16,17,18,19,20,21,22,23,24,28,29,30,31,32,35,39,42,44],[4.0,3.0,1.0,4.0,1.0,3.0,1.0,3.0,3.0,1.395741490103426,4.0083983918141515,1.6143975992628534,5.484636002314972,1.5315897556799343,0.36773188402748447,3.324246737899659,6.5686659740414495,2.3289268945923522,0.1639615522294446,1.0,1.0,1.0,1.0,1.0,1.0,1.0,2.0])                                                |\n",
            "|(45,[0,1,2,3,4,7,8,9,14,15,16,17,18,19,20,21,22,23,24,28,29,30,31,32,34,35,39,44],[4.0,3.0,1.0,3.0,1.0,1.0,4.0,1.0,1.0,1.0,1.8679458822289425,3.315588793228989,0.40359939981571336,6.03309960254647,0.12763247963999452,2.9418550722198757,3.4096125906856023,3.339999647817686,1.5526179297282348,0.1639615522294446,3.0,1.0,2.0,1.0,1.0,1.0,1.0,3.0])                                           |\n",
            "|(45,[0,2,3,7,8,9,15,16,17,19,20,21,22,23,24,25,26,27,28,29,30,31,32,34,37,40,43,44],[4.0,3.0,2.0,1.0,4.0,1.0,3.0,1.2308691763888804,2.177401595553366,5.7588678024307205,1.2763247963999453,2.8192777775440474,0.5423242412283432,4.230666220569069,1.5526179297282348,2.2474040934994157,0.309637108397098,1.9297272756717223,1.4756539700650015,3.0,1.0,2.0,1.0,1.0,1.0,1.0,1.0,3.0])            |\n",
            "|[3.0,3.0,2.0,3.0,0.0,0.0,1.0,1.0,3.0,0.0,1.0,0.0,0.0,0.0,2.0,3.0,2.3220801567086,4.651721590500373,2.4215963988942804,3.5650134015047317,2.169752153879907,3.30958695624736,3.261477728498231,4.007999577381224,2.3289268945923522,1.9664785818119888,2.167459758779686,1.9297272756717223,1.1477308656061123,3.0,0.0,2.0,1.0,0.0,1.0,1.0,0.0,0.0,0.0,1.0,0.0,0.0,1.0,0.0,2.0]                     |\n",
            "|[3.0,2.0,1.0,4.0,1.0,0.0,0.0,1.0,1.0,0.0,1.0,0.0,0.0,0.0,1.0,3.0,2.3083524704350014,4.156857591510971,0.0,3.5650134015047317,0.7657948778399671,1.9612367148132503,2.03120514423023,3.8966662557873004,3.881544824320587,0.8427765350622809,0.0,1.1027013003838413,0.8198077611472231,2.0,1.0,3.0,1.0,0.0,1.0,1.0,0.0,0.0,0.0,1.0,0.0,0.0,1.0,0.0,3.0]                                             |\n",
            "|(45,[0,2,3,5,8,9,15,16,17,19,20,21,22,23,24,25,27,28,29,30,31,32,35,39,43,44],[3.0,2.0,2.0,1.0,4.0,1.0,2.0,1.77647466654874,2.424833595048067,3.290781601388983,1.2763247963999453,1.8386594201374222,0.3841463375367431,3.228666326223763,2.3289268945923522,2.2474040934994157,1.3783766254798016,1.4756539700650015,3.0,1.0,4.0,1.0,1.0,1.0,1.0,3.0])                                           |\n",
            "|[3.0,1.0,1.0,3.0,1.0,0.0,0.0,1.0,1.0,1.0,0.0,0.0,0.0,0.0,1.0,1.0,2.124989803780507,1.5340783968671443,0.40359939981571336,4.661940601967726,0.6381623981999727,3.187009661571532,1.6822094519582869,3.451332969411609,0.7763089648641174,0.8427765350622809,1.238548433588392,0.5513506501919206,0.8198077611472231,3.0,0.0,4.0,1.0,0.0,1.0,0.0,1.0,0.0,0.0,1.0,0.0,0.0,0.0,0.0,2.0]               |\n",
            "|[3.0,3.0,1.0,3.0,1.0,0.0,0.0,1.0,2.0,0.0,1.0,0.0,0.0,0.0,1.0,2.0,1.2268069018793462,4.602235190601433,0.0,3.016549801273235,0.38289743891998357,2.328968598840735,3.3794834661729167,3.7853329341933777,1.5526179297282348,0.5618510233748539,0.309637108397098,0.5513506501919206,0.3279231044588892,4.0,1.0,3.0,1.0,0.0,1.0,1.0,0.0,0.0,0.0,1.0,0.0,0.0,0.0,0.0,3.0]                             |\n",
            "|[3.0,0.0,1.0,2.0,1.0,0.0,0.0,0.0,3.0,1.0,0.0,0.0,0.0,0.0,0.0,3.0,1.8135954508600016,2.474319994947007,2.0179969990785667,3.8392452016204803,0.7657948778399671,2.9418550722198757,0.2586083187338859,3.1173330046298404,3.1052358594564695,0.8427765350622809,0.0,0.5513506501919206,0.6558462089177785,3.0,1.0,2.0,1.0,0.0,1.0,1.0,0.0,0.0,0.0,1.0,0.0,1.0,0.0,1.0,3.0]                           |\n",
            "|(45,[0,1,2,3,7,8,9,14,15,16,17,18,19,20,21,22,23,24,25,26,27,28,29,31,32,37,39,44],[3.0,3.0,3.0,4.0,1.0,2.0,1.0,1.0,4.0,1.4280996077483368,2.523806394845947,0.40359939981571336,3.016549801273235,1.2763247963999453,2.574123188192391,3.4874461623433737,3.228666326223763,0.7763089648641174,2.2474040934994157,2.477096867176784,2.481077925863643,1.6396155222944462,1.0,3.0,1.0,1.0,1.0,3.0])|\n",
            "|(45,[0,2,3,5,8,9,14,15,16,17,19,20,21,22,23,24,25,27,28,29,30,31,32,34,36,39,44],[3.0,1.0,4.0,1.0,1.0,1.0,2.0,2.0,2.1086006273110067,3.958911991915211,3.290781601388983,0.8934273574799616,0.6128864733791407,0.8385939656030863,3.562666291005532,3.881544824320587,1.4046275584371348,0.5513506501919206,0.9837693133766676,2.0,1.0,4.0,1.0,1.0,1.0,1.0,2.0])                                   |\n",
            "|(45,[0,1,2,3,5,8,10,14,15,16,17,18,19,20,21,22,23,24,28,29,30,31,32,34,35,44],[3.0,2.0,1.0,4.0,1.0,4.0,1.0,2.0,2.0,1.0259344313044452,4.7506943902982535,0.40359939981571336,3.5650134015047317,0.12763247963999452,1.9612367148132503,2.819583902312173,2.449333075066303,1.5526179297282348,0.1639615522294446,4.0,1.0,2.0,1.0,1.0,1.0,2.0])                                                     |\n",
            "|[3.0,3.0,4.0,2.0,0.0,0.0,0.0,1.0,1.0,1.0,0.0,0.0,0.0,0.0,0.0,4.0,3.084667137050135,3.8599391921173307,0.8071987996314267,4.387708801851978,3.95660686883983,0.2451545893516563,3.060616898413659,5.900666044477912,2.3289268945923522,1.9664785818119888,0.928911325191294,2.2054026007676826,4.099038805736115,4.0,1.0,3.0,0.0,1.0,0.0,0.0,0.0,0.0,1.0,1.0,0.0,0.0,1.0,0.0,3.0]                   |\n",
            "|[3.0,0.0,1.0,3.0,0.0,1.0,0.0,0.0,4.0,1.0,0.0,0.0,0.0,0.0,0.0,3.0,0.6031777254501558,2.2268879954523064,2.0179969990785667,3.016549801273235,0.7657948778399671,0.2451545893516563,0.9314920995172006,4.230666220569069,2.3289268945923522,0.5618510233748539,0.309637108397098,0.5513506501919206,0.4918846566883338,4.0,1.0,3.0,1.0,0.0,1.0,0.0,1.0,0.0,0.0,1.0,0.0,0.0,0.0,1.0,3.0]              |\n",
            "+---------------------------------------------------------------------------------------------------------------------------------------------------------------------------------------------------------------------------------------------------------------------------------------------------------------------------------------------------------------------------------------------------+\n",
            "only showing top 20 rows\n",
            "\n"
          ]
        }
      ]
    },
    {
      "cell_type": "markdown",
      "source": [
        "# Classification"
      ],
      "metadata": {
        "id": "WmkTdOx0Aj7j"
      }
    },
    {
      "cell_type": "code",
      "source": [
        "from pyspark.ml.classification import LogisticRegression,LinearSVC,DecisionTreeClassifier,GBTClassifier,RandomForestClassifier,MultilayerPerceptronClassifier\n",
        "from pyspark.ml.evaluation import BinaryClassificationEvaluator\n",
        "import time"
      ],
      "metadata": {
        "id": "hY8KozMVC5KA"
      },
      "execution_count": 43,
      "outputs": []
    },
    {
      "cell_type": "markdown",
      "source": [
        "## Train test Split"
      ],
      "metadata": {
        "id": "Sm93VqETaTz9"
      }
    },
    {
      "cell_type": "code",
      "source": [
        "train,test=dataset.randomSplit([0.8,0.2],seed=2000)\n"
      ],
      "metadata": {
        "id": "gwoopNZqE72K"
      },
      "execution_count": 44,
      "outputs": []
    },
    {
      "cell_type": "code",
      "source": [
        "model_metric={}\n",
        "runtimeOfModels=[]\n",
        "def evaluation_function(dataset,rawPredictionCol=\"rawPrediction\",labelCol=\"Attrition_indexed\",metricName=\"areaUnderROC\"):\n",
        "  eval=BinaryClassificationEvaluator(rawPredictionCol=rawPredictionCol,labelCol=labelCol,metricName=metricName)\n",
        "  result=eval.evaluate(dataset)\n",
        "  print(f\"The model has {eval.getMetricName()} value of {result}\")\n",
        "  return result"
      ],
      "metadata": {
        "id": "l8u2cNX6ifXK"
      },
      "execution_count": 45,
      "outputs": []
    },
    {
      "cell_type": "markdown",
      "source": [
        "## 1. Logistic Regression"
      ],
      "metadata": {
        "id": "zjYx6KTKA1k8"
      }
    },
    {
      "cell_type": "code",
      "source": [
        "model_metric"
      ],
      "metadata": {
        "colab": {
          "base_uri": "https://localhost:8080/"
        },
        "id": "RHiNrVC2n3WU",
        "outputId": "d50fc6f7-5bde-4217-c06c-5c555142173b"
      },
      "execution_count": 46,
      "outputs": [
        {
          "output_type": "execute_result",
          "data": {
            "text/plain": [
              "{}"
            ]
          },
          "metadata": {},
          "execution_count": 46
        }
      ]
    },
    {
      "cell_type": "code",
      "source": [
        "time1=time.time()\n",
        "\n",
        "model=LogisticRegression(featuresCol=final_vec_obj.getOutputCol(),labelCol=\"Attrition_indexed\")\n",
        "logReg_results=model.fit(train).transform(test)\n",
        "print(logReg_results.select(model.getFeaturesCol(),model.getLabelCol(),'rawPrediction','prediction').show())\n",
        "model_metric[str(model).split(\"_\")[0]]=evaluation_function(logReg_results)\n",
        "\n",
        "runtimeOfModels.append(time.time()-time1)\n",
        "\n"
      ],
      "metadata": {
        "colab": {
          "base_uri": "https://localhost:8080/"
        },
        "id": "_Pa865mHkxx3",
        "outputId": "23bf6b42-7153-4394-964d-8e39f2dbdc8d"
      },
      "execution_count": 47,
      "outputs": [
        {
          "output_type": "stream",
          "name": "stdout",
          "text": [
            "+--------------------+-----------------+--------------------+----------+\n",
            "|      final_features|Attrition_indexed|       rawPrediction|prediction|\n",
            "+--------------------+-----------------+--------------------+----------+\n",
            "|[3.0,1.0,1.0,3.0,...|              0.0|[17.9542598069551...|       0.0|\n",
            "|[3.0,1.0,1.0,3.0,...|              0.0|[18.0100241327488...|       0.0|\n",
            "|[3.0,1.0,1.0,3.0,...|              1.0|[-19.220920921076...|       1.0|\n",
            "|[3.0,0.0,4.0,3.0,...|              0.0|[19.6705000689218...|       0.0|\n",
            "|(45,[0,1,2,3,7,8,...|              0.0|[18.7989799160618...|       0.0|\n",
            "|[3.0,1.0,1.0,3.0,...|              0.0|[18.4196348506828...|       0.0|\n",
            "|(45,[0,2,3,5,7,8,...|              0.0|[18.4212149376522...|       0.0|\n",
            "|(45,[0,1,2,3,5,7,...|              0.0|[18.5907379986196...|       0.0|\n",
            "|[3.0,1.0,1.0,1.0,...|              1.0|[-20.251910058809...|       1.0|\n",
            "|(45,[0,2,3,7,8,13...|              0.0|[18.5445819547094...|       0.0|\n",
            "|[3.0,2.0,2.0,1.0,...|              0.0|[18.7659963947628...|       0.0|\n",
            "|[3.0,1.0,2.0,2.0,...|              0.0|[18.4630777732772...|       0.0|\n",
            "|[4.0,0.0,2.0,2.0,...|              0.0|[19.2425168638523...|       0.0|\n",
            "|[4.0,3.0,3.0,2.0,...|              0.0|[20.0665638990939...|       0.0|\n",
            "|[3.0,3.0,1.0,3.0,...|              0.0|[19.0789114351553...|       0.0|\n",
            "|(45,[0,1,2,3,4,8,...|              1.0|[-18.858005400862...|       1.0|\n",
            "|[3.0,1.0,1.0,3.0,...|              1.0|[-19.353620130669...|       1.0|\n",
            "|[4.0,1.0,1.0,3.0,...|              0.0|[18.4803409208020...|       0.0|\n",
            "|(45,[0,2,3,4,7,8,...|              0.0|[18.2819047944453...|       0.0|\n",
            "|[3.0,0.0,1.0,3.0,...|              0.0|[18.2841461356587...|       0.0|\n",
            "+--------------------+-----------------+--------------------+----------+\n",
            "only showing top 20 rows\n",
            "\n",
            "None\n",
            "The model has areaUnderROC value of 1.0\n"
          ]
        }
      ]
    },
    {
      "cell_type": "markdown",
      "source": [
        "## 2. LinearSVC"
      ],
      "metadata": {
        "id": "JGu_xv2eAmN2"
      }
    },
    {
      "cell_type": "code",
      "source": [
        "time1=time.time()\n",
        "\n",
        "model=LinearSVC(featuresCol=final_vec_obj.getOutputCol(),labelCol=\"Attrition_indexed\")\n",
        "linearSVC_results=model.fit(train).transform(test)\n",
        "print(linearSVC_results.select(model.getFeaturesCol(),model.getLabelCol(),'rawPrediction','prediction').show())\n",
        "model_metric[str(model).split(\"_\")[0]]=evaluation_function(linearSVC_results)\n",
        "\n",
        "runtimeOfModels.append(time.time()-time1)"
      ],
      "metadata": {
        "colab": {
          "base_uri": "https://localhost:8080/"
        },
        "id": "3n2V1t9GKew-",
        "outputId": "d495e075-7f71-4b04-e141-6d6837c2f839"
      },
      "execution_count": 48,
      "outputs": [
        {
          "output_type": "stream",
          "name": "stdout",
          "text": [
            "+--------------------+-----------------+--------------------+----------+\n",
            "|      final_features|Attrition_indexed|       rawPrediction|prediction|\n",
            "+--------------------+-----------------+--------------------+----------+\n",
            "|[3.0,1.0,1.0,3.0,...|              0.0|[1.37471181193747...|       0.0|\n",
            "|[3.0,1.0,1.0,3.0,...|              0.0|[1.45947498913917...|       0.0|\n",
            "|[3.0,1.0,1.0,3.0,...|              1.0|[-2.3996302416525...|       1.0|\n",
            "|[3.0,0.0,4.0,3.0,...|              0.0|[2.25573566446467...|       0.0|\n",
            "|(45,[0,1,2,3,7,8,...|              0.0|[1.78800714605169...|       0.0|\n",
            "|[3.0,1.0,1.0,3.0,...|              0.0|[1.62406941029729...|       0.0|\n",
            "|(45,[0,2,3,5,7,8,...|              0.0|[1.81682502110252...|       0.0|\n",
            "|(45,[0,1,2,3,5,7,...|              0.0|[1.78104481930327...|       0.0|\n",
            "|[3.0,1.0,1.0,1.0,...|              1.0|[-3.0538039559703...|       1.0|\n",
            "|(45,[0,2,3,7,8,13...|              0.0|[1.77914769640668...|       0.0|\n",
            "|[3.0,2.0,2.0,1.0,...|              0.0|[2.03023707959941...|       0.0|\n",
            "|[3.0,1.0,2.0,2.0,...|              0.0|[1.59910329681891...|       0.0|\n",
            "|[4.0,0.0,2.0,2.0,...|              0.0|[2.19758200812275...|       0.0|\n",
            "|[4.0,3.0,3.0,2.0,...|              0.0|[2.44066844214686...|       0.0|\n",
            "|[3.0,3.0,1.0,3.0,...|              0.0|[2.05760739439218...|       0.0|\n",
            "|(45,[0,1,2,3,4,8,...|              1.0|[-2.2049950772565...|       1.0|\n",
            "|[3.0,1.0,1.0,3.0,...|              1.0|[-2.4551823424379...|       1.0|\n",
            "|[4.0,1.0,1.0,3.0,...|              0.0|[1.59935381520058...|       0.0|\n",
            "|(45,[0,2,3,4,7,8,...|              0.0|[1.54246655525799...|       0.0|\n",
            "|[3.0,0.0,1.0,3.0,...|              0.0|[1.63319813609120...|       0.0|\n",
            "+--------------------+-----------------+--------------------+----------+\n",
            "only showing top 20 rows\n",
            "\n",
            "None\n",
            "The model has areaUnderROC value of 1.0\n"
          ]
        }
      ]
    },
    {
      "cell_type": "markdown",
      "source": [
        "## 3. DecisionTreeClassifier"
      ],
      "metadata": {
        "id": "_YoPUemsA6iy"
      }
    },
    {
      "cell_type": "code",
      "source": [
        "time1=time.time()\n",
        "\n",
        "model=DecisionTreeClassifier(featuresCol=final_vec_obj.getOutputCol(),labelCol=\"Attrition_indexed\")\n",
        "DecisionTreeClassifier_results=model.fit(train).transform(test)\n",
        "print(DecisionTreeClassifier_results.select(model.getFeaturesCol(),model.getLabelCol(),'rawPrediction','prediction').show())\n",
        "model_metric[str(model).split(\"_\")[0]]=evaluation_function(DecisionTreeClassifier_results)\n",
        "\n",
        "\n",
        "runtimeOfModels.append(time.time()-time1)"
      ],
      "metadata": {
        "colab": {
          "base_uri": "https://localhost:8080/"
        },
        "id": "N7eQkS5FqckQ",
        "outputId": "b70ac783-ca84-4f22-966a-e0438ee63f6f"
      },
      "execution_count": 49,
      "outputs": [
        {
          "output_type": "stream",
          "name": "stdout",
          "text": [
            "+--------------------+-----------------+-------------+----------+\n",
            "|      final_features|Attrition_indexed|rawPrediction|prediction|\n",
            "+--------------------+-----------------+-------------+----------+\n",
            "|[3.0,1.0,1.0,3.0,...|              0.0| [1197.0,0.0]|       0.0|\n",
            "|[3.0,1.0,1.0,3.0,...|              0.0| [1197.0,0.0]|       0.0|\n",
            "|[3.0,1.0,1.0,3.0,...|              1.0|  [0.0,158.0]|       1.0|\n",
            "|[3.0,0.0,4.0,3.0,...|              0.0| [1197.0,0.0]|       0.0|\n",
            "|(45,[0,1,2,3,7,8,...|              0.0| [1197.0,0.0]|       0.0|\n",
            "|[3.0,1.0,1.0,3.0,...|              0.0| [1197.0,0.0]|       0.0|\n",
            "|(45,[0,2,3,5,7,8,...|              0.0| [1197.0,0.0]|       0.0|\n",
            "|(45,[0,1,2,3,5,7,...|              0.0| [1197.0,0.0]|       0.0|\n",
            "|[3.0,1.0,1.0,1.0,...|              1.0|  [0.0,158.0]|       1.0|\n",
            "|(45,[0,2,3,7,8,13...|              0.0| [1197.0,0.0]|       0.0|\n",
            "|[3.0,2.0,2.0,1.0,...|              0.0| [1197.0,0.0]|       0.0|\n",
            "|[3.0,1.0,2.0,2.0,...|              0.0| [1197.0,0.0]|       0.0|\n",
            "|[4.0,0.0,2.0,2.0,...|              0.0| [1197.0,0.0]|       0.0|\n",
            "|[4.0,3.0,3.0,2.0,...|              0.0| [1197.0,0.0]|       0.0|\n",
            "|[3.0,3.0,1.0,3.0,...|              0.0| [1197.0,0.0]|       0.0|\n",
            "|(45,[0,1,2,3,4,8,...|              1.0|  [0.0,158.0]|       1.0|\n",
            "|[3.0,1.0,1.0,3.0,...|              1.0|  [0.0,158.0]|       1.0|\n",
            "|[4.0,1.0,1.0,3.0,...|              0.0| [1197.0,0.0]|       0.0|\n",
            "|(45,[0,2,3,4,7,8,...|              0.0| [1197.0,0.0]|       0.0|\n",
            "|[3.0,0.0,1.0,3.0,...|              0.0| [1197.0,0.0]|       0.0|\n",
            "+--------------------+-----------------+-------------+----------+\n",
            "only showing top 20 rows\n",
            "\n",
            "None\n",
            "The model has areaUnderROC value of 1.0\n"
          ]
        }
      ]
    },
    {
      "cell_type": "markdown",
      "source": [
        "## 4. GBTClassifier\n",
        "Gradient Boost"
      ],
      "metadata": {
        "id": "p4oOYChYBEE1"
      }
    },
    {
      "cell_type": "code",
      "source": [
        "time1=time.time()\n",
        "\n",
        "model=GBTClassifier(featuresCol=final_vec_obj.getOutputCol(),labelCol=\"Attrition_indexed\")\n",
        "GBTClassifier_results=model.fit(train).transform(test)\n",
        "print(GBTClassifier_results.select(model.getFeaturesCol(),model.getLabelCol(),'rawPrediction','prediction').show())\n",
        "model_metric[str(model).split(\"_\")[0]]=evaluation_function(GBTClassifier_results)\n",
        "\n",
        "runtimeOfModels.append(time.time()-time1)\n"
      ],
      "metadata": {
        "colab": {
          "base_uri": "https://localhost:8080/"
        },
        "id": "_UZB1U4qqd59",
        "outputId": "568a989a-6cbb-4a53-dc27-8b79c062377b"
      },
      "execution_count": 50,
      "outputs": [
        {
          "output_type": "stream",
          "name": "stdout",
          "text": [
            "+--------------------+-----------------+--------------------+----------+\n",
            "|      final_features|Attrition_indexed|       rawPrediction|prediction|\n",
            "+--------------------+-----------------+--------------------+----------+\n",
            "|[3.0,1.0,1.0,3.0,...|              0.0|[1.54350200272498...|       0.0|\n",
            "|[3.0,1.0,1.0,3.0,...|              0.0|[1.54350200272498...|       0.0|\n",
            "|[3.0,1.0,1.0,3.0,...|              1.0|[-1.5435020027249...|       1.0|\n",
            "|[3.0,0.0,4.0,3.0,...|              0.0|[1.54350200272498...|       0.0|\n",
            "|(45,[0,1,2,3,7,8,...|              0.0|[1.54350200272498...|       0.0|\n",
            "|[3.0,1.0,1.0,3.0,...|              0.0|[1.54350200272498...|       0.0|\n",
            "|(45,[0,2,3,5,7,8,...|              0.0|[1.54350200272498...|       0.0|\n",
            "|(45,[0,1,2,3,5,7,...|              0.0|[1.54350200272498...|       0.0|\n",
            "|[3.0,1.0,1.0,1.0,...|              1.0|[-1.5435020027249...|       1.0|\n",
            "|(45,[0,2,3,7,8,13...|              0.0|[1.54350200272498...|       0.0|\n",
            "|[3.0,2.0,2.0,1.0,...|              0.0|[1.54350200272498...|       0.0|\n",
            "|[3.0,1.0,2.0,2.0,...|              0.0|[1.54350200272498...|       0.0|\n",
            "|[4.0,0.0,2.0,2.0,...|              0.0|[1.54350200272498...|       0.0|\n",
            "|[4.0,3.0,3.0,2.0,...|              0.0|[1.54350200272498...|       0.0|\n",
            "|[3.0,3.0,1.0,3.0,...|              0.0|[1.54350200272498...|       0.0|\n",
            "|(45,[0,1,2,3,4,8,...|              1.0|[-1.5435020027249...|       1.0|\n",
            "|[3.0,1.0,1.0,3.0,...|              1.0|[-1.5435020027249...|       1.0|\n",
            "|[4.0,1.0,1.0,3.0,...|              0.0|[1.54350200272498...|       0.0|\n",
            "|(45,[0,2,3,4,7,8,...|              0.0|[1.54350200272498...|       0.0|\n",
            "|[3.0,0.0,1.0,3.0,...|              0.0|[1.54350200272498...|       0.0|\n",
            "+--------------------+-----------------+--------------------+----------+\n",
            "only showing top 20 rows\n",
            "\n",
            "None\n",
            "The model has areaUnderROC value of 1.0\n"
          ]
        }
      ]
    },
    {
      "cell_type": "markdown",
      "source": [
        "## 5. RandomForestClassifier"
      ],
      "metadata": {
        "id": "w6JBqvmDBHl6"
      }
    },
    {
      "cell_type": "code",
      "source": [
        "time1=time.time()\n",
        "\n",
        "model=RandomForestClassifier(featuresCol=final_vec_obj.getOutputCol(),labelCol=\"Attrition_indexed\")\n",
        "RandomForestClassifier_results=model.fit(train).transform(test)\n",
        "print(RandomForestClassifier_results.select(model.getFeaturesCol(),model.getLabelCol(),'rawPrediction','prediction').show())\n",
        "model_metric[str(model).split(\"_\")[0]]=evaluation_function(RandomForestClassifier_results)\n",
        "\n",
        "runtimeOfModels.append(time.time()-time1)"
      ],
      "metadata": {
        "colab": {
          "base_uri": "https://localhost:8080/"
        },
        "id": "RIO_C-SgqeYt",
        "outputId": "4b828f8c-478c-499c-a491-0e9bbf14a048"
      },
      "execution_count": 51,
      "outputs": [
        {
          "output_type": "stream",
          "name": "stdout",
          "text": [
            "+--------------------+-----------------+--------------------+----------+\n",
            "|      final_features|Attrition_indexed|       rawPrediction|prediction|\n",
            "+--------------------+-----------------+--------------------+----------+\n",
            "|[3.0,1.0,1.0,3.0,...|              0.0|[18.3629132411206...|       0.0|\n",
            "|[3.0,1.0,1.0,3.0,...|              0.0|[18.2961173754875...|       0.0|\n",
            "|[3.0,1.0,1.0,3.0,...|              1.0|[8.21483074998593...|       1.0|\n",
            "|[3.0,0.0,4.0,3.0,...|              0.0|[19.8546296398154...|       0.0|\n",
            "|(45,[0,1,2,3,7,8,...|              0.0|[19.3272417182321...|       0.0|\n",
            "|[3.0,1.0,1.0,3.0,...|              0.0|[18.1780065398116...|       0.0|\n",
            "|(45,[0,2,3,5,7,8,...|              0.0|[19.0255466209770...|       0.0|\n",
            "|(45,[0,1,2,3,5,7,...|              0.0|[19.5845521693725...|       0.0|\n",
            "|[3.0,1.0,1.0,1.0,...|              1.0|[4.67497455872548...|       1.0|\n",
            "|(45,[0,2,3,7,8,13...|              0.0|[19.6722363629024...|       0.0|\n",
            "|[3.0,2.0,2.0,1.0,...|              0.0|[18.6521836012164...|       0.0|\n",
            "|[3.0,1.0,2.0,2.0,...|              0.0|[19.4388089315773...|       0.0|\n",
            "|[4.0,0.0,2.0,2.0,...|              0.0|[19.7448511880403...|       0.0|\n",
            "|[4.0,3.0,3.0,2.0,...|              0.0|[19.8602349362365...|       0.0|\n",
            "|[3.0,3.0,1.0,3.0,...|              0.0|[19.0666729987703...|       0.0|\n",
            "|(45,[0,1,2,3,4,8,...|              1.0|[5.39760287248479...|       1.0|\n",
            "|[3.0,1.0,1.0,3.0,...|              1.0|[5.49817721736478...|       1.0|\n",
            "|[4.0,1.0,1.0,3.0,...|              0.0|[19.1970816576323...|       0.0|\n",
            "|(45,[0,2,3,4,7,8,...|              0.0|[17.7156269286327...|       0.0|\n",
            "|[3.0,0.0,1.0,3.0,...|              0.0|[18.5556610980532...|       0.0|\n",
            "+--------------------+-----------------+--------------------+----------+\n",
            "only showing top 20 rows\n",
            "\n",
            "None\n",
            "The model has areaUnderROC value of 1.0\n"
          ]
        }
      ]
    },
    {
      "cell_type": "markdown",
      "source": [
        "## Model Evaluation"
      ],
      "metadata": {
        "id": "avtLxBLMa2Sl"
      }
    },
    {
      "cell_type": "markdown",
      "source": [
        "### Create a dataframe of all the models and their metrics"
      ],
      "metadata": {
        "id": "ULuYPjkqYS3h"
      }
    },
    {
      "cell_type": "code",
      "source": [
        "model_metric={'Model Name':list(model_metric.keys()),'areaUnderROC':list(model_metric.values()),'Model runtime':runtimeOfModels}\n",
        "model_metric_df=pd.DataFrame(model_metric)\n",
        "model_metric_df"
      ],
      "metadata": {
        "colab": {
          "base_uri": "https://localhost:8080/",
          "height": 206
        },
        "id": "5BhVHGeEAjJR",
        "outputId": "4e3732de-be16-4492-80d5-d39f87a025fb"
      },
      "execution_count": 52,
      "outputs": [
        {
          "output_type": "execute_result",
          "data": {
            "text/plain": [
              "               Model Name  areaUnderROC  Model runtime\n",
              "0      LogisticRegression           1.0      10.708706\n",
              "1               LinearSVC           1.0       6.592669\n",
              "2  DecisionTreeClassifier           1.0       4.128618\n",
              "3           GBTClassifier           1.0      14.072351\n",
              "4  RandomForestClassifier           1.0       4.665995"
            ],
            "text/html": [
              "\n",
              "  <div id=\"df-e8c774de-4b37-40ce-94e5-ed6a2c5b903f\">\n",
              "    <div class=\"colab-df-container\">\n",
              "      <div>\n",
              "<style scoped>\n",
              "    .dataframe tbody tr th:only-of-type {\n",
              "        vertical-align: middle;\n",
              "    }\n",
              "\n",
              "    .dataframe tbody tr th {\n",
              "        vertical-align: top;\n",
              "    }\n",
              "\n",
              "    .dataframe thead th {\n",
              "        text-align: right;\n",
              "    }\n",
              "</style>\n",
              "<table border=\"1\" class=\"dataframe\">\n",
              "  <thead>\n",
              "    <tr style=\"text-align: right;\">\n",
              "      <th></th>\n",
              "      <th>Model Name</th>\n",
              "      <th>areaUnderROC</th>\n",
              "      <th>Model runtime</th>\n",
              "    </tr>\n",
              "  </thead>\n",
              "  <tbody>\n",
              "    <tr>\n",
              "      <th>0</th>\n",
              "      <td>LogisticRegression</td>\n",
              "      <td>1.0</td>\n",
              "      <td>10.708706</td>\n",
              "    </tr>\n",
              "    <tr>\n",
              "      <th>1</th>\n",
              "      <td>LinearSVC</td>\n",
              "      <td>1.0</td>\n",
              "      <td>6.592669</td>\n",
              "    </tr>\n",
              "    <tr>\n",
              "      <th>2</th>\n",
              "      <td>DecisionTreeClassifier</td>\n",
              "      <td>1.0</td>\n",
              "      <td>4.128618</td>\n",
              "    </tr>\n",
              "    <tr>\n",
              "      <th>3</th>\n",
              "      <td>GBTClassifier</td>\n",
              "      <td>1.0</td>\n",
              "      <td>14.072351</td>\n",
              "    </tr>\n",
              "    <tr>\n",
              "      <th>4</th>\n",
              "      <td>RandomForestClassifier</td>\n",
              "      <td>1.0</td>\n",
              "      <td>4.665995</td>\n",
              "    </tr>\n",
              "  </tbody>\n",
              "</table>\n",
              "</div>\n",
              "      <button class=\"colab-df-convert\" onclick=\"convertToInteractive('df-e8c774de-4b37-40ce-94e5-ed6a2c5b903f')\"\n",
              "              title=\"Convert this dataframe to an interactive table.\"\n",
              "              style=\"display:none;\">\n",
              "        \n",
              "  <svg xmlns=\"http://www.w3.org/2000/svg\" height=\"24px\"viewBox=\"0 0 24 24\"\n",
              "       width=\"24px\">\n",
              "    <path d=\"M0 0h24v24H0V0z\" fill=\"none\"/>\n",
              "    <path d=\"M18.56 5.44l.94 2.06.94-2.06 2.06-.94-2.06-.94-.94-2.06-.94 2.06-2.06.94zm-11 1L8.5 8.5l.94-2.06 2.06-.94-2.06-.94L8.5 2.5l-.94 2.06-2.06.94zm10 10l.94 2.06.94-2.06 2.06-.94-2.06-.94-.94-2.06-.94 2.06-2.06.94z\"/><path d=\"M17.41 7.96l-1.37-1.37c-.4-.4-.92-.59-1.43-.59-.52 0-1.04.2-1.43.59L10.3 9.45l-7.72 7.72c-.78.78-.78 2.05 0 2.83L4 21.41c.39.39.9.59 1.41.59.51 0 1.02-.2 1.41-.59l7.78-7.78 2.81-2.81c.8-.78.8-2.07 0-2.86zM5.41 20L4 18.59l7.72-7.72 1.47 1.35L5.41 20z\"/>\n",
              "  </svg>\n",
              "      </button>\n",
              "      \n",
              "  <style>\n",
              "    .colab-df-container {\n",
              "      display:flex;\n",
              "      flex-wrap:wrap;\n",
              "      gap: 12px;\n",
              "    }\n",
              "\n",
              "    .colab-df-convert {\n",
              "      background-color: #E8F0FE;\n",
              "      border: none;\n",
              "      border-radius: 50%;\n",
              "      cursor: pointer;\n",
              "      display: none;\n",
              "      fill: #1967D2;\n",
              "      height: 32px;\n",
              "      padding: 0 0 0 0;\n",
              "      width: 32px;\n",
              "    }\n",
              "\n",
              "    .colab-df-convert:hover {\n",
              "      background-color: #E2EBFA;\n",
              "      box-shadow: 0px 1px 2px rgba(60, 64, 67, 0.3), 0px 1px 3px 1px rgba(60, 64, 67, 0.15);\n",
              "      fill: #174EA6;\n",
              "    }\n",
              "\n",
              "    [theme=dark] .colab-df-convert {\n",
              "      background-color: #3B4455;\n",
              "      fill: #D2E3FC;\n",
              "    }\n",
              "\n",
              "    [theme=dark] .colab-df-convert:hover {\n",
              "      background-color: #434B5C;\n",
              "      box-shadow: 0px 1px 3px 1px rgba(0, 0, 0, 0.15);\n",
              "      filter: drop-shadow(0px 1px 2px rgba(0, 0, 0, 0.3));\n",
              "      fill: #FFFFFF;\n",
              "    }\n",
              "  </style>\n",
              "\n",
              "      <script>\n",
              "        const buttonEl =\n",
              "          document.querySelector('#df-e8c774de-4b37-40ce-94e5-ed6a2c5b903f button.colab-df-convert');\n",
              "        buttonEl.style.display =\n",
              "          google.colab.kernel.accessAllowed ? 'block' : 'none';\n",
              "\n",
              "        async function convertToInteractive(key) {\n",
              "          const element = document.querySelector('#df-e8c774de-4b37-40ce-94e5-ed6a2c5b903f');\n",
              "          const dataTable =\n",
              "            await google.colab.kernel.invokeFunction('convertToInteractive',\n",
              "                                                     [key], {});\n",
              "          if (!dataTable) return;\n",
              "\n",
              "          const docLinkHtml = 'Like what you see? Visit the ' +\n",
              "            '<a target=\"_blank\" href=https://colab.research.google.com/notebooks/data_table.ipynb>data table notebook</a>'\n",
              "            + ' to learn more about interactive tables.';\n",
              "          element.innerHTML = '';\n",
              "          dataTable['output_type'] = 'display_data';\n",
              "          await google.colab.output.renderOutput(dataTable, element);\n",
              "          const docLink = document.createElement('div');\n",
              "          docLink.innerHTML = docLinkHtml;\n",
              "          element.appendChild(docLink);\n",
              "        }\n",
              "      </script>\n",
              "    </div>\n",
              "  </div>\n",
              "  "
            ]
          },
          "metadata": {},
          "execution_count": 52
        }
      ]
    },
    {
      "cell_type": "code",
      "source": [
        "# Sort by the ascending order of Model runtime as the Area Under ROC is same for all the Models.\n",
        "# Retrieve the fastest model\n",
        "model_metric_df.sort_values(\"Model runtime\")"
      ],
      "metadata": {
        "id": "Tn1C7sJihN-N",
        "colab": {
          "base_uri": "https://localhost:8080/",
          "height": 206
        },
        "outputId": "1cd25303-c662-4616-ee55-eac627673198"
      },
      "execution_count": 53,
      "outputs": [
        {
          "output_type": "execute_result",
          "data": {
            "text/plain": [
              "               Model Name  areaUnderROC  Model runtime\n",
              "2  DecisionTreeClassifier           1.0       4.128618\n",
              "4  RandomForestClassifier           1.0       4.665995\n",
              "1               LinearSVC           1.0       6.592669\n",
              "0      LogisticRegression           1.0      10.708706\n",
              "3           GBTClassifier           1.0      14.072351"
            ],
            "text/html": [
              "\n",
              "  <div id=\"df-09c98be3-f073-4517-9f97-04fd3db2e431\">\n",
              "    <div class=\"colab-df-container\">\n",
              "      <div>\n",
              "<style scoped>\n",
              "    .dataframe tbody tr th:only-of-type {\n",
              "        vertical-align: middle;\n",
              "    }\n",
              "\n",
              "    .dataframe tbody tr th {\n",
              "        vertical-align: top;\n",
              "    }\n",
              "\n",
              "    .dataframe thead th {\n",
              "        text-align: right;\n",
              "    }\n",
              "</style>\n",
              "<table border=\"1\" class=\"dataframe\">\n",
              "  <thead>\n",
              "    <tr style=\"text-align: right;\">\n",
              "      <th></th>\n",
              "      <th>Model Name</th>\n",
              "      <th>areaUnderROC</th>\n",
              "      <th>Model runtime</th>\n",
              "    </tr>\n",
              "  </thead>\n",
              "  <tbody>\n",
              "    <tr>\n",
              "      <th>2</th>\n",
              "      <td>DecisionTreeClassifier</td>\n",
              "      <td>1.0</td>\n",
              "      <td>4.128618</td>\n",
              "    </tr>\n",
              "    <tr>\n",
              "      <th>4</th>\n",
              "      <td>RandomForestClassifier</td>\n",
              "      <td>1.0</td>\n",
              "      <td>4.665995</td>\n",
              "    </tr>\n",
              "    <tr>\n",
              "      <th>1</th>\n",
              "      <td>LinearSVC</td>\n",
              "      <td>1.0</td>\n",
              "      <td>6.592669</td>\n",
              "    </tr>\n",
              "    <tr>\n",
              "      <th>0</th>\n",
              "      <td>LogisticRegression</td>\n",
              "      <td>1.0</td>\n",
              "      <td>10.708706</td>\n",
              "    </tr>\n",
              "    <tr>\n",
              "      <th>3</th>\n",
              "      <td>GBTClassifier</td>\n",
              "      <td>1.0</td>\n",
              "      <td>14.072351</td>\n",
              "    </tr>\n",
              "  </tbody>\n",
              "</table>\n",
              "</div>\n",
              "      <button class=\"colab-df-convert\" onclick=\"convertToInteractive('df-09c98be3-f073-4517-9f97-04fd3db2e431')\"\n",
              "              title=\"Convert this dataframe to an interactive table.\"\n",
              "              style=\"display:none;\">\n",
              "        \n",
              "  <svg xmlns=\"http://www.w3.org/2000/svg\" height=\"24px\"viewBox=\"0 0 24 24\"\n",
              "       width=\"24px\">\n",
              "    <path d=\"M0 0h24v24H0V0z\" fill=\"none\"/>\n",
              "    <path d=\"M18.56 5.44l.94 2.06.94-2.06 2.06-.94-2.06-.94-.94-2.06-.94 2.06-2.06.94zm-11 1L8.5 8.5l.94-2.06 2.06-.94-2.06-.94L8.5 2.5l-.94 2.06-2.06.94zm10 10l.94 2.06.94-2.06 2.06-.94-2.06-.94-.94-2.06-.94 2.06-2.06.94z\"/><path d=\"M17.41 7.96l-1.37-1.37c-.4-.4-.92-.59-1.43-.59-.52 0-1.04.2-1.43.59L10.3 9.45l-7.72 7.72c-.78.78-.78 2.05 0 2.83L4 21.41c.39.39.9.59 1.41.59.51 0 1.02-.2 1.41-.59l7.78-7.78 2.81-2.81c.8-.78.8-2.07 0-2.86zM5.41 20L4 18.59l7.72-7.72 1.47 1.35L5.41 20z\"/>\n",
              "  </svg>\n",
              "      </button>\n",
              "      \n",
              "  <style>\n",
              "    .colab-df-container {\n",
              "      display:flex;\n",
              "      flex-wrap:wrap;\n",
              "      gap: 12px;\n",
              "    }\n",
              "\n",
              "    .colab-df-convert {\n",
              "      background-color: #E8F0FE;\n",
              "      border: none;\n",
              "      border-radius: 50%;\n",
              "      cursor: pointer;\n",
              "      display: none;\n",
              "      fill: #1967D2;\n",
              "      height: 32px;\n",
              "      padding: 0 0 0 0;\n",
              "      width: 32px;\n",
              "    }\n",
              "\n",
              "    .colab-df-convert:hover {\n",
              "      background-color: #E2EBFA;\n",
              "      box-shadow: 0px 1px 2px rgba(60, 64, 67, 0.3), 0px 1px 3px 1px rgba(60, 64, 67, 0.15);\n",
              "      fill: #174EA6;\n",
              "    }\n",
              "\n",
              "    [theme=dark] .colab-df-convert {\n",
              "      background-color: #3B4455;\n",
              "      fill: #D2E3FC;\n",
              "    }\n",
              "\n",
              "    [theme=dark] .colab-df-convert:hover {\n",
              "      background-color: #434B5C;\n",
              "      box-shadow: 0px 1px 3px 1px rgba(0, 0, 0, 0.15);\n",
              "      filter: drop-shadow(0px 1px 2px rgba(0, 0, 0, 0.3));\n",
              "      fill: #FFFFFF;\n",
              "    }\n",
              "  </style>\n",
              "\n",
              "      <script>\n",
              "        const buttonEl =\n",
              "          document.querySelector('#df-09c98be3-f073-4517-9f97-04fd3db2e431 button.colab-df-convert');\n",
              "        buttonEl.style.display =\n",
              "          google.colab.kernel.accessAllowed ? 'block' : 'none';\n",
              "\n",
              "        async function convertToInteractive(key) {\n",
              "          const element = document.querySelector('#df-09c98be3-f073-4517-9f97-04fd3db2e431');\n",
              "          const dataTable =\n",
              "            await google.colab.kernel.invokeFunction('convertToInteractive',\n",
              "                                                     [key], {});\n",
              "          if (!dataTable) return;\n",
              "\n",
              "          const docLinkHtml = 'Like what you see? Visit the ' +\n",
              "            '<a target=\"_blank\" href=https://colab.research.google.com/notebooks/data_table.ipynb>data table notebook</a>'\n",
              "            + ' to learn more about interactive tables.';\n",
              "          element.innerHTML = '';\n",
              "          dataTable['output_type'] = 'display_data';\n",
              "          await google.colab.output.renderOutput(dataTable, element);\n",
              "          const docLink = document.createElement('div');\n",
              "          docLink.innerHTML = docLinkHtml;\n",
              "          element.appendChild(docLink);\n",
              "        }\n",
              "      </script>\n",
              "    </div>\n",
              "  </div>\n",
              "  "
            ]
          },
          "metadata": {},
          "execution_count": 53
        }
      ]
    },
    {
      "cell_type": "markdown",
      "source": [
        "### Best Model"
      ],
      "metadata": {
        "id": "uEA9B8t1YZxb"
      }
    },
    {
      "cell_type": "code",
      "source": [
        "model_metric_df.sort_values(\"Model runtime\").head(1)"
      ],
      "metadata": {
        "id": "DBXCBaYbB8Uw",
        "colab": {
          "base_uri": "https://localhost:8080/",
          "height": 81
        },
        "outputId": "96f9467d-a242-418e-d7e9-3f428c576789"
      },
      "execution_count": 54,
      "outputs": [
        {
          "output_type": "execute_result",
          "data": {
            "text/plain": [
              "               Model Name  areaUnderROC  Model runtime\n",
              "2  DecisionTreeClassifier           1.0       4.128618"
            ],
            "text/html": [
              "\n",
              "  <div id=\"df-db6386f0-253e-48bc-b7ed-a7d7a3b3d5c3\">\n",
              "    <div class=\"colab-df-container\">\n",
              "      <div>\n",
              "<style scoped>\n",
              "    .dataframe tbody tr th:only-of-type {\n",
              "        vertical-align: middle;\n",
              "    }\n",
              "\n",
              "    .dataframe tbody tr th {\n",
              "        vertical-align: top;\n",
              "    }\n",
              "\n",
              "    .dataframe thead th {\n",
              "        text-align: right;\n",
              "    }\n",
              "</style>\n",
              "<table border=\"1\" class=\"dataframe\">\n",
              "  <thead>\n",
              "    <tr style=\"text-align: right;\">\n",
              "      <th></th>\n",
              "      <th>Model Name</th>\n",
              "      <th>areaUnderROC</th>\n",
              "      <th>Model runtime</th>\n",
              "    </tr>\n",
              "  </thead>\n",
              "  <tbody>\n",
              "    <tr>\n",
              "      <th>2</th>\n",
              "      <td>DecisionTreeClassifier</td>\n",
              "      <td>1.0</td>\n",
              "      <td>4.128618</td>\n",
              "    </tr>\n",
              "  </tbody>\n",
              "</table>\n",
              "</div>\n",
              "      <button class=\"colab-df-convert\" onclick=\"convertToInteractive('df-db6386f0-253e-48bc-b7ed-a7d7a3b3d5c3')\"\n",
              "              title=\"Convert this dataframe to an interactive table.\"\n",
              "              style=\"display:none;\">\n",
              "        \n",
              "  <svg xmlns=\"http://www.w3.org/2000/svg\" height=\"24px\"viewBox=\"0 0 24 24\"\n",
              "       width=\"24px\">\n",
              "    <path d=\"M0 0h24v24H0V0z\" fill=\"none\"/>\n",
              "    <path d=\"M18.56 5.44l.94 2.06.94-2.06 2.06-.94-2.06-.94-.94-2.06-.94 2.06-2.06.94zm-11 1L8.5 8.5l.94-2.06 2.06-.94-2.06-.94L8.5 2.5l-.94 2.06-2.06.94zm10 10l.94 2.06.94-2.06 2.06-.94-2.06-.94-.94-2.06-.94 2.06-2.06.94z\"/><path d=\"M17.41 7.96l-1.37-1.37c-.4-.4-.92-.59-1.43-.59-.52 0-1.04.2-1.43.59L10.3 9.45l-7.72 7.72c-.78.78-.78 2.05 0 2.83L4 21.41c.39.39.9.59 1.41.59.51 0 1.02-.2 1.41-.59l7.78-7.78 2.81-2.81c.8-.78.8-2.07 0-2.86zM5.41 20L4 18.59l7.72-7.72 1.47 1.35L5.41 20z\"/>\n",
              "  </svg>\n",
              "      </button>\n",
              "      \n",
              "  <style>\n",
              "    .colab-df-container {\n",
              "      display:flex;\n",
              "      flex-wrap:wrap;\n",
              "      gap: 12px;\n",
              "    }\n",
              "\n",
              "    .colab-df-convert {\n",
              "      background-color: #E8F0FE;\n",
              "      border: none;\n",
              "      border-radius: 50%;\n",
              "      cursor: pointer;\n",
              "      display: none;\n",
              "      fill: #1967D2;\n",
              "      height: 32px;\n",
              "      padding: 0 0 0 0;\n",
              "      width: 32px;\n",
              "    }\n",
              "\n",
              "    .colab-df-convert:hover {\n",
              "      background-color: #E2EBFA;\n",
              "      box-shadow: 0px 1px 2px rgba(60, 64, 67, 0.3), 0px 1px 3px 1px rgba(60, 64, 67, 0.15);\n",
              "      fill: #174EA6;\n",
              "    }\n",
              "\n",
              "    [theme=dark] .colab-df-convert {\n",
              "      background-color: #3B4455;\n",
              "      fill: #D2E3FC;\n",
              "    }\n",
              "\n",
              "    [theme=dark] .colab-df-convert:hover {\n",
              "      background-color: #434B5C;\n",
              "      box-shadow: 0px 1px 3px 1px rgba(0, 0, 0, 0.15);\n",
              "      filter: drop-shadow(0px 1px 2px rgba(0, 0, 0, 0.3));\n",
              "      fill: #FFFFFF;\n",
              "    }\n",
              "  </style>\n",
              "\n",
              "      <script>\n",
              "        const buttonEl =\n",
              "          document.querySelector('#df-db6386f0-253e-48bc-b7ed-a7d7a3b3d5c3 button.colab-df-convert');\n",
              "        buttonEl.style.display =\n",
              "          google.colab.kernel.accessAllowed ? 'block' : 'none';\n",
              "\n",
              "        async function convertToInteractive(key) {\n",
              "          const element = document.querySelector('#df-db6386f0-253e-48bc-b7ed-a7d7a3b3d5c3');\n",
              "          const dataTable =\n",
              "            await google.colab.kernel.invokeFunction('convertToInteractive',\n",
              "                                                     [key], {});\n",
              "          if (!dataTable) return;\n",
              "\n",
              "          const docLinkHtml = 'Like what you see? Visit the ' +\n",
              "            '<a target=\"_blank\" href=https://colab.research.google.com/notebooks/data_table.ipynb>data table notebook</a>'\n",
              "            + ' to learn more about interactive tables.';\n",
              "          element.innerHTML = '';\n",
              "          dataTable['output_type'] = 'display_data';\n",
              "          await google.colab.output.renderOutput(dataTable, element);\n",
              "          const docLink = document.createElement('div');\n",
              "          docLink.innerHTML = docLinkHtml;\n",
              "          element.appendChild(docLink);\n",
              "        }\n",
              "      </script>\n",
              "    </div>\n",
              "  </div>\n",
              "  "
            ]
          },
          "metadata": {},
          "execution_count": 54
        }
      ]
    },
    {
      "cell_type": "markdown",
      "source": [
        "## Inference"
      ],
      "metadata": {
        "id": "gmYXm5mpa5v-"
      }
    },
    {
      "cell_type": "markdown",
      "source": [
        "Based on this we understand that the RandomForestClassifier is the fastest, with a model train time of 2.64 seconds and AreaUnderROC as 1\n",
        "."
      ],
      "metadata": {
        "id": "W7VlutiXYGoM"
      }
    }
  ]
}